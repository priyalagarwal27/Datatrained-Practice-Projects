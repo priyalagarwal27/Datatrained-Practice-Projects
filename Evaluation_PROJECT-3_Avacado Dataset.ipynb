{
 "cells": [
  {
   "cell_type": "code",
   "execution_count": 4,
   "metadata": {},
   "outputs": [
    {
     "data": {
      "text/html": [
       "<div>\n",
       "<style scoped>\n",
       "    .dataframe tbody tr th:only-of-type {\n",
       "        vertical-align: middle;\n",
       "    }\n",
       "\n",
       "    .dataframe tbody tr th {\n",
       "        vertical-align: top;\n",
       "    }\n",
       "\n",
       "    .dataframe thead th {\n",
       "        text-align: right;\n",
       "    }\n",
       "</style>\n",
       "<table border=\"1\" class=\"dataframe\">\n",
       "  <thead>\n",
       "    <tr style=\"text-align: right;\">\n",
       "      <th></th>\n",
       "      <th>Unnamed: 0</th>\n",
       "      <th>Date</th>\n",
       "      <th>AveragePrice</th>\n",
       "      <th>Total Volume</th>\n",
       "      <th>4046</th>\n",
       "      <th>4225</th>\n",
       "      <th>4770</th>\n",
       "      <th>Total Bags</th>\n",
       "      <th>Small Bags</th>\n",
       "      <th>Large Bags</th>\n",
       "      <th>XLarge Bags</th>\n",
       "      <th>type</th>\n",
       "      <th>year</th>\n",
       "      <th>region</th>\n",
       "    </tr>\n",
       "  </thead>\n",
       "  <tbody>\n",
       "    <tr>\n",
       "      <th>0</th>\n",
       "      <td>0.0</td>\n",
       "      <td>27-12-2015</td>\n",
       "      <td>1.33</td>\n",
       "      <td>64236.62</td>\n",
       "      <td>1036.74</td>\n",
       "      <td>54454.85</td>\n",
       "      <td>48.16</td>\n",
       "      <td>8696.87</td>\n",
       "      <td>8603.62</td>\n",
       "      <td>93.25</td>\n",
       "      <td>0.0</td>\n",
       "      <td>conventional</td>\n",
       "      <td>2015.0</td>\n",
       "      <td>Albany</td>\n",
       "    </tr>\n",
       "    <tr>\n",
       "      <th>1</th>\n",
       "      <td>1.0</td>\n",
       "      <td>20-12-2015</td>\n",
       "      <td>1.35</td>\n",
       "      <td>54876.98</td>\n",
       "      <td>674.28</td>\n",
       "      <td>44638.81</td>\n",
       "      <td>58.33</td>\n",
       "      <td>9505.56</td>\n",
       "      <td>9408.07</td>\n",
       "      <td>97.49</td>\n",
       "      <td>0.0</td>\n",
       "      <td>conventional</td>\n",
       "      <td>2015.0</td>\n",
       "      <td>Albany</td>\n",
       "    </tr>\n",
       "    <tr>\n",
       "      <th>2</th>\n",
       "      <td>2.0</td>\n",
       "      <td>13-12-2015</td>\n",
       "      <td>0.93</td>\n",
       "      <td>118220.22</td>\n",
       "      <td>794.70</td>\n",
       "      <td>109149.67</td>\n",
       "      <td>130.50</td>\n",
       "      <td>8145.35</td>\n",
       "      <td>8042.21</td>\n",
       "      <td>103.14</td>\n",
       "      <td>0.0</td>\n",
       "      <td>conventional</td>\n",
       "      <td>2015.0</td>\n",
       "      <td>Albany</td>\n",
       "    </tr>\n",
       "    <tr>\n",
       "      <th>3</th>\n",
       "      <td>3.0</td>\n",
       "      <td>06-12-2015</td>\n",
       "      <td>1.08</td>\n",
       "      <td>78992.15</td>\n",
       "      <td>1132.00</td>\n",
       "      <td>71976.41</td>\n",
       "      <td>72.58</td>\n",
       "      <td>5811.16</td>\n",
       "      <td>5677.40</td>\n",
       "      <td>133.76</td>\n",
       "      <td>0.0</td>\n",
       "      <td>conventional</td>\n",
       "      <td>2015.0</td>\n",
       "      <td>Albany</td>\n",
       "    </tr>\n",
       "    <tr>\n",
       "      <th>4</th>\n",
       "      <td>4.0</td>\n",
       "      <td>29-11-2015</td>\n",
       "      <td>1.28</td>\n",
       "      <td>51039.60</td>\n",
       "      <td>941.48</td>\n",
       "      <td>43838.39</td>\n",
       "      <td>75.78</td>\n",
       "      <td>6183.95</td>\n",
       "      <td>5986.26</td>\n",
       "      <td>197.69</td>\n",
       "      <td>0.0</td>\n",
       "      <td>conventional</td>\n",
       "      <td>2015.0</td>\n",
       "      <td>Albany</td>\n",
       "    </tr>\n",
       "  </tbody>\n",
       "</table>\n",
       "</div>"
      ],
      "text/plain": [
       "   Unnamed: 0        Date  AveragePrice  Total Volume     4046       4225  \\\n",
       "0         0.0  27-12-2015          1.33      64236.62  1036.74   54454.85   \n",
       "1         1.0  20-12-2015          1.35      54876.98   674.28   44638.81   \n",
       "2         2.0  13-12-2015          0.93     118220.22   794.70  109149.67   \n",
       "3         3.0  06-12-2015          1.08      78992.15  1132.00   71976.41   \n",
       "4         4.0  29-11-2015          1.28      51039.60   941.48   43838.39   \n",
       "\n",
       "     4770  Total Bags  Small Bags  Large Bags  XLarge Bags          type  \\\n",
       "0   48.16     8696.87     8603.62       93.25          0.0  conventional   \n",
       "1   58.33     9505.56     9408.07       97.49          0.0  conventional   \n",
       "2  130.50     8145.35     8042.21      103.14          0.0  conventional   \n",
       "3   72.58     5811.16     5677.40      133.76          0.0  conventional   \n",
       "4   75.78     6183.95     5986.26      197.69          0.0  conventional   \n",
       "\n",
       "     year  region  \n",
       "0  2015.0  Albany  \n",
       "1  2015.0  Albany  \n",
       "2  2015.0  Albany  \n",
       "3  2015.0  Albany  \n",
       "4  2015.0  Albany  "
      ]
     },
     "execution_count": 4,
     "metadata": {},
     "output_type": "execute_result"
    }
   ],
   "source": [
    "#Importing all necessary libraries \n",
    "import pandas as pd\n",
    "import numpy as np\n",
    "import matplotlib.pyplot as plt\n",
    "import seaborn as sns\n",
    "from sklearn.metrics import r2_score,mean_absolute_error,mean_squared_error\n",
    "from sklearn.linear_model import LogisticRegression,Lasso,LinearRegression\n",
    "from sklearn.neighbors import KNeighborsRegressor\n",
    "from sklearn.ensemble import RandomForestRegressor\n",
    "from sklearn.svm import SVR\n",
    "from sklearn import metrics\n",
    "from scipy.stats import zscore\n",
    "from sklearn.tree import DecisionTreeRegressor\n",
    "from sklearn.ensemble import AdaBoostRegressor,GradientBoostingRegressor\n",
    "from sklearn.preprocessing import LabelEncoder,StandardScaler\n",
    "from sklearn.model_selection import train_test_split,GridSearchCV\n",
    "from sklearn.decomposition import PCA\n",
    "from scipy.stats import zscore\n",
    "from sklearn.model_selection import cross_val_score\n",
    "\n",
    "#Importing the warnings\n",
    "\n",
    "import warnings\n",
    "warnings.filterwarnings('ignore')\n",
    "\n",
    "#Loading the dataset\n",
    "\n",
    "df_avocado=pd.read_csv(\"avocado.csv\")\n",
    "df_avocado.head()"
   ]
  },
  {
   "cell_type": "code",
   "execution_count": 5,
   "metadata": {},
   "outputs": [
    {
     "data": {
      "text/plain": [
       "Unnamed: 0      14951\n",
       "Date            14951\n",
       "AveragePrice    14951\n",
       "Total Volume    14951\n",
       "4046            14951\n",
       "4225            14951\n",
       "4770            14951\n",
       "Total Bags      14951\n",
       "Small Bags      14951\n",
       "Large Bags      14951\n",
       "XLarge Bags     14951\n",
       "type            14951\n",
       "year            14951\n",
       "region          14951\n",
       "dtype: int64"
      ]
     },
     "execution_count": 5,
     "metadata": {},
     "output_type": "execute_result"
    }
   ],
   "source": [
    "#getting all columns name and checking null values\n",
    "df_avocado.isnull().sum()"
   ]
  },
  {
   "cell_type": "markdown",
   "metadata": {},
   "source": [
    "Observation:\n",
    "    1. Null values are present . "
   ]
  },
  {
   "cell_type": "code",
   "execution_count": 7,
   "metadata": {},
   "outputs": [
    {
     "data": {
      "text/plain": [
       "Unnamed: 0      0\n",
       "Date            0\n",
       "AveragePrice    0\n",
       "Total Volume    0\n",
       "4046            0\n",
       "4225            0\n",
       "4770            0\n",
       "Total Bags      0\n",
       "Small Bags      0\n",
       "Large Bags      0\n",
       "XLarge Bags     0\n",
       "type            0\n",
       "year            0\n",
       "region          0\n",
       "dtype: int64"
      ]
     },
     "execution_count": 7,
     "metadata": {},
     "output_type": "execute_result"
    }
   ],
   "source": [
    "#as most of the rows are blank , we can drop them.\n",
    "df_avocado.dropna(axis=0,how=\"all\",inplace=True)\n",
    "#again checking null valuesp\n",
    "df_avocado.isnull().sum()"
   ]
  },
  {
   "cell_type": "markdown",
   "metadata": {},
   "source": [
    "Observation:\n",
    "    1. There are no null values present in the dataset."
   ]
  },
  {
   "cell_type": "code",
   "execution_count": 8,
   "metadata": {},
   "outputs": [
    {
     "data": {
      "image/png": "[encoded data removed]",
      "text/plain": [
       "<Figure size 432x288 with 2 Axes>"
      ]
     },
     "metadata": {
      "needs_background": "light"
     },
     "output_type": "display_data"
    }
   ],
   "source": [
    "#Null values using heatmap\n",
    "sns.heatmap(df_avocado.isnull())\n",
    "plt.show()"
   ]
  },
  {
   "cell_type": "markdown",
   "metadata": {},
   "source": [
    "Observation:\n",
    "    1.From this visualisation we can clearly see that there is no missing values present in our dataset"
   ]
  },
  {
   "cell_type": "code",
   "execution_count": 9,
   "metadata": {},
   "outputs": [
    {
     "data": {
      "text/plain": [
       "Unnamed: 0      float64\n",
       "Date             object\n",
       "AveragePrice    float64\n",
       "Total Volume    float64\n",
       "4046            float64\n",
       "4225            float64\n",
       "4770            float64\n",
       "Total Bags      float64\n",
       "Small Bags      float64\n",
       "Large Bags      float64\n",
       "XLarge Bags     float64\n",
       "type             object\n",
       "year            float64\n",
       "region           object\n",
       "dtype: object"
      ]
     },
     "execution_count": 9,
     "metadata": {},
     "output_type": "execute_result"
    }
   ],
   "source": [
    "#Lets check the datatypes of each column in datset.\n",
    "df_avocado.dtypes"
   ]
  },
  {
   "cell_type": "code",
   "execution_count": 10,
   "metadata": {},
   "outputs": [
    {
     "data": {
      "text/html": [
       "<div>\n",
       "<style scoped>\n",
       "    .dataframe tbody tr th:only-of-type {\n",
       "        vertical-align: middle;\n",
       "    }\n",
       "\n",
       "    .dataframe tbody tr th {\n",
       "        vertical-align: top;\n",
       "    }\n",
       "\n",
       "    .dataframe thead th {\n",
       "        text-align: right;\n",
       "    }\n",
       "</style>\n",
       "<table border=\"1\" class=\"dataframe\">\n",
       "  <thead>\n",
       "    <tr style=\"text-align: right;\">\n",
       "      <th></th>\n",
       "      <th>Unnamed: 0</th>\n",
       "      <th>Date</th>\n",
       "      <th>AveragePrice</th>\n",
       "      <th>Total Volume</th>\n",
       "      <th>4046</th>\n",
       "      <th>4225</th>\n",
       "      <th>4770</th>\n",
       "      <th>Total Bags</th>\n",
       "      <th>Small Bags</th>\n",
       "      <th>Large Bags</th>\n",
       "      <th>XLarge Bags</th>\n",
       "      <th>type</th>\n",
       "      <th>year</th>\n",
       "      <th>region</th>\n",
       "      <th>Month</th>\n",
       "      <th>Day</th>\n",
       "    </tr>\n",
       "  </thead>\n",
       "  <tbody>\n",
       "    <tr>\n",
       "      <th>0</th>\n",
       "      <td>0.0</td>\n",
       "      <td>2015-12-27</td>\n",
       "      <td>1.33</td>\n",
       "      <td>64236.62</td>\n",
       "      <td>1036.74</td>\n",
       "      <td>54454.85</td>\n",
       "      <td>48.16</td>\n",
       "      <td>8696.87</td>\n",
       "      <td>8603.62</td>\n",
       "      <td>93.25</td>\n",
       "      <td>0.0</td>\n",
       "      <td>conventional</td>\n",
       "      <td>2015.0</td>\n",
       "      <td>Albany</td>\n",
       "      <td>12</td>\n",
       "      <td>27</td>\n",
       "    </tr>\n",
       "    <tr>\n",
       "      <th>1</th>\n",
       "      <td>1.0</td>\n",
       "      <td>2015-12-20</td>\n",
       "      <td>1.35</td>\n",
       "      <td>54876.98</td>\n",
       "      <td>674.28</td>\n",
       "      <td>44638.81</td>\n",
       "      <td>58.33</td>\n",
       "      <td>9505.56</td>\n",
       "      <td>9408.07</td>\n",
       "      <td>97.49</td>\n",
       "      <td>0.0</td>\n",
       "      <td>conventional</td>\n",
       "      <td>2015.0</td>\n",
       "      <td>Albany</td>\n",
       "      <td>12</td>\n",
       "      <td>20</td>\n",
       "    </tr>\n",
       "    <tr>\n",
       "      <th>2</th>\n",
       "      <td>2.0</td>\n",
       "      <td>2015-12-13</td>\n",
       "      <td>0.93</td>\n",
       "      <td>118220.22</td>\n",
       "      <td>794.70</td>\n",
       "      <td>109149.67</td>\n",
       "      <td>130.50</td>\n",
       "      <td>8145.35</td>\n",
       "      <td>8042.21</td>\n",
       "      <td>103.14</td>\n",
       "      <td>0.0</td>\n",
       "      <td>conventional</td>\n",
       "      <td>2015.0</td>\n",
       "      <td>Albany</td>\n",
       "      <td>12</td>\n",
       "      <td>13</td>\n",
       "    </tr>\n",
       "    <tr>\n",
       "      <th>3</th>\n",
       "      <td>3.0</td>\n",
       "      <td>2015-06-12</td>\n",
       "      <td>1.08</td>\n",
       "      <td>78992.15</td>\n",
       "      <td>1132.00</td>\n",
       "      <td>71976.41</td>\n",
       "      <td>72.58</td>\n",
       "      <td>5811.16</td>\n",
       "      <td>5677.40</td>\n",
       "      <td>133.76</td>\n",
       "      <td>0.0</td>\n",
       "      <td>conventional</td>\n",
       "      <td>2015.0</td>\n",
       "      <td>Albany</td>\n",
       "      <td>6</td>\n",
       "      <td>12</td>\n",
       "    </tr>\n",
       "    <tr>\n",
       "      <th>4</th>\n",
       "      <td>4.0</td>\n",
       "      <td>2015-11-29</td>\n",
       "      <td>1.28</td>\n",
       "      <td>51039.60</td>\n",
       "      <td>941.48</td>\n",
       "      <td>43838.39</td>\n",
       "      <td>75.78</td>\n",
       "      <td>6183.95</td>\n",
       "      <td>5986.26</td>\n",
       "      <td>197.69</td>\n",
       "      <td>0.0</td>\n",
       "      <td>conventional</td>\n",
       "      <td>2015.0</td>\n",
       "      <td>Albany</td>\n",
       "      <td>11</td>\n",
       "      <td>29</td>\n",
       "    </tr>\n",
       "  </tbody>\n",
       "</table>\n",
       "</div>"
      ],
      "text/plain": [
       "   Unnamed: 0       Date  AveragePrice  Total Volume     4046       4225  \\\n",
       "0         0.0 2015-12-27          1.33      64236.62  1036.74   54454.85   \n",
       "1         1.0 2015-12-20          1.35      54876.98   674.28   44638.81   \n",
       "2         2.0 2015-12-13          0.93     118220.22   794.70  109149.67   \n",
       "3         3.0 2015-06-12          1.08      78992.15  1132.00   71976.41   \n",
       "4         4.0 2015-11-29          1.28      51039.60   941.48   43838.39   \n",
       "\n",
       "     4770  Total Bags  Small Bags  Large Bags  XLarge Bags          type  \\\n",
       "0   48.16     8696.87     8603.62       93.25          0.0  conventional   \n",
       "1   58.33     9505.56     9408.07       97.49          0.0  conventional   \n",
       "2  130.50     8145.35     8042.21      103.14          0.0  conventional   \n",
       "3   72.58     5811.16     5677.40      133.76          0.0  conventional   \n",
       "4   75.78     6183.95     5986.26      197.69          0.0  conventional   \n",
       "\n",
       "     year  region  Month  Day  \n",
       "0  2015.0  Albany     12   27  \n",
       "1  2015.0  Albany     12   20  \n",
       "2  2015.0  Albany     12   13  \n",
       "3  2015.0  Albany      6   12  \n",
       "4  2015.0  Albany     11   29  "
      ]
     },
     "execution_count": 10,
     "metadata": {},
     "output_type": "execute_result"
    }
   ],
   "source": [
    "#changing datatype into datetime format\n",
    "df_avocado[\"Date\"]=pd.to_datetime(df_avocado['Date'])\n",
    "df_avocado['Month']=df_avocado['Date'].apply(lambda x:x.month)\n",
    "df_avocado['Day']=df_avocado['Date'].apply(lambda x:x.day)\n",
    "df_avocado.head()"
   ]
  },
  {
   "cell_type": "code",
   "execution_count": 11,
   "metadata": {},
   "outputs": [
    {
     "name": "stdout",
     "output_type": "stream",
     "text": [
      "year\n",
      "2015.0    1.07\n",
      "2016.0    1.12\n",
      "Name: AveragePrice, dtype: float64\n",
      "Types of avocado are:  ['conventional']\n",
      "Different no. of regions is 51  :  ['Albany' 'Atlanta' 'BaltimoreWashington' 'Boise' 'Boston'\n",
      " 'BuffaloRochester' 'California' 'Charlotte' 'Chicago' 'Columbus'\n",
      " 'DallasFtWorth' 'Denver' 'Detroit' 'GrandRapids' 'GreatLakes'\n",
      " 'HarrisburgScranton' 'HartfordSpringfield' 'Houston' 'Indianapolis'\n",
      " 'Jacksonville' 'LasVegas' 'LosAngeles' 'Louisville' 'MiamiFtLauderdale'\n",
      " 'Midsouth' 'Nashville' 'NewYork' 'Northeast' 'NorthernNewEngland'\n",
      " 'Orlando' 'Philadelphia' 'PhoenixTucson' 'Pittsburgh' 'Plains' 'Portland'\n",
      " 'RaleighGreensboro' 'RichmondNorfolk' 'Roanoke' 'SanDiego' 'SanFrancisco'\n",
      " 'Seattle' 'SouthCarolina' 'SouthCentral' 'Southeast' 'Spokane' 'StLouis'\n",
      " 'Syracuse' 'Tampa' 'TotalUS' 'West' 'WestTexNewMexico']\n"
     ]
    }
   ],
   "source": [
    "#Understanding the data\n",
    "a = df_avocado.groupby(\"year\")['AveragePrice'].median()\n",
    "print(a)\n",
    "b = df_avocado[\"type\"].unique()\n",
    "print(\"Types of avocado are: \",b)\n",
    "c = df_avocado[\"region\"].unique()\n",
    "print(\"Different no. of regions is\",len(c), \" : \", c)"
   ]
  },
  {
   "cell_type": "markdown",
   "metadata": {},
   "source": [
    "Observation:\n",
    "    1.We now know that\n",
    "    \n",
    "    a) Two years data is available - 2015 and 2016\n",
    "    b) Only one type of avocado is there - conventional\n",
    "    c) 51 regions data is present in our dataset"
   ]
  },
  {
   "cell_type": "markdown",
   "metadata": {},
   "source": [
    "# Data Visualisation"
   ]
  },
  {
   "cell_type": "code",
   "execution_count": 12,
   "metadata": {},
   "outputs": [
    {
     "data": {
      "image/png": "[encoded data removed]",
      "text/plain": [
       "<Figure size 864x576 with 1 Axes>"
      ]
     },
     "metadata": {
      "needs_background": "light"
     },
     "output_type": "display_data"
    }
   ],
   "source": [
    "#first we will plot bargraph for average price variation by year and month\n",
    "plt.figure(figsize=[12,8])\n",
    "sns.barplot(x = 'year',y=\"AveragePrice\" ,data = df_avocado)\n",
    "plt.title(\"Years vs Average Avocado Price\")\n",
    "plt.show()"
   ]
  },
  {
   "cell_type": "markdown",
   "metadata": {},
   "source": [
    "Observation:\n",
    "\n",
    "    1. Average price is higher for 2016 as compared to 2015"
   ]
  },
  {
   "cell_type": "code",
   "execution_count": 13,
   "metadata": {},
   "outputs": [],
   "source": [
    "#we can drop unnamed column and type as they are irrelevant\n",
    "df_avocado.drop('Unnamed: 0',axis=1,inplace=True)\n",
    "df_avocado.drop('type',axis=1,inplace=True)"
   ]
  },
  {
   "cell_type": "code",
   "execution_count": 14,
   "metadata": {},
   "outputs": [
    {
     "data": {
      "image/png": "[encoded data removed]",
      "text/plain": [
       "<Figure size 864x576 with 1 Axes>"
      ]
     },
     "metadata": {
      "needs_background": "light"
     },
     "output_type": "display_data"
    }
   ],
   "source": [
    "plt.figure(figsize=(12,8))\n",
    "sns.lineplot(x=\"Month\", y=\"AveragePrice\", data=df_avocado, linewidth='4.0')\n",
    "plt.xticks((1,2,3,4,5,6,7,8,9,10,11,12))\n",
    "plt.title(\"Months vs Average Avocado Price\")\n",
    "plt.show()"
   ]
  },
  {
   "cell_type": "markdown",
   "metadata": {},
   "source": [
    "Observation:\n",
    "    \n",
    "    1. As per observation there is price increase in month of October-November"
   ]
  },
  {
   "cell_type": "code",
   "execution_count": 15,
   "metadata": {},
   "outputs": [
    {
     "data": {
      "image/png": "[encoded data removed]",
      "text/plain": [
       "<Figure size 1440x720 with 1 Axes>"
      ]
     },
     "metadata": {
      "needs_background": "light"
     },
     "output_type": "display_data"
    }
   ],
   "source": [
    "#Plotting the regionwise distribution of avocado price\n",
    "plt.figure(figsize=(20,10))\n",
    "sns.barplot(x=\"region\", y=\"AveragePrice\", data=df_avocado)\n",
    "plt.title(\"Average Avocado Price by Region\")\n",
    "plt.xticks(rotation= 90)\n",
    "plt.show()"
   ]
  },
  {
   "cell_type": "markdown",
   "metadata": {},
   "source": [
    "Observation:\n",
    "    \n",
    "    1.We observe that Syracuse and Philadelphia has highest avg. price."
   ]
  },
  {
   "cell_type": "code",
   "execution_count": 16,
   "metadata": {},
   "outputs": [
    {
     "data": {
      "text/html": [
       "<div>\n",
       "<style scoped>\n",
       "    .dataframe tbody tr th:only-of-type {\n",
       "        vertical-align: middle;\n",
       "    }\n",
       "\n",
       "    .dataframe tbody tr th {\n",
       "        vertical-align: top;\n",
       "    }\n",
       "\n",
       "    .dataframe thead th {\n",
       "        text-align: right;\n",
       "    }\n",
       "</style>\n",
       "<table border=\"1\" class=\"dataframe\">\n",
       "  <thead>\n",
       "    <tr style=\"text-align: right;\">\n",
       "      <th></th>\n",
       "      <th>AveragePrice</th>\n",
       "      <th>Total Volume</th>\n",
       "      <th>4046</th>\n",
       "      <th>4225</th>\n",
       "      <th>4770</th>\n",
       "      <th>Total Bags</th>\n",
       "      <th>Small Bags</th>\n",
       "      <th>Large Bags</th>\n",
       "      <th>XLarge Bags</th>\n",
       "      <th>year</th>\n",
       "      <th>Month</th>\n",
       "      <th>Day</th>\n",
       "    </tr>\n",
       "  </thead>\n",
       "  <tbody>\n",
       "    <tr>\n",
       "      <th>count</th>\n",
       "      <td>1517.000000</td>\n",
       "      <td>1.517000e+03</td>\n",
       "      <td>1.517000e+03</td>\n",
       "      <td>1.517000e+03</td>\n",
       "      <td>1.517000e+03</td>\n",
       "      <td>1.517000e+03</td>\n",
       "      <td>1.517000e+03</td>\n",
       "      <td>1.517000e+03</td>\n",
       "      <td>1517.000000</td>\n",
       "      <td>1517.000000</td>\n",
       "      <td>1517.000000</td>\n",
       "      <td>1517.000000</td>\n",
       "    </tr>\n",
       "    <tr>\n",
       "      <th>mean</th>\n",
       "      <td>1.074990</td>\n",
       "      <td>1.601879e+06</td>\n",
       "      <td>6.464387e+05</td>\n",
       "      <td>6.114375e+05</td>\n",
       "      <td>5.040550e+04</td>\n",
       "      <td>2.935974e+05</td>\n",
       "      <td>2.487736e+05</td>\n",
       "      <td>4.264205e+04</td>\n",
       "      <td>2181.771074</td>\n",
       "      <td>2015.162821</td>\n",
       "      <td>6.362558</td>\n",
       "      <td>15.253790</td>\n",
       "    </tr>\n",
       "    <tr>\n",
       "      <th>std</th>\n",
       "      <td>0.188891</td>\n",
       "      <td>4.433143e+06</td>\n",
       "      <td>1.947614e+06</td>\n",
       "      <td>1.672906e+06</td>\n",
       "      <td>1.377812e+05</td>\n",
       "      <td>7.579765e+05</td>\n",
       "      <td>6.474765e+05</td>\n",
       "      <td>1.182157e+05</td>\n",
       "      <td>7455.712144</td>\n",
       "      <td>0.369324</td>\n",
       "      <td>3.472146</td>\n",
       "      <td>8.965902</td>\n",
       "    </tr>\n",
       "    <tr>\n",
       "      <th>min</th>\n",
       "      <td>0.490000</td>\n",
       "      <td>3.875074e+04</td>\n",
       "      <td>4.677200e+02</td>\n",
       "      <td>1.783770e+03</td>\n",
       "      <td>0.000000e+00</td>\n",
       "      <td>3.311770e+03</td>\n",
       "      <td>3.311770e+03</td>\n",
       "      <td>0.000000e+00</td>\n",
       "      <td>0.000000</td>\n",
       "      <td>2015.000000</td>\n",
       "      <td>1.000000</td>\n",
       "      <td>1.000000</td>\n",
       "    </tr>\n",
       "    <tr>\n",
       "      <th>25%</th>\n",
       "      <td>0.980000</td>\n",
       "      <td>1.474700e+05</td>\n",
       "      <td>2.040034e+04</td>\n",
       "      <td>4.147606e+04</td>\n",
       "      <td>9.112500e+02</td>\n",
       "      <td>3.620689e+04</td>\n",
       "      <td>2.972722e+04</td>\n",
       "      <td>5.407400e+02</td>\n",
       "      <td>0.000000</td>\n",
       "      <td>2015.000000</td>\n",
       "      <td>3.000000</td>\n",
       "      <td>7.000000</td>\n",
       "    </tr>\n",
       "    <tr>\n",
       "      <th>50%</th>\n",
       "      <td>1.080000</td>\n",
       "      <td>4.027919e+05</td>\n",
       "      <td>8.175117e+04</td>\n",
       "      <td>1.186649e+05</td>\n",
       "      <td>7.688170e+03</td>\n",
       "      <td>7.397906e+04</td>\n",
       "      <td>6.237569e+04</td>\n",
       "      <td>5.044350e+03</td>\n",
       "      <td>0.000000</td>\n",
       "      <td>2015.000000</td>\n",
       "      <td>6.000000</td>\n",
       "      <td>15.000000</td>\n",
       "    </tr>\n",
       "    <tr>\n",
       "      <th>75%</th>\n",
       "      <td>1.190000</td>\n",
       "      <td>9.819751e+05</td>\n",
       "      <td>3.775785e+05</td>\n",
       "      <td>4.851503e+05</td>\n",
       "      <td>2.916730e+04</td>\n",
       "      <td>1.576097e+05</td>\n",
       "      <td>1.461994e+05</td>\n",
       "      <td>2.926767e+04</td>\n",
       "      <td>401.480000</td>\n",
       "      <td>2015.000000</td>\n",
       "      <td>9.000000</td>\n",
       "      <td>22.000000</td>\n",
       "    </tr>\n",
       "    <tr>\n",
       "      <th>max</th>\n",
       "      <td>1.680000</td>\n",
       "      <td>4.465546e+07</td>\n",
       "      <td>1.893304e+07</td>\n",
       "      <td>1.895648e+07</td>\n",
       "      <td>1.381516e+06</td>\n",
       "      <td>6.736304e+06</td>\n",
       "      <td>5.893642e+06</td>\n",
       "      <td>1.121076e+06</td>\n",
       "      <td>108072.790000</td>\n",
       "      <td>2016.000000</td>\n",
       "      <td>12.000000</td>\n",
       "      <td>31.000000</td>\n",
       "    </tr>\n",
       "  </tbody>\n",
       "</table>\n",
       "</div>"
      ],
      "text/plain": [
       "       AveragePrice  Total Volume          4046          4225          4770  \\\n",
       "count   1517.000000  1.517000e+03  1.517000e+03  1.517000e+03  1.517000e+03   \n",
       "mean       1.074990  1.601879e+06  6.464387e+05  6.114375e+05  5.040550e+04   \n",
       "std        0.188891  4.433143e+06  1.947614e+06  1.672906e+06  1.377812e+05   \n",
       "min        0.490000  3.875074e+04  4.677200e+02  1.783770e+03  0.000000e+00   \n",
       "25%        0.980000  1.474700e+05  2.040034e+04  4.147606e+04  9.112500e+02   \n",
       "50%        1.080000  4.027919e+05  8.175117e+04  1.186649e+05  7.688170e+03   \n",
       "75%        1.190000  9.819751e+05  3.775785e+05  4.851503e+05  2.916730e+04   \n",
       "max        1.680000  4.465546e+07  1.893304e+07  1.895648e+07  1.381516e+06   \n",
       "\n",
       "         Total Bags    Small Bags    Large Bags    XLarge Bags         year  \\\n",
       "count  1.517000e+03  1.517000e+03  1.517000e+03    1517.000000  1517.000000   \n",
       "mean   2.935974e+05  2.487736e+05  4.264205e+04    2181.771074  2015.162821   \n",
       "std    7.579765e+05  6.474765e+05  1.182157e+05    7455.712144     0.369324   \n",
       "min    3.311770e+03  3.311770e+03  0.000000e+00       0.000000  2015.000000   \n",
       "25%    3.620689e+04  2.972722e+04  5.407400e+02       0.000000  2015.000000   \n",
       "50%    7.397906e+04  6.237569e+04  5.044350e+03       0.000000  2015.000000   \n",
       "75%    1.576097e+05  1.461994e+05  2.926767e+04     401.480000  2015.000000   \n",
       "max    6.736304e+06  5.893642e+06  1.121076e+06  108072.790000  2016.000000   \n",
       "\n",
       "             Month          Day  \n",
       "count  1517.000000  1517.000000  \n",
       "mean      6.362558    15.253790  \n",
       "std       3.472146     8.965902  \n",
       "min       1.000000     1.000000  \n",
       "25%       3.000000     7.000000  \n",
       "50%       6.000000    15.000000  \n",
       "75%       9.000000    22.000000  \n",
       "max      12.000000    31.000000  "
      ]
     },
     "execution_count": 16,
     "metadata": {},
     "output_type": "execute_result"
    }
   ],
   "source": [
    "#Lets use the describe function \n",
    "df_avocado.describe()"
   ]
  },
  {
   "cell_type": "markdown",
   "metadata": {},
   "source": [
    "Observation:\n",
    "    1.Clearly some outliers are present in X-large and Total values column."
   ]
  },
  {
   "cell_type": "code",
   "execution_count": 17,
   "metadata": {},
   "outputs": [],
   "source": [
    "#we will tranform categorical data to float using label encoding for better analysis\n",
    "le = LabelEncoder()\n",
    "df_avocado[\"region\"] = le.fit_transform(df_avocado[\"region\"].astype(str))"
   ]
  },
  {
   "cell_type": "code",
   "execution_count": 18,
   "metadata": {},
   "outputs": [
    {
     "name": "stdout",
     "output_type": "stream",
     "text": [
      "Date            datetime64[ns]\n",
      "AveragePrice           float64\n",
      "Total Volume           float64\n",
      "4046                   float64\n",
      "4225                   float64\n",
      "4770                   float64\n",
      "Total Bags             float64\n",
      "Small Bags             float64\n",
      "Large Bags             float64\n",
      "XLarge Bags            float64\n",
      "year                   float64\n",
      "region                   int32\n",
      "Month                    int64\n",
      "Day                      int64\n",
      "dtype: object\n"
     ]
    },
    {
     "data": {
      "text/html": [
       "<div>\n",
       "<style scoped>\n",
       "    .dataframe tbody tr th:only-of-type {\n",
       "        vertical-align: middle;\n",
       "    }\n",
       "\n",
       "    .dataframe tbody tr th {\n",
       "        vertical-align: top;\n",
       "    }\n",
       "\n",
       "    .dataframe thead th {\n",
       "        text-align: right;\n",
       "    }\n",
       "</style>\n",
       "<table border=\"1\" class=\"dataframe\">\n",
       "  <thead>\n",
       "    <tr style=\"text-align: right;\">\n",
       "      <th></th>\n",
       "      <th>Date</th>\n",
       "      <th>AveragePrice</th>\n",
       "      <th>Total Volume</th>\n",
       "      <th>4046</th>\n",
       "      <th>4225</th>\n",
       "      <th>4770</th>\n",
       "      <th>Total Bags</th>\n",
       "      <th>Small Bags</th>\n",
       "      <th>Large Bags</th>\n",
       "      <th>XLarge Bags</th>\n",
       "      <th>year</th>\n",
       "      <th>region</th>\n",
       "      <th>Month</th>\n",
       "      <th>Day</th>\n",
       "    </tr>\n",
       "  </thead>\n",
       "  <tbody>\n",
       "    <tr>\n",
       "      <th>0</th>\n",
       "      <td>2015-12-27</td>\n",
       "      <td>1.33</td>\n",
       "      <td>64236.62</td>\n",
       "      <td>1036.74</td>\n",
       "      <td>54454.85</td>\n",
       "      <td>48.16</td>\n",
       "      <td>8696.87</td>\n",
       "      <td>8603.62</td>\n",
       "      <td>93.25</td>\n",
       "      <td>0.0</td>\n",
       "      <td>2015.0</td>\n",
       "      <td>0</td>\n",
       "      <td>12</td>\n",
       "      <td>27</td>\n",
       "    </tr>\n",
       "    <tr>\n",
       "      <th>1</th>\n",
       "      <td>2015-12-20</td>\n",
       "      <td>1.35</td>\n",
       "      <td>54876.98</td>\n",
       "      <td>674.28</td>\n",
       "      <td>44638.81</td>\n",
       "      <td>58.33</td>\n",
       "      <td>9505.56</td>\n",
       "      <td>9408.07</td>\n",
       "      <td>97.49</td>\n",
       "      <td>0.0</td>\n",
       "      <td>2015.0</td>\n",
       "      <td>0</td>\n",
       "      <td>12</td>\n",
       "      <td>20</td>\n",
       "    </tr>\n",
       "    <tr>\n",
       "      <th>2</th>\n",
       "      <td>2015-12-13</td>\n",
       "      <td>0.93</td>\n",
       "      <td>118220.22</td>\n",
       "      <td>794.70</td>\n",
       "      <td>109149.67</td>\n",
       "      <td>130.50</td>\n",
       "      <td>8145.35</td>\n",
       "      <td>8042.21</td>\n",
       "      <td>103.14</td>\n",
       "      <td>0.0</td>\n",
       "      <td>2015.0</td>\n",
       "      <td>0</td>\n",
       "      <td>12</td>\n",
       "      <td>13</td>\n",
       "    </tr>\n",
       "    <tr>\n",
       "      <th>3</th>\n",
       "      <td>2015-06-12</td>\n",
       "      <td>1.08</td>\n",
       "      <td>78992.15</td>\n",
       "      <td>1132.00</td>\n",
       "      <td>71976.41</td>\n",
       "      <td>72.58</td>\n",
       "      <td>5811.16</td>\n",
       "      <td>5677.40</td>\n",
       "      <td>133.76</td>\n",
       "      <td>0.0</td>\n",
       "      <td>2015.0</td>\n",
       "      <td>0</td>\n",
       "      <td>6</td>\n",
       "      <td>12</td>\n",
       "    </tr>\n",
       "    <tr>\n",
       "      <th>4</th>\n",
       "      <td>2015-11-29</td>\n",
       "      <td>1.28</td>\n",
       "      <td>51039.60</td>\n",
       "      <td>941.48</td>\n",
       "      <td>43838.39</td>\n",
       "      <td>75.78</td>\n",
       "      <td>6183.95</td>\n",
       "      <td>5986.26</td>\n",
       "      <td>197.69</td>\n",
       "      <td>0.0</td>\n",
       "      <td>2015.0</td>\n",
       "      <td>0</td>\n",
       "      <td>11</td>\n",
       "      <td>29</td>\n",
       "    </tr>\n",
       "  </tbody>\n",
       "</table>\n",
       "</div>"
      ],
      "text/plain": [
       "        Date  AveragePrice  Total Volume     4046       4225    4770  \\\n",
       "0 2015-12-27          1.33      64236.62  1036.74   54454.85   48.16   \n",
       "1 2015-12-20          1.35      54876.98   674.28   44638.81   58.33   \n",
       "2 2015-12-13          0.93     118220.22   794.70  109149.67  130.50   \n",
       "3 2015-06-12          1.08      78992.15  1132.00   71976.41   72.58   \n",
       "4 2015-11-29          1.28      51039.60   941.48   43838.39   75.78   \n",
       "\n",
       "   Total Bags  Small Bags  Large Bags  XLarge Bags    year  region  Month  Day  \n",
       "0     8696.87     8603.62       93.25          0.0  2015.0       0     12   27  \n",
       "1     9505.56     9408.07       97.49          0.0  2015.0       0     12   20  \n",
       "2     8145.35     8042.21      103.14          0.0  2015.0       0     12   13  \n",
       "3     5811.16     5677.40      133.76          0.0  2015.0       0      6   12  \n",
       "4     6183.95     5986.26      197.69          0.0  2015.0       0     11   29  "
      ]
     },
     "execution_count": 18,
     "metadata": {},
     "output_type": "execute_result"
    }
   ],
   "source": [
    "print(df_avocado.dtypes)\n",
    "df_avocado.head()"
   ]
  },
  {
   "cell_type": "code",
   "execution_count": 19,
   "metadata": {},
   "outputs": [],
   "source": [
    "#drop date column and converting rest to float\n",
    "df_avocado.drop('Date',axis=1,inplace=True)"
   ]
  },
  {
   "cell_type": "code",
   "execution_count": 20,
   "metadata": {},
   "outputs": [],
   "source": [
    "df_avocado.type  =df_avocado.astype(float)"
   ]
  },
  {
   "cell_type": "code",
   "execution_count": 21,
   "metadata": {},
   "outputs": [
    {
     "data": {
      "text/html": [
       "<div>\n",
       "<style scoped>\n",
       "    .dataframe tbody tr th:only-of-type {\n",
       "        vertical-align: middle;\n",
       "    }\n",
       "\n",
       "    .dataframe tbody tr th {\n",
       "        vertical-align: top;\n",
       "    }\n",
       "\n",
       "    .dataframe thead th {\n",
       "        text-align: right;\n",
       "    }\n",
       "</style>\n",
       "<table border=\"1\" class=\"dataframe\">\n",
       "  <thead>\n",
       "    <tr style=\"text-align: right;\">\n",
       "      <th></th>\n",
       "      <th>AveragePrice</th>\n",
       "      <th>Total Volume</th>\n",
       "      <th>4046</th>\n",
       "      <th>4225</th>\n",
       "      <th>4770</th>\n",
       "      <th>Total Bags</th>\n",
       "      <th>Small Bags</th>\n",
       "      <th>Large Bags</th>\n",
       "      <th>XLarge Bags</th>\n",
       "      <th>year</th>\n",
       "      <th>region</th>\n",
       "      <th>Month</th>\n",
       "      <th>Day</th>\n",
       "    </tr>\n",
       "  </thead>\n",
       "  <tbody>\n",
       "    <tr>\n",
       "      <th>0</th>\n",
       "      <td>1.33</td>\n",
       "      <td>64236.62</td>\n",
       "      <td>1036.74</td>\n",
       "      <td>54454.85</td>\n",
       "      <td>48.16</td>\n",
       "      <td>8696.87</td>\n",
       "      <td>8603.62</td>\n",
       "      <td>93.25</td>\n",
       "      <td>0.0</td>\n",
       "      <td>2015.0</td>\n",
       "      <td>0</td>\n",
       "      <td>12</td>\n",
       "      <td>27</td>\n",
       "    </tr>\n",
       "    <tr>\n",
       "      <th>1</th>\n",
       "      <td>1.35</td>\n",
       "      <td>54876.98</td>\n",
       "      <td>674.28</td>\n",
       "      <td>44638.81</td>\n",
       "      <td>58.33</td>\n",
       "      <td>9505.56</td>\n",
       "      <td>9408.07</td>\n",
       "      <td>97.49</td>\n",
       "      <td>0.0</td>\n",
       "      <td>2015.0</td>\n",
       "      <td>0</td>\n",
       "      <td>12</td>\n",
       "      <td>20</td>\n",
       "    </tr>\n",
       "    <tr>\n",
       "      <th>2</th>\n",
       "      <td>0.93</td>\n",
       "      <td>118220.22</td>\n",
       "      <td>794.70</td>\n",
       "      <td>109149.67</td>\n",
       "      <td>130.50</td>\n",
       "      <td>8145.35</td>\n",
       "      <td>8042.21</td>\n",
       "      <td>103.14</td>\n",
       "      <td>0.0</td>\n",
       "      <td>2015.0</td>\n",
       "      <td>0</td>\n",
       "      <td>12</td>\n",
       "      <td>13</td>\n",
       "    </tr>\n",
       "    <tr>\n",
       "      <th>3</th>\n",
       "      <td>1.08</td>\n",
       "      <td>78992.15</td>\n",
       "      <td>1132.00</td>\n",
       "      <td>71976.41</td>\n",
       "      <td>72.58</td>\n",
       "      <td>5811.16</td>\n",
       "      <td>5677.40</td>\n",
       "      <td>133.76</td>\n",
       "      <td>0.0</td>\n",
       "      <td>2015.0</td>\n",
       "      <td>0</td>\n",
       "      <td>6</td>\n",
       "      <td>12</td>\n",
       "    </tr>\n",
       "    <tr>\n",
       "      <th>4</th>\n",
       "      <td>1.28</td>\n",
       "      <td>51039.60</td>\n",
       "      <td>941.48</td>\n",
       "      <td>43838.39</td>\n",
       "      <td>75.78</td>\n",
       "      <td>6183.95</td>\n",
       "      <td>5986.26</td>\n",
       "      <td>197.69</td>\n",
       "      <td>0.0</td>\n",
       "      <td>2015.0</td>\n",
       "      <td>0</td>\n",
       "      <td>11</td>\n",
       "      <td>29</td>\n",
       "    </tr>\n",
       "  </tbody>\n",
       "</table>\n",
       "</div>"
      ],
      "text/plain": [
       "   AveragePrice  Total Volume     4046       4225    4770  Total Bags  \\\n",
       "0          1.33      64236.62  1036.74   54454.85   48.16     8696.87   \n",
       "1          1.35      54876.98   674.28   44638.81   58.33     9505.56   \n",
       "2          0.93     118220.22   794.70  109149.67  130.50     8145.35   \n",
       "3          1.08      78992.15  1132.00   71976.41   72.58     5811.16   \n",
       "4          1.28      51039.60   941.48   43838.39   75.78     6183.95   \n",
       "\n",
       "   Small Bags  Large Bags  XLarge Bags    year  region  Month  Day  \n",
       "0     8603.62       93.25          0.0  2015.0       0     12   27  \n",
       "1     9408.07       97.49          0.0  2015.0       0     12   20  \n",
       "2     8042.21      103.14          0.0  2015.0       0     12   13  \n",
       "3     5677.40      133.76          0.0  2015.0       0      6   12  \n",
       "4     5986.26      197.69          0.0  2015.0       0     11   29  "
      ]
     },
     "execution_count": 21,
     "metadata": {},
     "output_type": "execute_result"
    }
   ],
   "source": [
    "df_avocado.head()"
   ]
  },
  {
   "cell_type": "code",
   "execution_count": 22,
   "metadata": {},
   "outputs": [
    {
     "data": {
      "text/plain": [
       "<matplotlib.axes._subplots.AxesSubplot at 0x2a47cc0fa00>"
      ]
     },
     "execution_count": 22,
     "metadata": {},
     "output_type": "execute_result"
    },
    {
     "data": {
      "image/png": "[encoded data removed]",
      "text/plain": [
       "<Figure size 864x432 with 2 Axes>"
      ]
     },
     "metadata": {
      "needs_background": "light"
     },
     "output_type": "display_data"
    }
   ],
   "source": [
    "#checking correlation \n",
    "plt.figure(figsize=(12,6))\n",
    "sns.heatmap(df_avocado.corr(),cmap='coolwarm',annot=True)"
   ]
  },
  {
   "cell_type": "markdown",
   "metadata": {},
   "source": [
    "Observation:\n",
    "\n",
    "    1.No significant correlation is observed between average price and other variables.\n",
    "    \n",
    "    2.However good correlation is shown between other variables."
   ]
  },
  {
   "cell_type": "code",
   "execution_count": 24,
   "metadata": {},
   "outputs": [
    {
     "data": {
      "text/plain": [
       "array([[<matplotlib.axes._subplots.AxesSubplot object at 0x000002A47DDEB820>,\n",
       "        <matplotlib.axes._subplots.AxesSubplot object at 0x000002A47D87A0A0>,\n",
       "        <matplotlib.axes._subplots.AxesSubplot object at 0x000002A47D3DE730>,\n",
       "        <matplotlib.axes._subplots.AxesSubplot object at 0x000002A47D86F1F0>],\n",
       "       [<matplotlib.axes._subplots.AxesSubplot object at 0x000002A47D40A970>,\n",
       "        <matplotlib.axes._subplots.AxesSubplot object at 0x000002A47CF73850>,\n",
       "        <matplotlib.axes._subplots.AxesSubplot object at 0x000002A47CF73C10>,\n",
       "        <matplotlib.axes._subplots.AxesSubplot object at 0x000002A47CF27040>],\n",
       "       [<matplotlib.axes._subplots.AxesSubplot object at 0x000002A47CDDB070>,\n",
       "        <matplotlib.axes._subplots.AxesSubplot object at 0x000002A47CDE7160>,\n",
       "        <matplotlib.axes._subplots.AxesSubplot object at 0x000002A47CE7E430>,\n",
       "        <matplotlib.axes._subplots.AxesSubplot object at 0x000002A47CE4FBB0>],\n",
       "       [<matplotlib.axes._subplots.AxesSubplot object at 0x000002A47D3E5A90>,\n",
       "        <matplotlib.axes._subplots.AxesSubplot object at 0x000002A47D29F0A0>,\n",
       "        <matplotlib.axes._subplots.AxesSubplot object at 0x000002A47D3456A0>,\n",
       "        <matplotlib.axes._subplots.AxesSubplot object at 0x000002A47CC51AF0>]],\n",
       "      dtype=object)"
      ]
     },
     "execution_count": 24,
     "metadata": {},
     "output_type": "execute_result"
    },
    {
     "data": {
      "image/png": "[encoded data removed]",
      "text/plain": [
       "<Figure size 1080x1080 with 16 Axes>"
      ]
     },
     "metadata": {
      "needs_background": "light"
     },
     "output_type": "display_data"
    }
   ],
   "source": [
    "#Now plotting histogram for univariate analysis\n",
    "df_avocado.hist(figsize=(15,15), layout=(4,4), bins=20)"
   ]
  },
  {
   "cell_type": "code",
   "execution_count": 25,
   "metadata": {},
   "outputs": [
    {
     "data": {
      "text/plain": [
       "AveragePrice   -0.109444\n",
       "Total Volume    6.200138\n",
       "4046            6.051830\n",
       "4225            6.394926\n",
       "4770            5.405164\n",
       "Total Bags      5.366378\n",
       "Small Bags      5.355185\n",
       "Large Bags      5.144495\n",
       "XLarge Bags     5.775077\n",
       "year            1.828332\n",
       "region          0.288146\n",
       "Month           0.101439\n",
       "Day             0.041303\n",
       "dtype: float64"
      ]
     },
     "execution_count": 25,
     "metadata": {},
     "output_type": "execute_result"
    }
   ],
   "source": [
    "#We can see that except average price , rest of the data is skewed towards left. So we will use skew\n",
    "\n",
    "df_avocado.skew()"
   ]
  },
  {
   "cell_type": "code",
   "execution_count": 26,
   "metadata": {},
   "outputs": [
    {
     "data": {
      "text/plain": [
       "AveragePrice   -0.109444\n",
       "Total Volume    0.667468\n",
       "4046           -0.160268\n",
       "4225            0.184436\n",
       "4770           -0.355508\n",
       "Total Bags      0.695502\n",
       "Small Bags      0.713843\n",
       "Large Bags     -0.912766\n",
       "XLarge Bags     0.783913\n",
       "year            1.828332\n",
       "region          0.288146\n",
       "Month           0.101439\n",
       "Day             0.041303\n",
       "dtype: float64"
      ]
     },
     "execution_count": 26,
     "metadata": {},
     "output_type": "execute_result"
    }
   ],
   "source": [
    "#since skewness is >0.55\n",
    "\n",
    "for col in df_avocado.columns:\n",
    "    if df_avocado[col].dtype == float:\n",
    "        if df_avocado[col].skew() > 0.55:\n",
    "            df_avocado[col]=np.log1p(df_avocado[col])\n",
    "            \n",
    "df_avocado.skew()"
   ]
  },
  {
   "cell_type": "markdown",
   "metadata": {},
   "source": [
    "Observation:  Now all have values less that <0.55."
   ]
  },
  {
   "cell_type": "code",
   "execution_count": 27,
   "metadata": {},
   "outputs": [
    {
     "data": {
      "text/plain": [
       "array([[<matplotlib.axes._subplots.AxesSubplot object at 0x000002A47D4FF340>,\n",
       "        <matplotlib.axes._subplots.AxesSubplot object at 0x000002A47D5404F0>,\n",
       "        <matplotlib.axes._subplots.AxesSubplot object at 0x000002A47D5CE0A0>,\n",
       "        <matplotlib.axes._subplots.AxesSubplot object at 0x000002A47D5FF7C0>],\n",
       "       [<matplotlib.axes._subplots.AxesSubplot object at 0x000002A47D629F40>,\n",
       "        <matplotlib.axes._subplots.AxesSubplot object at 0x000002A47D65D670>,\n",
       "        <matplotlib.axes._subplots.AxesSubplot object at 0x000002A47D65D760>,\n",
       "        <matplotlib.axes._subplots.AxesSubplot object at 0x000002A47D686F10>],\n",
       "       [<matplotlib.axes._subplots.AxesSubplot object at 0x000002A47D6E3DC0>,\n",
       "        <matplotlib.axes._subplots.AxesSubplot object at 0x000002A47D71B580>,\n",
       "        <matplotlib.axes._subplots.AxesSubplot object at 0x000002A47D746D00>,\n",
       "        <matplotlib.axes._subplots.AxesSubplot object at 0x000002A47DEAD2E0>],\n",
       "       [<matplotlib.axes._subplots.AxesSubplot object at 0x000002A47CF006D0>,\n",
       "        <matplotlib.axes._subplots.AxesSubplot object at 0x000002A47D4B76D0>,\n",
       "        <matplotlib.axes._subplots.AxesSubplot object at 0x000002A47D50E520>,\n",
       "        <matplotlib.axes._subplots.AxesSubplot object at 0x000002A47D4F3550>]],\n",
       "      dtype=object)"
      ]
     },
     "execution_count": 27,
     "metadata": {},
     "output_type": "execute_result"
    },
    {
     "data": {
      "image/png": "[encoded data removed]",
      "text/plain": [
       "<Figure size 1080x1080 with 16 Axes>"
      ]
     },
     "metadata": {
      "needs_background": "light"
     },
     "output_type": "display_data"
    }
   ],
   "source": [
    "#Now plotting histogram for univariate analysis\n",
    "df_avocado.hist(figsize=(15,15), layout=(4,4), bins=20)"
   ]
  },
  {
   "cell_type": "code",
   "execution_count": 28,
   "metadata": {},
   "outputs": [
    {
     "data": {
      "text/plain": [
       "AveragePrice       AxesSubplot(0.125,0.749828;0.133621x0.130172)\n",
       "Total Volume    AxesSubplot(0.285345,0.749828;0.133621x0.130172)\n",
       "4046             AxesSubplot(0.44569,0.749828;0.133621x0.130172)\n",
       "4225            AxesSubplot(0.606034,0.749828;0.133621x0.130172)\n",
       "4770            AxesSubplot(0.766379,0.749828;0.133621x0.130172)\n",
       "Total Bags         AxesSubplot(0.125,0.593621;0.133621x0.130172)\n",
       "Small Bags      AxesSubplot(0.285345,0.593621;0.133621x0.130172)\n",
       "Large Bags       AxesSubplot(0.44569,0.593621;0.133621x0.130172)\n",
       "XLarge Bags     AxesSubplot(0.606034,0.593621;0.133621x0.130172)\n",
       "year            AxesSubplot(0.766379,0.593621;0.133621x0.130172)\n",
       "region             AxesSubplot(0.125,0.437414;0.133621x0.130172)\n",
       "Month           AxesSubplot(0.285345,0.437414;0.133621x0.130172)\n",
       "Day              AxesSubplot(0.44569,0.437414;0.133621x0.130172)\n",
       "dtype: object"
      ]
     },
     "execution_count": 28,
     "metadata": {},
     "output_type": "execute_result"
    },
    {
     "data": {
      "image/png": "[encoded data removed]",
      "text/plain": [
       "<Figure size 1080x1080 with 25 Axes>"
      ]
     },
     "metadata": {
      "needs_background": "light"
     },
     "output_type": "display_data"
    }
   ],
   "source": [
    "#Now we will check for outliers using boxplot\n",
    "df_avocado.plot(kind=\"box\",subplots=True,layout=(5,5),figsize=(15,15))"
   ]
  },
  {
   "cell_type": "markdown",
   "metadata": {},
   "source": [
    "Observation:\n",
    "    1. Here we see that in AveragePrice,Total Volume,Total Bags and Small Bags plots are having outliers. "
   ]
  },
  {
   "cell_type": "code",
   "execution_count": 29,
   "metadata": {},
   "outputs": [
    {
     "data": {
      "text/html": [
       "<div>\n",
       "<style scoped>\n",
       "    .dataframe tbody tr th:only-of-type {\n",
       "        vertical-align: middle;\n",
       "    }\n",
       "\n",
       "    .dataframe tbody tr th {\n",
       "        vertical-align: top;\n",
       "    }\n",
       "\n",
       "    .dataframe thead th {\n",
       "        text-align: right;\n",
       "    }\n",
       "</style>\n",
       "<table border=\"1\" class=\"dataframe\">\n",
       "  <thead>\n",
       "    <tr style=\"text-align: right;\">\n",
       "      <th></th>\n",
       "      <th>AveragePrice</th>\n",
       "      <th>Total Volume</th>\n",
       "      <th>4046</th>\n",
       "      <th>4225</th>\n",
       "      <th>4770</th>\n",
       "      <th>Total Bags</th>\n",
       "      <th>Small Bags</th>\n",
       "      <th>Large Bags</th>\n",
       "      <th>XLarge Bags</th>\n",
       "      <th>year</th>\n",
       "      <th>region</th>\n",
       "      <th>Month</th>\n",
       "      <th>Day</th>\n",
       "    </tr>\n",
       "  </thead>\n",
       "  <tbody>\n",
       "    <tr>\n",
       "      <th>0</th>\n",
       "      <td>1.33</td>\n",
       "      <td>11.070344</td>\n",
       "      <td>6.944801</td>\n",
       "      <td>10.905146</td>\n",
       "      <td>3.895080</td>\n",
       "      <td>9.070833</td>\n",
       "      <td>9.060055</td>\n",
       "      <td>4.545951</td>\n",
       "      <td>0.0</td>\n",
       "      <td>7.608871</td>\n",
       "      <td>0</td>\n",
       "      <td>12</td>\n",
       "      <td>27</td>\n",
       "    </tr>\n",
       "    <tr>\n",
       "      <th>1</th>\n",
       "      <td>1.35</td>\n",
       "      <td>10.912867</td>\n",
       "      <td>6.515127</td>\n",
       "      <td>10.706381</td>\n",
       "      <td>4.083115</td>\n",
       "      <td>9.159737</td>\n",
       "      <td>9.149429</td>\n",
       "      <td>4.589955</td>\n",
       "      <td>0.0</td>\n",
       "      <td>7.608871</td>\n",
       "      <td>0</td>\n",
       "      <td>12</td>\n",
       "      <td>20</td>\n",
       "    </tr>\n",
       "    <tr>\n",
       "      <th>2</th>\n",
       "      <td>0.93</td>\n",
       "      <td>11.680313</td>\n",
       "      <td>6.679222</td>\n",
       "      <td>11.600485</td>\n",
       "      <td>4.879007</td>\n",
       "      <td>9.005325</td>\n",
       "      <td>8.992584</td>\n",
       "      <td>4.645736</td>\n",
       "      <td>0.0</td>\n",
       "      <td>7.608871</td>\n",
       "      <td>0</td>\n",
       "      <td>12</td>\n",
       "      <td>13</td>\n",
       "    </tr>\n",
       "    <tr>\n",
       "      <th>3</th>\n",
       "      <td>1.08</td>\n",
       "      <td>11.277116</td>\n",
       "      <td>7.032624</td>\n",
       "      <td>11.184108</td>\n",
       "      <td>4.298373</td>\n",
       "      <td>8.667708</td>\n",
       "      <td>8.644425</td>\n",
       "      <td>4.903495</td>\n",
       "      <td>0.0</td>\n",
       "      <td>7.608871</td>\n",
       "      <td>0</td>\n",
       "      <td>6</td>\n",
       "      <td>12</td>\n",
       "    </tr>\n",
       "    <tr>\n",
       "      <th>4</th>\n",
       "      <td>1.28</td>\n",
       "      <td>10.840377</td>\n",
       "      <td>6.848515</td>\n",
       "      <td>10.688288</td>\n",
       "      <td>4.340944</td>\n",
       "      <td>8.729874</td>\n",
       "      <td>8.697389</td>\n",
       "      <td>5.291746</td>\n",
       "      <td>0.0</td>\n",
       "      <td>7.608871</td>\n",
       "      <td>0</td>\n",
       "      <td>11</td>\n",
       "      <td>29</td>\n",
       "    </tr>\n",
       "  </tbody>\n",
       "</table>\n",
       "</div>"
      ],
      "text/plain": [
       "   AveragePrice  Total Volume      4046       4225      4770  Total Bags  \\\n",
       "0          1.33     11.070344  6.944801  10.905146  3.895080    9.070833   \n",
       "1          1.35     10.912867  6.515127  10.706381  4.083115    9.159737   \n",
       "2          0.93     11.680313  6.679222  11.600485  4.879007    9.005325   \n",
       "3          1.08     11.277116  7.032624  11.184108  4.298373    8.667708   \n",
       "4          1.28     10.840377  6.848515  10.688288  4.340944    8.729874   \n",
       "\n",
       "   Small Bags  Large Bags  XLarge Bags      year  region  Month  Day  \n",
       "0    9.060055    4.545951          0.0  7.608871       0     12   27  \n",
       "1    9.149429    4.589955          0.0  7.608871       0     12   20  \n",
       "2    8.992584    4.645736          0.0  7.608871       0     12   13  \n",
       "3    8.644425    4.903495          0.0  7.608871       0      6   12  \n",
       "4    8.697389    5.291746          0.0  7.608871       0     11   29  "
      ]
     },
     "execution_count": 29,
     "metadata": {},
     "output_type": "execute_result"
    }
   ],
   "source": [
    "df_avocado.head()"
   ]
  },
  {
   "cell_type": "code",
   "execution_count": 30,
   "metadata": {},
   "outputs": [],
   "source": [
    "#as there are lot of outliers in the data we will use z score analysis\n",
    "#calculate the zscore\n",
    "z = np.abs(zscore(df_avocado))"
   ]
  },
  {
   "cell_type": "code",
   "execution_count": 31,
   "metadata": {},
   "outputs": [
    {
     "name": "stdout",
     "output_type": "stream",
     "text": [
      "(array([   0,    0,    0, ..., 1516, 1516, 1516], dtype=int64), array([ 0,  1,  2, ..., 10, 11, 12], dtype=int64))\n",
      "(1517, 13)\n"
     ]
    }
   ],
   "source": [
    "threshold = 3\n",
    "print(np.where(z<3))\n",
    "print(df_avocado.shape)"
   ]
  },
  {
   "cell_type": "code",
   "execution_count": 32,
   "metadata": {},
   "outputs": [],
   "source": [
    "#Assign the value to df_new which are less the threshold value and removing the outliers\n",
    "filtered_entries= (z < 3).all(axis=1)\n",
    "df_new = df_avocado[filtered_entries]"
   ]
  },
  {
   "cell_type": "code",
   "execution_count": 33,
   "metadata": {},
   "outputs": [
    {
     "name": "stdout",
     "output_type": "stream",
     "text": [
      "(1517, 13)\n",
      "(1502, 13)\n"
     ]
    },
    {
     "data": {
      "text/html": [
       "<div>\n",
       "<style scoped>\n",
       "    .dataframe tbody tr th:only-of-type {\n",
       "        vertical-align: middle;\n",
       "    }\n",
       "\n",
       "    .dataframe tbody tr th {\n",
       "        vertical-align: top;\n",
       "    }\n",
       "\n",
       "    .dataframe thead th {\n",
       "        text-align: right;\n",
       "    }\n",
       "</style>\n",
       "<table border=\"1\" class=\"dataframe\">\n",
       "  <thead>\n",
       "    <tr style=\"text-align: right;\">\n",
       "      <th></th>\n",
       "      <th>AveragePrice</th>\n",
       "      <th>Total Volume</th>\n",
       "      <th>4046</th>\n",
       "      <th>4225</th>\n",
       "      <th>4770</th>\n",
       "      <th>Total Bags</th>\n",
       "      <th>Small Bags</th>\n",
       "      <th>Large Bags</th>\n",
       "      <th>XLarge Bags</th>\n",
       "      <th>year</th>\n",
       "      <th>region</th>\n",
       "      <th>Month</th>\n",
       "      <th>Day</th>\n",
       "    </tr>\n",
       "  </thead>\n",
       "  <tbody>\n",
       "    <tr>\n",
       "      <th>0</th>\n",
       "      <td>1.33</td>\n",
       "      <td>11.070344</td>\n",
       "      <td>6.944801</td>\n",
       "      <td>10.905146</td>\n",
       "      <td>3.895080</td>\n",
       "      <td>9.070833</td>\n",
       "      <td>9.060055</td>\n",
       "      <td>4.545951</td>\n",
       "      <td>0.0</td>\n",
       "      <td>7.608871</td>\n",
       "      <td>0</td>\n",
       "      <td>12</td>\n",
       "      <td>27</td>\n",
       "    </tr>\n",
       "    <tr>\n",
       "      <th>1</th>\n",
       "      <td>1.35</td>\n",
       "      <td>10.912867</td>\n",
       "      <td>6.515127</td>\n",
       "      <td>10.706381</td>\n",
       "      <td>4.083115</td>\n",
       "      <td>9.159737</td>\n",
       "      <td>9.149429</td>\n",
       "      <td>4.589955</td>\n",
       "      <td>0.0</td>\n",
       "      <td>7.608871</td>\n",
       "      <td>0</td>\n",
       "      <td>12</td>\n",
       "      <td>20</td>\n",
       "    </tr>\n",
       "    <tr>\n",
       "      <th>2</th>\n",
       "      <td>0.93</td>\n",
       "      <td>11.680313</td>\n",
       "      <td>6.679222</td>\n",
       "      <td>11.600485</td>\n",
       "      <td>4.879007</td>\n",
       "      <td>9.005325</td>\n",
       "      <td>8.992584</td>\n",
       "      <td>4.645736</td>\n",
       "      <td>0.0</td>\n",
       "      <td>7.608871</td>\n",
       "      <td>0</td>\n",
       "      <td>12</td>\n",
       "      <td>13</td>\n",
       "    </tr>\n",
       "    <tr>\n",
       "      <th>3</th>\n",
       "      <td>1.08</td>\n",
       "      <td>11.277116</td>\n",
       "      <td>7.032624</td>\n",
       "      <td>11.184108</td>\n",
       "      <td>4.298373</td>\n",
       "      <td>8.667708</td>\n",
       "      <td>8.644425</td>\n",
       "      <td>4.903495</td>\n",
       "      <td>0.0</td>\n",
       "      <td>7.608871</td>\n",
       "      <td>0</td>\n",
       "      <td>6</td>\n",
       "      <td>12</td>\n",
       "    </tr>\n",
       "    <tr>\n",
       "      <th>4</th>\n",
       "      <td>1.28</td>\n",
       "      <td>10.840377</td>\n",
       "      <td>6.848515</td>\n",
       "      <td>10.688288</td>\n",
       "      <td>4.340944</td>\n",
       "      <td>8.729874</td>\n",
       "      <td>8.697389</td>\n",
       "      <td>5.291746</td>\n",
       "      <td>0.0</td>\n",
       "      <td>7.608871</td>\n",
       "      <td>0</td>\n",
       "      <td>11</td>\n",
       "      <td>29</td>\n",
       "    </tr>\n",
       "  </tbody>\n",
       "</table>\n",
       "</div>"
      ],
      "text/plain": [
       "   AveragePrice  Total Volume      4046       4225      4770  Total Bags  \\\n",
       "0          1.33     11.070344  6.944801  10.905146  3.895080    9.070833   \n",
       "1          1.35     10.912867  6.515127  10.706381  4.083115    9.159737   \n",
       "2          0.93     11.680313  6.679222  11.600485  4.879007    9.005325   \n",
       "3          1.08     11.277116  7.032624  11.184108  4.298373    8.667708   \n",
       "4          1.28     10.840377  6.848515  10.688288  4.340944    8.729874   \n",
       "\n",
       "   Small Bags  Large Bags  XLarge Bags      year  region  Month  Day  \n",
       "0    9.060055    4.545951          0.0  7.608871       0     12   27  \n",
       "1    9.149429    4.589955          0.0  7.608871       0     12   20  \n",
       "2    8.992584    4.645736          0.0  7.608871       0     12   13  \n",
       "3    8.644425    4.903495          0.0  7.608871       0      6   12  \n",
       "4    8.697389    5.291746          0.0  7.608871       0     11   29  "
      ]
     },
     "execution_count": 33,
     "metadata": {},
     "output_type": "execute_result"
    }
   ],
   "source": [
    "print(df_avocado.shape)\n",
    "print(df_new.shape)\n",
    "df_new.head()"
   ]
  },
  {
   "cell_type": "code",
   "execution_count": 34,
   "metadata": {},
   "outputs": [],
   "source": [
    "df_avocado=df_new"
   ]
  },
  {
   "cell_type": "code",
   "execution_count": 35,
   "metadata": {},
   "outputs": [
    {
     "name": "stdout",
     "output_type": "stream",
     "text": [
      "Mean of  AveragePrice  is  1.0749600532623165\n",
      "Mean of  Total Volume  is  12.989191030734613\n",
      "Mean of  4046  is  11.178567345107469\n",
      "Mean of  4225  is  11.841179751933113\n",
      "Mean of  4770  is  8.527030595612572\n",
      "Mean of  Total Bags  is  11.359915519325742\n",
      "Mean of  Small Bags  is  11.170915551350111\n",
      "Mean of  Large Bags  is  7.807000703805365\n",
      "Mean of  XLarge Bags  is  2.786653428933131\n",
      "Mean of  year  is  7.6089508594372175\n",
      "Mean of  region  is  21.054593874833554\n",
      "Mean of  Month  is  6.369507323568575\n",
      "Mean of  Day  is  15.253661784287617\n"
     ]
    }
   ],
   "source": [
    "for col in df_avocado.columns:\n",
    "    print(\"Mean of \",col,\" is \", df_avocado[col].mean())"
   ]
  },
  {
   "cell_type": "code",
   "execution_count": 36,
   "metadata": {},
   "outputs": [],
   "source": [
    "#now finding the mean value of each column and replacing with outlier value\n",
    "df_avocado.loc[df_avocado['Large Bags']<4,'Large Bags'] = np.mean(df_avocado['Large Bags'])\n",
    "df_avocado.loc[df_avocado['Total Volume']>15,'Total Volume'] = np.mean(df_avocado['Total Volume'])\n",
    "df_avocado.loc[df_avocado['Total Bags']>12.5,'Total Bags'] = np.mean(df_avocado['Total Bags'])\n",
    "df_avocado.loc[df_avocado['Small Bags']>12.5,'Small Bags'] = np.mean(df_avocado['Small Bags'])\n"
   ]
  },
  {
   "cell_type": "code",
   "execution_count": 37,
   "metadata": {},
   "outputs": [
    {
     "data": {
      "text/plain": [
       "AveragePrice       AxesSubplot(0.125,0.749828;0.133621x0.130172)\n",
       "Total Volume    AxesSubplot(0.285345,0.749828;0.133621x0.130172)\n",
       "4046             AxesSubplot(0.44569,0.749828;0.133621x0.130172)\n",
       "4225            AxesSubplot(0.606034,0.749828;0.133621x0.130172)\n",
       "4770            AxesSubplot(0.766379,0.749828;0.133621x0.130172)\n",
       "Total Bags         AxesSubplot(0.125,0.593621;0.133621x0.130172)\n",
       "Small Bags      AxesSubplot(0.285345,0.593621;0.133621x0.130172)\n",
       "Large Bags       AxesSubplot(0.44569,0.593621;0.133621x0.130172)\n",
       "XLarge Bags     AxesSubplot(0.606034,0.593621;0.133621x0.130172)\n",
       "year            AxesSubplot(0.766379,0.593621;0.133621x0.130172)\n",
       "region             AxesSubplot(0.125,0.437414;0.133621x0.130172)\n",
       "Month           AxesSubplot(0.285345,0.437414;0.133621x0.130172)\n",
       "Day              AxesSubplot(0.44569,0.437414;0.133621x0.130172)\n",
       "dtype: object"
      ]
     },
     "execution_count": 37,
     "metadata": {},
     "output_type": "execute_result"
    },
    {
     "data": {
      "image/png": "[encoded data removed]",
      "text/plain": [
       "<Figure size 1080x1080 with 25 Axes>"
      ]
     },
     "metadata": {
      "needs_background": "light"
     },
     "output_type": "display_data"
    }
   ],
   "source": [
    "#Now we will check for outliers using boxplot\n",
    "df_avocado.plot(kind=\"box\",subplots=True,layout=(5,5),figsize=(15,15))\n",
    "\n",
    "#we can see that outliers have been removed in Total Volume , Large, Small and Total bags"
   ]
  },
  {
   "cell_type": "markdown",
   "metadata": {},
   "source": [
    "# Modelling-1 (Regression)"
   ]
  },
  {
   "cell_type": "code",
   "execution_count": 38,
   "metadata": {},
   "outputs": [],
   "source": [
    "# dropping Average price and day variable from X \n",
    "#assign the value of y for training and testing phase\n",
    "x = df_avocado.drop(columns=['AveragePrice','Day'])\n",
    "y = df_avocado[[\"AveragePrice\"]]\n",
    "#First using Average price as the target variable"
   ]
  },
  {
   "cell_type": "code",
   "execution_count": 39,
   "metadata": {},
   "outputs": [],
   "source": [
    "#Standardizing value of x by using standardscalar to make the data normally distributed\n",
    "sc = StandardScaler()\n",
    "sc.fit_transform(x)\n",
    "df_x = pd.DataFrame(x,columns=x.columns)"
   ]
  },
  {
   "cell_type": "code",
   "execution_count": 40,
   "metadata": {},
   "outputs": [
    {
     "name": "stdout",
     "output_type": "stream",
     "text": [
      "R2 score corresponding to random state  40 is 0.6927384609495889\n",
      "R2 score corresponding to random state  40 is 0.6807027660188423\n",
      "R2 score corresponding to random state  40 is 0.3687496702071992\n",
      "R2 score corresponding to random state  40 is 0.8075649926148838\n",
      "R2 score corresponding to random state  41 is 0.5602340680108977\n",
      "R2 score corresponding to random state  41 is 0.6304368272027038\n",
      "R2 score corresponding to random state  41 is 0.271796809667851\n",
      "R2 score corresponding to random state  41 is 0.7439875866408191\n",
      "R2 score corresponding to random state  42 is 0.6578844790812464\n",
      "R2 score corresponding to random state  42 is 0.6835710174785976\n",
      "R2 score corresponding to random state  42 is 0.38686530329082514\n",
      "R2 score corresponding to random state  42 is 0.8292802655134249\n",
      "R2 score corresponding to random state  43 is 0.5535480569267397\n",
      "R2 score corresponding to random state  43 is 0.6607298311043269\n",
      "R2 score corresponding to random state  43 is 0.35354331034902897\n",
      "R2 score corresponding to random state  43 is 0.7920497326968117\n",
      "R2 score corresponding to random state  44 is 0.5339804986120338\n",
      "R2 score corresponding to random state  44 is 0.6182640617381374\n",
      "R2 score corresponding to random state  44 is 0.2900236993885139\n",
      "R2 score corresponding to random state  44 is 0.7813911090008584\n",
      "R2 score corresponding to random state  45 is 0.6070131353371859\n",
      "R2 score corresponding to random state  45 is 0.585492602293331\n",
      "R2 score corresponding to random state  45 is 0.3279424962803973\n",
      "R2 score corresponding to random state  45 is 0.7785794392130805\n",
      "R2 score corresponding to random state  46 is 0.6586458885291818\n",
      "R2 score corresponding to random state  46 is 0.6167910886684498\n",
      "R2 score corresponding to random state  46 is 0.38913595645239074\n",
      "R2 score corresponding to random state  46 is 0.8369601169370526\n",
      "R2 score corresponding to random state  47 is 0.6671709867826121\n",
      "R2 score corresponding to random state  47 is 0.6608088556147654\n",
      "R2 score corresponding to random state  47 is 0.33456812335235586\n",
      "R2 score corresponding to random state  47 is 0.8363274358688583\n",
      "R2 score corresponding to random state  48 is 0.7035368221566198\n",
      "R2 score corresponding to random state  48 is 0.6583721759436028\n",
      "R2 score corresponding to random state  48 is 0.31638264271668026\n",
      "R2 score corresponding to random state  48 is 0.7801557656702535\n",
      "R2 score corresponding to random state  49 is 0.5860768225601949\n",
      "R2 score corresponding to random state  49 is 0.6285511159314661\n",
      "R2 score corresponding to random state  49 is 0.3132641070749729\n",
      "R2 score corresponding to random state  49 is 0.8090214182464373\n",
      "R2 score corresponding to random state  50 is 0.6497313570828402\n",
      "R2 score corresponding to random state  50 is 0.6538185392686748\n",
      "R2 score corresponding to random state  50 is 0.37258965372881336\n",
      "R2 score corresponding to random state  50 is 0.7905041671488087\n",
      "R2 score corresponding to random state  51 is 0.6024141430559071\n",
      "R2 score corresponding to random state  51 is 0.6390612198477226\n",
      "R2 score corresponding to random state  51 is 0.3742914742295159\n",
      "R2 score corresponding to random state  51 is 0.8099554143918692\n",
      "R2 score corresponding to random state  52 is 0.6261321788878902\n",
      "R2 score corresponding to random state  52 is 0.6364946960293558\n",
      "R2 score corresponding to random state  52 is 0.36100254057917347\n",
      "R2 score corresponding to random state  52 is 0.7817155590702741\n",
      "R2 score corresponding to random state  53 is 0.5280923278687826\n",
      "R2 score corresponding to random state  53 is 0.6720870942358199\n",
      "R2 score corresponding to random state  53 is 0.2741788277522017\n",
      "R2 score corresponding to random state  53 is 0.7800000801543192\n",
      "R2 score corresponding to random state  54 is 0.6485732298697012\n",
      "R2 score corresponding to random state  54 is 0.6784229941889857\n",
      "R2 score corresponding to random state  54 is 0.35821425936436435\n",
      "R2 score corresponding to random state  54 is 0.7961428549095079\n",
      "R2 score corresponding to random state  55 is 0.6864134396684571\n",
      "R2 score corresponding to random state  55 is 0.6656727274460594\n",
      "R2 score corresponding to random state  55 is 0.3125494367719397\n",
      "R2 score corresponding to random state  55 is 0.7902138680883221\n",
      "R2 score corresponding to random state  56 is 0.7073653631545362\n",
      "R2 score corresponding to random state  56 is 0.5890404165489027\n",
      "R2 score corresponding to random state  56 is 0.3450970571822274\n",
      "R2 score corresponding to random state  56 is 0.8070520573949378\n",
      "R2 score corresponding to random state  57 is 0.6606314680802612\n",
      "R2 score corresponding to random state  57 is 0.6046257116469724\n",
      "R2 score corresponding to random state  57 is 0.3473922691837278\n",
      "R2 score corresponding to random state  57 is 0.816658046589155\n",
      "R2 score corresponding to random state  58 is 0.6328651292954782\n",
      "R2 score corresponding to random state  58 is 0.66550964692117\n",
      "R2 score corresponding to random state  58 is 0.3806813221759129\n",
      "R2 score corresponding to random state  58 is 0.7989459737551663\n",
      "R2 score corresponding to random state  59 is 0.472578932523147\n",
      "R2 score corresponding to random state  59 is 0.596616491706925\n",
      "R2 score corresponding to random state  59 is 0.2319242454115209\n",
      "R2 score corresponding to random state  59 is 0.7025104495960741\n",
      "R2 score corresponding to random state  60 is 0.6614005077688467\n",
      "R2 score corresponding to random state  60 is 0.6569182528728753\n",
      "R2 score corresponding to random state  60 is 0.35512314966373026\n",
      "R2 score corresponding to random state  60 is 0.8247802025215555\n",
      "R2 score corresponding to random state  61 is 0.593736127399742\n",
      "R2 score corresponding to random state  61 is 0.6009054235278402\n",
      "R2 score corresponding to random state  61 is 0.25566491378640455\n",
      "R2 score corresponding to random state  61 is 0.7612647843473502\n",
      "R2 score corresponding to random state  62 is 0.6521743073090254\n",
      "R2 score corresponding to random state  62 is 0.5441048711407402\n",
      "R2 score corresponding to random state  62 is 0.2376762979300634\n",
      "R2 score corresponding to random state  62 is 0.781664237966295\n",
      "R2 score corresponding to random state  63 is 0.6553268525578129\n",
      "R2 score corresponding to random state  63 is 0.5935666674733104\n",
      "R2 score corresponding to random state  63 is 0.3490320737666769\n",
      "R2 score corresponding to random state  63 is 0.8037184124990269\n",
      "R2 score corresponding to random state  64 is 0.6326276150395977\n",
      "R2 score corresponding to random state  64 is 0.6491080679239942\n",
      "R2 score corresponding to random state  64 is 0.3071292407863352\n",
      "R2 score corresponding to random state  64 is 0.7874487864169099\n",
      "R2 score corresponding to random state  65 is 0.568136437675985\n",
      "R2 score corresponding to random state  65 is 0.6450919083562949\n",
      "R2 score corresponding to random state  65 is 0.2504714486116788\n",
      "R2 score corresponding to random state  65 is 0.7969243681654226\n",
      "R2 score corresponding to random state  66 is 0.5485245579862033\n",
      "R2 score corresponding to random state  66 is 0.5966692837887939\n",
      "R2 score corresponding to random state  66 is 0.36380764689446665\n",
      "R2 score corresponding to random state  66 is 0.8157192136342866\n",
      "R2 score corresponding to random state  67 is 0.6458455966590785\n",
      "R2 score corresponding to random state  67 is 0.5912102676827977\n",
      "R2 score corresponding to random state  67 is 0.34676030240419997\n",
      "R2 score corresponding to random state  67 is 0.8197251152828038\n",
      "R2 score corresponding to random state  68 is 0.6538212721732545\n",
      "R2 score corresponding to random state  68 is 0.6601110981068201\n",
      "R2 score corresponding to random state  68 is 0.3116117071330071\n",
      "R2 score corresponding to random state  68 is 0.7908415039540116\n",
      "R2 score corresponding to random state  69 is 0.6439648622430904\n",
      "R2 score corresponding to random state  69 is 0.5870871856275979\n",
      "R2 score corresponding to random state  69 is 0.3168536113743339\n",
      "R2 score corresponding to random state  69 is 0.7371948771113745\n",
      "R2 score corresponding to random state  70 is 0.5084854810910491\n",
      "R2 score corresponding to random state  70 is 0.5845862731094665\n",
      "R2 score corresponding to random state  70 is 0.25798190597440207\n",
      "R2 score corresponding to random state  70 is 0.7506299233771871\n",
      "R2 score corresponding to random state  71 is 0.6013445858910744\n",
      "R2 score corresponding to random state  71 is 0.6195718863173407\n",
      "R2 score corresponding to random state  71 is 0.38032875496535123\n"
     ]
    },
    {
     "name": "stdout",
     "output_type": "stream",
     "text": [
      "R2 score corresponding to random state  71 is 0.8173761503364927\n",
      "R2 score corresponding to random state  72 is 0.642053637264969\n",
      "R2 score corresponding to random state  72 is 0.6667897891064182\n",
      "R2 score corresponding to random state  72 is 0.34666804701660114\n",
      "R2 score corresponding to random state  72 is 0.7673501445184313\n",
      "R2 score corresponding to random state  73 is 0.6363078624307053\n",
      "R2 score corresponding to random state  73 is 0.6501876191875904\n",
      "R2 score corresponding to random state  73 is 0.34357077738109487\n",
      "R2 score corresponding to random state  73 is 0.8171920718700865\n",
      "R2 score corresponding to random state  74 is 0.6433051242968548\n",
      "R2 score corresponding to random state  74 is 0.6762107662882069\n",
      "R2 score corresponding to random state  74 is 0.31752935283744643\n",
      "R2 score corresponding to random state  74 is 0.80947951962973\n",
      "R2 score corresponding to random state  75 is 0.6804726788991294\n",
      "R2 score corresponding to random state  75 is 0.6720604849963364\n",
      "R2 score corresponding to random state  75 is 0.3917565327219569\n",
      "R2 score corresponding to random state  75 is 0.8289573205414098\n",
      "R2 score corresponding to random state  76 is 0.544060721184041\n",
      "R2 score corresponding to random state  76 is 0.6034304635743557\n",
      "R2 score corresponding to random state  76 is 0.3745552596996531\n",
      "R2 score corresponding to random state  76 is 0.8019250470459358\n",
      "R2 score corresponding to random state  77 is 0.6951143014397672\n",
      "R2 score corresponding to random state  77 is 0.641475515670345\n",
      "R2 score corresponding to random state  77 is 0.28431202129840405\n",
      "R2 score corresponding to random state  77 is 0.8244643094851124\n",
      "R2 score corresponding to random state  78 is 0.713396612098056\n",
      "R2 score corresponding to random state  78 is 0.6593667819347622\n",
      "R2 score corresponding to random state  78 is 0.3683391867345628\n",
      "R2 score corresponding to random state  78 is 0.8175643109361663\n",
      "R2 score corresponding to random state  79 is 0.650007872789415\n",
      "R2 score corresponding to random state  79 is 0.6740298840817334\n",
      "R2 score corresponding to random state  79 is 0.3916692210048518\n",
      "R2 score corresponding to random state  79 is 0.7951058713466407\n",
      "R2 score corresponding to random state  80 is 0.5095588194606151\n",
      "R2 score corresponding to random state  80 is 0.6661794812777864\n",
      "R2 score corresponding to random state  80 is 0.2656527688137831\n",
      "R2 score corresponding to random state  80 is 0.6883667661362076\n",
      "R2 score corresponding to random state  81 is 0.5617911513668095\n",
      "R2 score corresponding to random state  81 is 0.6571820225882901\n",
      "R2 score corresponding to random state  81 is 0.3183477909754464\n",
      "R2 score corresponding to random state  81 is 0.789195946568619\n",
      "R2 score corresponding to random state  82 is 0.6145091068403201\n",
      "R2 score corresponding to random state  82 is 0.6048090156547461\n",
      "R2 score corresponding to random state  82 is 0.35854608468821647\n",
      "R2 score corresponding to random state  82 is 0.8139426904801209\n",
      "R2 score corresponding to random state  83 is 0.7222302180833144\n",
      "R2 score corresponding to random state  83 is 0.6767384150023439\n",
      "R2 score corresponding to random state  83 is 0.3506826096958414\n",
      "R2 score corresponding to random state  83 is 0.8169736045457944\n",
      "R2 score corresponding to random state  84 is 0.6409580258055881\n",
      "R2 score corresponding to random state  84 is 0.6373280664461507\n",
      "R2 score corresponding to random state  84 is 0.3043041404109851\n",
      "R2 score corresponding to random state  84 is 0.7642995448060791\n",
      "R2 score corresponding to random state  85 is 0.5945851901255061\n",
      "R2 score corresponding to random state  85 is 0.6681995872358655\n",
      "R2 score corresponding to random state  85 is 0.3595906104619464\n",
      "R2 score corresponding to random state  85 is 0.787387334104775\n",
      "R2 score corresponding to random state  86 is 0.7214960175804852\n",
      "R2 score corresponding to random state  86 is 0.6726718585123974\n",
      "R2 score corresponding to random state  86 is 0.3562372470725238\n",
      "R2 score corresponding to random state  86 is 0.8271630658524388\n",
      "R2 score corresponding to random state  87 is 0.6868413812558146\n",
      "R2 score corresponding to random state  87 is 0.6510709164869075\n",
      "R2 score corresponding to random state  87 is 0.387493172125116\n",
      "R2 score corresponding to random state  87 is 0.8137688096449603\n",
      "R2 score corresponding to random state  88 is 0.6360107788506566\n",
      "R2 score corresponding to random state  88 is 0.6343176846572175\n",
      "R2 score corresponding to random state  88 is 0.3064893064271256\n",
      "R2 score corresponding to random state  88 is 0.8209002104919967\n",
      "R2 score corresponding to random state  89 is 0.6574704266640006\n",
      "R2 score corresponding to random state  89 is 0.6304981499556672\n",
      "R2 score corresponding to random state  89 is 0.3735783329563189\n",
      "R2 score corresponding to random state  89 is 0.8179873573419016\n",
      "\n",
      "\n",
      "\n",
      "\n",
      "max R2 score correspond to random state  46 is 0.8369601169370526 and model is RandomForestRegressor()\n"
     ]
    }
   ],
   "source": [
    "#Now by using multiple Algorithms we are calculating the best Algo which performs best for our data set \n",
    "\n",
    "models = [DecisionTreeRegressor(),KNeighborsRegressor(),LinearRegression(),RandomForestRegressor(n_estimators=100)]\n",
    "r2_score_max = 0\n",
    "for r_state in range(40,90):\n",
    "    train_x,test_x,train_y,test_y = train_test_split(df_x,y,random_state = r_state,test_size = 0.2)\n",
    "    for model in models:\n",
    "        model.fit(train_x,train_y)\n",
    "        score = r2_score(test_y,model.predict(test_x))\n",
    "        pred = model.predict(test_x)\n",
    "        print(\"R2 score corresponding to random state \" ,r_state ,\"is\", score)\n",
    "        if score> r2_score_max:\n",
    "            r2_score_max=score\n",
    "            final_state = r_state\n",
    "            final_model = model\n",
    "            final_pred = pred\n",
    "            \n",
    "print()\n",
    "print()\n",
    "print()\n",
    "print()\n",
    "print(\"max R2 score correspond to random state \" ,final_state , \"is\" , r2_score_max ,\"and model is\",final_model)"
   ]
  },
  {
   "cell_type": "markdown",
   "metadata": {},
   "source": [
    "Observation:\n",
    "    1.As Randomforest is performing best, we will check best parameters with grid search CV."
   ]
  },
  {
   "cell_type": "code",
   "execution_count": 42,
   "metadata": {},
   "outputs": [
    {
     "data": {
      "text/plain": [
       "{'n_estimators': 100}"
      ]
     },
     "execution_count": 42,
     "metadata": {},
     "output_type": "execute_result"
    }
   ],
   "source": [
    "# Estimating best n_estimator using grid search for Randomforest Classifier\n",
    "parameters={\"n_estimators\":[10,100,500]}\n",
    "rfr=RandomForestRegressor()\n",
    "clf = GridSearchCV(rfr, parameters, cv=5)\n",
    "clf.fit(df_x,y)\n",
    "clf.best_params_\n"
   ]
  },
  {
   "cell_type": "code",
   "execution_count": 43,
   "metadata": {},
   "outputs": [],
   "source": [
    "#now applying Randomforest regressor as per suggestion \n",
    "train_x,test_x,train_y,test_y = train_test_split(df_x,y,random_state = 60,test_size = 0.2)\n",
    "rfr_new=RandomForestRegressor(n_estimators=500)\n",
    "rfr_new.fit(train_x,train_y)\n",
    "pred=rfr_new.predict(test_x)"
   ]
  },
  {
   "cell_type": "code",
   "execution_count": 44,
   "metadata": {},
   "outputs": [
    {
     "data": {
      "text/plain": [
       "Text(0, 0.5, 'Predicted Y')"
      ]
     },
     "execution_count": 44,
     "metadata": {},
     "output_type": "execute_result"
    },
    {
     "data": {
      "image/png": "[encoded data removed]",
      "text/plain": [
       "<Figure size 432x288 with 1 Axes>"
      ]
     },
     "metadata": {
      "needs_background": "light"
     },
     "output_type": "display_data"
    }
   ],
   "source": [
    "#Plotting our prediction vs test results\n",
    "plt.scatter(x=test_y,y=pred)\n",
    "plt.xlabel('Y Test')\n",
    "plt.ylabel('Predicted Y')"
   ]
  },
  {
   "cell_type": "markdown",
   "metadata": {},
   "source": [
    "Observation:\n",
    "\n",
    "    1.We nearly have a straight line , which shows that prediction is good."
   ]
  },
  {
   "cell_type": "code",
   "execution_count": 45,
   "metadata": {},
   "outputs": [
    {
     "name": "stdout",
     "output_type": "stream",
     "text": [
      "MAE: 0.059811428571428626\n",
      "MSE: 0.006194349865780727\n",
      "RMSE: 0.07870419217411946\n"
     ]
    }
   ],
   "source": [
    "#calculating errors for comparision\n",
    "print('MAE:', metrics.mean_absolute_error(test_y, pred))\n",
    "print('MSE:', metrics.mean_squared_error(test_y, pred))\n",
    "print('RMSE:', np.sqrt(metrics.mean_squared_error(test_y, pred)))"
   ]
  },
  {
   "cell_type": "markdown",
   "metadata": {},
   "source": [
    "Observation:\n",
    "    \n",
    "    1.RMSE is low so we can say that model is good."
   ]
  },
  {
   "cell_type": "code",
   "execution_count": 46,
   "metadata": {},
   "outputs": [
    {
     "data": {
      "text/plain": [
       "<matplotlib.axes._subplots.AxesSubplot at 0x2a47e432700>"
      ]
     },
     "execution_count": 46,
     "metadata": {},
     "output_type": "execute_result"
    },
    {
     "data": {
      "image/png": "[encoded data removed]",
      "text/plain": [
       "<Figure size 432x288 with 1 Axes>"
      ]
     },
     "metadata": {
      "needs_background": "light"
     },
     "output_type": "display_data"
    }
   ],
   "source": [
    "#Checking distribution of our predictions\n",
    "predict=pred.reshape(-1,1)\n",
    "sns.distplot((test_y-predict),bins=50)"
   ]
  },
  {
   "cell_type": "markdown",
   "metadata": {},
   "source": [
    "Observation:\n",
    "    1.Residuals looked to be normally distributed, which infers prediction is not skewed."
   ]
  },
  {
   "cell_type": "code",
   "execution_count": 47,
   "metadata": {},
   "outputs": [
    {
     "data": {
      "text/html": [
       "<div>\n",
       "<style scoped>\n",
       "    .dataframe tbody tr th:only-of-type {\n",
       "        vertical-align: middle;\n",
       "    }\n",
       "\n",
       "    .dataframe tbody tr th {\n",
       "        vertical-align: top;\n",
       "    }\n",
       "\n",
       "    .dataframe thead th {\n",
       "        text-align: right;\n",
       "    }\n",
       "</style>\n",
       "<table border=\"1\" class=\"dataframe\">\n",
       "  <thead>\n",
       "    <tr style=\"text-align: right;\">\n",
       "      <th></th>\n",
       "      <th>Y Test</th>\n",
       "      <th>Pred</th>\n",
       "    </tr>\n",
       "  </thead>\n",
       "  <tbody>\n",
       "    <tr>\n",
       "      <th>257</th>\n",
       "      <td>0.98</td>\n",
       "      <td>1.02288</td>\n",
       "    </tr>\n",
       "    <tr>\n",
       "      <th>1314</th>\n",
       "      <td>1.21</td>\n",
       "      <td>1.15322</td>\n",
       "    </tr>\n",
       "    <tr>\n",
       "      <th>1137</th>\n",
       "      <td>1.36</td>\n",
       "      <td>1.34180</td>\n",
       "    </tr>\n",
       "    <tr>\n",
       "      <th>146</th>\n",
       "      <td>0.96</td>\n",
       "      <td>1.02222</td>\n",
       "    </tr>\n",
       "    <tr>\n",
       "      <th>45</th>\n",
       "      <td>1.06</td>\n",
       "      <td>1.09938</td>\n",
       "    </tr>\n",
       "  </tbody>\n",
       "</table>\n",
       "</div>"
      ],
      "text/plain": [
       "      Y Test     Pred\n",
       "257     0.98  1.02288\n",
       "1314    1.21  1.15322\n",
       "1137    1.36  1.34180\n",
       "146     0.96  1.02222\n",
       "45      1.06  1.09938"
      ]
     },
     "execution_count": 47,
     "metadata": {},
     "output_type": "execute_result"
    }
   ],
   "source": [
    "#predicted values\n",
    "df_predict = pd.DataFrame({'Y Test':test_y[\"AveragePrice\"] , 'Pred':pred},columns=['Y Test','Pred'])\n",
    "df_predict.head()"
   ]
  },
  {
   "cell_type": "markdown",
   "metadata": {},
   "source": [
    "# Saving the Model"
   ]
  },
  {
   "cell_type": "code",
   "execution_count": 48,
   "metadata": {},
   "outputs": [
    {
     "data": {
      "text/plain": [
       "['rfr_cl_avocado.pkl']"
      ]
     },
     "execution_count": 48,
     "metadata": {},
     "output_type": "execute_result"
    }
   ],
   "source": [
    "import joblib\n",
    "#save the model as a pickle in a file \n",
    "joblib.dump(rfr_new,'rfr_cl_avocado.pkl')"
   ]
  },
  {
   "cell_type": "markdown",
   "metadata": {},
   "source": [
    "# Conclusion:Model-1 (Regression)"
   ]
  },
  {
   "cell_type": "markdown",
   "metadata": {},
   "source": [
    "Conclusion for Model-1 :\n",
    "    \n",
    "a. Taken output variable as Average Price.\n",
    "\n",
    "b. Found best model as RandomForestRegressor and best random state is 40 which provides max r2 score of 0.83.\n",
    "\n",
    "c. Plotted scatter plot and found linear line that shows close match between test and predicted values.\n",
    "\n",
    "d. Also plotted distplot that shows normal distribution of the predicted values. \n",
    "\n",
    "e. Also RMSE is found to be 0.08 which is close to zero, showing that model fitting is good. "
   ]
  },
  {
   "cell_type": "markdown",
   "metadata": {},
   "source": [
    "# Modelling-2 (Classification)"
   ]
  },
  {
   "cell_type": "code",
   "execution_count": null,
   "metadata": {},
   "outputs": [],
   "source": [
    "#Modelling-2\n",
    "#Taking output variable Y as region \n",
    "#Here using classification prediction method as data is categorical ."
   ]
  },
  {
   "cell_type": "code",
   "execution_count": null,
   "metadata": {},
   "outputs": [],
   "source": [
    "#Importing classifier model libraries\n",
    "from sklearn.metrics import accuracy_score,classification_report,confusion_matrix,roc_auc_score,roc_curve\n",
    "from sklearn.linear_model import LogisticRegression\n",
    "from sklearn.naive_bayes import MultinomialNB\n",
    "from sklearn.neighbors import KNeighborsClassifier\n",
    "from sklearn.ensemble import RandomForestClassifier\n",
    "from sklearn.svm import SVC\n",
    "from sklearn.tree import DecisionTreeClassifier\n",
    "from sklearn.ensemble import AdaBoostClassifier,GradientBoostingClassifier\n",
    "from sklearn.model_selection import cross_val_score"
   ]
  },
  {
   "cell_type": "code",
   "execution_count": null,
   "metadata": {},
   "outputs": [],
   "source": [
    "#Dropping region and Day from x for classifcation dataset\n",
    "#Assigning the value of x for testing and training\n",
    "xc=df_avocado.drop(columns=['region','Day'])\n",
    "yc=df_avocado[[\"region\"]]"
   ]
  },
  {
   "cell_type": "code",
   "execution_count": null,
   "metadata": {},
   "outputs": [],
   "source": [
    "#Standardizing value of x by using standardscalar to make the data normally distributed\n",
    "sc = StandardScaler()\n",
    "sc.fit_transform(xc)\n",
    "df_xc = pd.DataFrame(xc,columns=xc.columns)"
   ]
  },
  {
   "cell_type": "code",
   "execution_count": null,
   "metadata": {},
   "outputs": [],
   "source": [
    "def max_acc_score(names,model_c,df_xc,yc):\n",
    "    accuracy_scr_max = 0\n",
    "    for r_state in range(42,100):\n",
    "        train_xc,test_xc,train_yc,test_yc = train_test_split(df_xc,yc,random_state = r_state,test_size = 0.2,stratify = yc)\n",
    "        model_c.fit(train_xc,train_yc)\n",
    "        accuracy_scr = accuracy_score(test_yc,model_c.predict(test_xc))\n",
    "        if accuracy_scr> accuracy_scr_max:\n",
    "            accuracy_scr_max=accuracy_scr\n",
    "            final_state = r_state\n",
    "            final_model = model_c\n",
    "            mean_acc = cross_val_score(final_model,df_xc,yc,cv=5,scoring=\"accuracy\").mean()\n",
    "            std_dev = cross_val_score(final_model,df_xc,yc,cv=5,scoring=\"accuracy\").std()\n",
    "            cross_val = cross_val_score(final_model,df_xc,yc,cv=5,scoring=\"accuracy\")\n",
    "    print(\"Results for model : \",names,'\\n',\n",
    "          \"max accuracy score correspond to random state \" ,final_state , \"is\" , accuracy_scr_max ,'\\n',\n",
    "          \"Mean accuracy score is : \",mean_acc,'\\n',\n",
    "          \"Std deviation score is : \",std_dev,'\\n',\n",
    "          \"Cross validation scores are :  \" ,cross_val) "
   ]
  },
  {
   "cell_type": "code",
   "execution_count": null,
   "metadata": {},
   "outputs": [],
   "source": [
    "#Now by using multiple Algorithms we are calculating the best Algo which performs best for our dataset \n",
    "accuracy_scr_max = []\n",
    "accuracy=[]\n",
    "std_dev=[]\n",
    "mean_acc=[]\n",
    "cross_val=[]\n",
    "models=[]\n",
    "models.append(('Logistic Regression', LogisticRegression()))\n",
    "models.append(('Random Forest', RandomForestClassifier()))\n",
    "models.append(('SVM', SVC()))\n",
    "models.append(('KNN', KNeighborsClassifier()))\n",
    "models.append(('Decision Tree Classifier', DecisionTreeClassifier()))\n",
    "\n",
    "for names,model_c in models:\n",
    "    max_acc_score(names,model_c,df_xc,yc)\n",
    "   "
   ]
  },
  {
   "cell_type": "markdown",
   "metadata": {},
   "source": [
    "Observation:\n",
    "    \n",
    "    1.From initial model values RandomForest and SVC are performing better than others. \n",
    "    "
   ]
  },
  {
   "cell_type": "code",
   "execution_count": null,
   "metadata": {},
   "outputs": [],
   "source": [
    "#Checking for them individually\n",
    "#Estimating parameters of SVM for best fit\n",
    "svc=SVC()\n",
    "parameters={\"kernel\":[\"linear\", \"poly\", \"rbf\"],\"C\":[0.001,0.01,0.1,1,10]}\n",
    "clf = GridSearchCV(svc, parameters, cv=5,scoring=\"accuracy\")\n",
    "clf.fit(df_xc,yc)\n",
    "clf.best_params_"
   ]
  },
  {
   "cell_type": "code",
   "execution_count": null,
   "metadata": {},
   "outputs": [],
   "source": [
    "svc=SVC(kernel=\"linear\",C=10)\n",
    "max_acc_score(\"svc\",svc,df_xc,yc)"
   ]
  },
  {
   "cell_type": "code",
   "execution_count": null,
   "metadata": {},
   "outputs": [],
   "source": [
    "# Estimating best n_estimator using grid search for Randomforest Classifier\n",
    "parameters={\"n_estimators\":[10,100,500]}\n",
    "rf_clf=RandomForestClassifier()\n",
    "clf = GridSearchCV(rf_clf, parameters, cv=5,scoring=\"accuracy\")\n",
    "clf.fit(df_xc,yc)\n",
    "clf.best_params_"
   ]
  },
  {
   "cell_type": "code",
   "execution_count": null,
   "metadata": {},
   "outputs": [],
   "source": [
    "#Again running RFC with n_estimator = 500\n",
    "#random state ~ 57\n",
    "rf_clf=RandomForestClassifier(n_estimators=500)\n",
    "max_acc_score(\"Random Forest Classifier\",rf_clf,df_xc,yc)"
   ]
  },
  {
   "cell_type": "markdown",
   "metadata": {},
   "source": [
    "Observation:\n",
    "    1.Clearly Random Forest Classifier is performing best as accuracy score is closest to 1 so we will use RFC."
   ]
  },
  {
   "cell_type": "code",
   "execution_count": null,
   "metadata": {},
   "outputs": [],
   "source": [
    "xc_train,xc_test,yc_train,yc_test=train_test_split(df_xc, yc,random_state = 57,test_size=0.20,stratify=yc)\n",
    "rf_clf.fit(xc_train,yc_train)\n",
    "yc_pred=rf_clf.predict(xc_test)"
   ]
  },
  {
   "cell_type": "code",
   "execution_count": null,
   "metadata": {},
   "outputs": [],
   "source": [
    "from sklearn.metrics import confusion_matrix\n",
    "from sklearn.metrics import classification_report\n",
    "from sklearn.metrics import roc_auc_score\n",
    "\n",
    "print(\"accuracy score is : \",accuracy_score(yc_test,yc_pred))\n",
    "print(\"classification report \\n\",classification_report(yc_test,yc_pred))"
   ]
  },
  {
   "cell_type": "code",
   "execution_count": null,
   "metadata": {},
   "outputs": [],
   "source": [
    "pred_pb=rf_clf.predict_proba(xc_test)[:,1]\n",
    "Fpr,Tpr,thresholds = roc_curve(yc_test,pred_pb,pos_label=True)"
   ]
  },
  {
   "cell_type": "markdown",
   "metadata": {},
   "source": [
    "# AUC_ROC Curve"
   ]
  },
  {
   "cell_type": "code",
   "execution_count": null,
   "metadata": {},
   "outputs": [],
   "source": [
    "#plotting the graph for area under curve for representing accuracy of data\n",
    "plt.plot([0,1],[1,0],'r--')\n",
    "plt.plot(Fpr,Tpr)\n",
    "plt.xlabel('False_Positive_Rate')\n",
    "plt.ylabel('True_Positive_Rate')\n",
    "plt.title(\"Random_Forest_Classifier\")\n",
    "plt.show()"
   ]
  },
  {
   "cell_type": "code",
   "execution_count": null,
   "metadata": {},
   "outputs": [],
   "source": [
    "Conclusion:Model-2 (Classification)"
   ]
  },
  {
   "cell_type": "markdown",
   "metadata": {},
   "source": [
    "Conclusion for Model-2 :\n",
    "    \n",
    "a. Taken output variable as Region data(transformed into numerical value by Label encoder)\n",
    "\n",
    "b. Found best model as RandomForestClassifier and best random state is 57 which provides max accuracy score of 0.99.\n",
    "\n",
    "c. Plotted AOC/ROC line that shows close match between test and predicted values.\n",
    "\n",
    "d. Overall model fit is good. "
   ]
  },
  {
   "cell_type": "markdown",
   "metadata": {},
   "source": [
    "Overall Remarks :\n",
    "\n",
    "a. Average price, total bags and total volume is well normally distributed data among all other column.\n",
    "\n",
    "b. Used zscore analysis and replaced with mean values to remove outliers.\n",
    "\n",
    "c. No significant correlation observed through heatmap analysis. \n",
    "\n",
    "d. Spike observed in Oct-Nov month in avg. price of Avocado.\n",
    "\n",
    "e. We observe that Syracuse and Philadelphia has highest avg. price in all the regions.\n",
    "\n",
    "f. First found regression model for Avg.price. Found Random forest Regressor with highest accuracy. \n",
    "\n",
    "g. Second done classifictation model for Regions. Found Random Forest Classifier model with highest accuracy.\n"
   ]
  },
  {
   "cell_type": "markdown",
   "metadata": {},
   "source": [
    "# Saving the Model"
   ]
  },
  {
   "cell_type": "code",
   "execution_count": null,
   "metadata": {},
   "outputs": [],
   "source": [
    "import joblib\n",
    "#save the model as a pickle in a file \n",
    "joblib.dump(rf_clf,'rf_clf_avacado.pkl')"
   ]
  }
 ],
 "metadata": {
  "kernelspec": {
   "display_name": "Python 3",
   "language": "python",
   "name": "python3"
  },
  "language_info": {
   "codemirror_mode": {
    "name": "ipython",
    "version": 3
   },
   "file_extension": ".py",
   "mimetype": "text/x-python",
   "name": "python",
   "nbconvert_exporter": "python",
   "pygments_lexer": "ipython3",
   "version": "3.8.3"
  }
 },
 "nbformat": 4,
 "nbformat_minor": 4
}
