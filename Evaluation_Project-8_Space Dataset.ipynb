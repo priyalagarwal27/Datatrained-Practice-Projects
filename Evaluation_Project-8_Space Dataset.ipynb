{
 "cells": [
  {
   "cell_type": "code",
   "execution_count": 54,
   "metadata": {},
   "outputs": [],
   "source": [
    "#Importing all the necessary libraries\n",
    "import pandas as pd\n",
    "import numpy as np\n",
    "import matplotlib.pyplot as plt\n",
    "import seaborn as sns\n",
    "\n",
    "import warnings\n",
    "warnings.filterwarnings('ignore')\n",
    "\n",
    "from sklearn.metrics import accuracy_score,classification_report,confusion_matrix,roc_auc_score,roc_curve\n",
    "from sklearn.linear_model import LogisticRegression\n",
    "from sklearn.naive_bayes import MultinomialNB\n",
    "from sklearn.neighbors import KNeighborsClassifier\n",
    "from sklearn.ensemble import RandomForestClassifier\n",
    "from sklearn.svm import SVC\n",
    "from sklearn.tree import DecisionTreeClassifier\n",
    "from sklearn.ensemble import AdaBoostClassifier,GradientBoostingClassifier\n",
    "from sklearn.model_selection import cross_val_score\n",
    "from scipy.stats import zscore\n",
    "from sklearn.preprocessing import LabelEncoder,StandardScaler\n",
    "from sklearn.model_selection import train_test_split,GridSearchCV\n",
    "from sklearn.decomposition import PCA"
   ]
  },
  {
   "cell_type": "code",
   "execution_count": 28,
   "metadata": {},
   "outputs": [
    {
     "data": {
      "text/html": [
       "<div>\n",
       "<style scoped>\n",
       "    .dataframe tbody tr th:only-of-type {\n",
       "        vertical-align: middle;\n",
       "    }\n",
       "\n",
       "    .dataframe tbody tr th {\n",
       "        vertical-align: top;\n",
       "    }\n",
       "\n",
       "    .dataframe thead th {\n",
       "        text-align: right;\n",
       "    }\n",
       "</style>\n",
       "<table border=\"1\" class=\"dataframe\">\n",
       "  <thead>\n",
       "    <tr style=\"text-align: right;\">\n",
       "      <th></th>\n",
       "      <th>objid</th>\n",
       "      <th>ra</th>\n",
       "      <th>dec</th>\n",
       "      <th>u</th>\n",
       "      <th>g</th>\n",
       "      <th>r</th>\n",
       "      <th>i</th>\n",
       "      <th>z</th>\n",
       "      <th>run</th>\n",
       "      <th>rerun</th>\n",
       "      <th>camcol</th>\n",
       "      <th>field</th>\n",
       "      <th>specobjid</th>\n",
       "      <th>class</th>\n",
       "      <th>redshift</th>\n",
       "      <th>plate</th>\n",
       "      <th>mjd</th>\n",
       "      <th>fiberid</th>\n",
       "    </tr>\n",
       "  </thead>\n",
       "  <tbody>\n",
       "    <tr>\n",
       "      <th>0</th>\n",
       "      <td>1.240000e+18</td>\n",
       "      <td>183.531326</td>\n",
       "      <td>0.089693</td>\n",
       "      <td>19.47406</td>\n",
       "      <td>17.04240</td>\n",
       "      <td>15.94699</td>\n",
       "      <td>15.50342</td>\n",
       "      <td>15.22531</td>\n",
       "      <td>752</td>\n",
       "      <td>301</td>\n",
       "      <td>4</td>\n",
       "      <td>267</td>\n",
       "      <td>3.720000e+18</td>\n",
       "      <td>STAR</td>\n",
       "      <td>-0.000009</td>\n",
       "      <td>3306</td>\n",
       "      <td>54922</td>\n",
       "      <td>491</td>\n",
       "    </tr>\n",
       "    <tr>\n",
       "      <th>1</th>\n",
       "      <td>1.240000e+18</td>\n",
       "      <td>183.598371</td>\n",
       "      <td>0.135285</td>\n",
       "      <td>18.66280</td>\n",
       "      <td>17.21449</td>\n",
       "      <td>16.67637</td>\n",
       "      <td>16.48922</td>\n",
       "      <td>16.39150</td>\n",
       "      <td>752</td>\n",
       "      <td>301</td>\n",
       "      <td>4</td>\n",
       "      <td>267</td>\n",
       "      <td>3.640000e+17</td>\n",
       "      <td>STAR</td>\n",
       "      <td>-0.000055</td>\n",
       "      <td>323</td>\n",
       "      <td>51615</td>\n",
       "      <td>541</td>\n",
       "    </tr>\n",
       "    <tr>\n",
       "      <th>2</th>\n",
       "      <td>1.240000e+18</td>\n",
       "      <td>183.680207</td>\n",
       "      <td>0.126185</td>\n",
       "      <td>19.38298</td>\n",
       "      <td>18.19169</td>\n",
       "      <td>17.47428</td>\n",
       "      <td>17.08732</td>\n",
       "      <td>16.80125</td>\n",
       "      <td>752</td>\n",
       "      <td>301</td>\n",
       "      <td>4</td>\n",
       "      <td>268</td>\n",
       "      <td>3.230000e+17</td>\n",
       "      <td>GALAXY</td>\n",
       "      <td>0.123111</td>\n",
       "      <td>287</td>\n",
       "      <td>52023</td>\n",
       "      <td>513</td>\n",
       "    </tr>\n",
       "    <tr>\n",
       "      <th>3</th>\n",
       "      <td>1.240000e+18</td>\n",
       "      <td>183.870529</td>\n",
       "      <td>0.049911</td>\n",
       "      <td>17.76536</td>\n",
       "      <td>16.60272</td>\n",
       "      <td>16.16116</td>\n",
       "      <td>15.98233</td>\n",
       "      <td>15.90438</td>\n",
       "      <td>752</td>\n",
       "      <td>301</td>\n",
       "      <td>4</td>\n",
       "      <td>269</td>\n",
       "      <td>3.720000e+18</td>\n",
       "      <td>STAR</td>\n",
       "      <td>-0.000111</td>\n",
       "      <td>3306</td>\n",
       "      <td>54922</td>\n",
       "      <td>510</td>\n",
       "    </tr>\n",
       "    <tr>\n",
       "      <th>4</th>\n",
       "      <td>1.240000e+18</td>\n",
       "      <td>183.883288</td>\n",
       "      <td>0.102557</td>\n",
       "      <td>17.55025</td>\n",
       "      <td>16.26342</td>\n",
       "      <td>16.43869</td>\n",
       "      <td>16.55492</td>\n",
       "      <td>16.61326</td>\n",
       "      <td>752</td>\n",
       "      <td>301</td>\n",
       "      <td>4</td>\n",
       "      <td>269</td>\n",
       "      <td>3.720000e+18</td>\n",
       "      <td>STAR</td>\n",
       "      <td>0.000590</td>\n",
       "      <td>3306</td>\n",
       "      <td>54922</td>\n",
       "      <td>512</td>\n",
       "    </tr>\n",
       "  </tbody>\n",
       "</table>\n",
       "</div>"
      ],
      "text/plain": [
       "          objid          ra       dec         u         g         r         i  \\\n",
       "0  1.240000e+18  183.531326  0.089693  19.47406  17.04240  15.94699  15.50342   \n",
       "1  1.240000e+18  183.598371  0.135285  18.66280  17.21449  16.67637  16.48922   \n",
       "2  1.240000e+18  183.680207  0.126185  19.38298  18.19169  17.47428  17.08732   \n",
       "3  1.240000e+18  183.870529  0.049911  17.76536  16.60272  16.16116  15.98233   \n",
       "4  1.240000e+18  183.883288  0.102557  17.55025  16.26342  16.43869  16.55492   \n",
       "\n",
       "          z  run  rerun  camcol  field     specobjid   class  redshift  plate  \\\n",
       "0  15.22531  752    301       4    267  3.720000e+18    STAR -0.000009   3306   \n",
       "1  16.39150  752    301       4    267  3.640000e+17    STAR -0.000055    323   \n",
       "2  16.80125  752    301       4    268  3.230000e+17  GALAXY  0.123111    287   \n",
       "3  15.90438  752    301       4    269  3.720000e+18    STAR -0.000111   3306   \n",
       "4  16.61326  752    301       4    269  3.720000e+18    STAR  0.000590   3306   \n",
       "\n",
       "     mjd  fiberid  \n",
       "0  54922      491  \n",
       "1  51615      541  \n",
       "2  52023      513  \n",
       "3  54922      510  \n",
       "4  54922      512  "
      ]
     },
     "execution_count": 28,
     "metadata": {},
     "output_type": "execute_result"
    }
   ],
   "source": [
    "#Loading the dataset\n",
    "df=pd.read_csv(\"space.csv\")\n",
    "df.head()"
   ]
  },
  {
   "cell_type": "code",
   "execution_count": 29,
   "metadata": {},
   "outputs": [
    {
     "data": {
      "text/plain": [
       "objid        0\n",
       "ra           0\n",
       "dec          0\n",
       "u            0\n",
       "g            0\n",
       "r            0\n",
       "i            0\n",
       "z            0\n",
       "run          0\n",
       "rerun        0\n",
       "camcol       0\n",
       "field        0\n",
       "specobjid    0\n",
       "class        0\n",
       "redshift     0\n",
       "plate        0\n",
       "mjd          0\n",
       "fiberid      0\n",
       "dtype: int64"
      ]
     },
     "execution_count": 29,
     "metadata": {},
     "output_type": "execute_result"
    }
   ],
   "source": [
    "#getting all column names and checking null values\n",
    "df.isnull().sum()"
   ]
  },
  {
   "cell_type": "code",
   "execution_count": 30,
   "metadata": {},
   "outputs": [
    {
     "data": {
      "image/png": "[encoded data removed]",
      "text/plain": [
       "<Figure size 432x288 with 2 Axes>"
      ]
     },
     "metadata": {
      "needs_background": "light"
     },
     "output_type": "display_data"
    }
   ],
   "source": [
    "#Using Heatmap\n",
    "sns.heatmap(df.isnull())\n",
    "plt.show()"
   ]
  },
  {
   "cell_type": "markdown",
   "metadata": {},
   "source": [
    "Observation: \n",
    "    No null values are found"
   ]
  },
  {
   "cell_type": "code",
   "execution_count": 31,
   "metadata": {},
   "outputs": [
    {
     "data": {
      "text/plain": [
       "objid        float64\n",
       "ra           float64\n",
       "dec          float64\n",
       "u            float64\n",
       "g            float64\n",
       "r            float64\n",
       "i            float64\n",
       "z            float64\n",
       "run            int64\n",
       "rerun          int64\n",
       "camcol         int64\n",
       "field          int64\n",
       "specobjid    float64\n",
       "class         object\n",
       "redshift     float64\n",
       "plate          int64\n",
       "mjd            int64\n",
       "fiberid        int64\n",
       "dtype: object"
      ]
     },
     "execution_count": 31,
     "metadata": {},
     "output_type": "execute_result"
    }
   ],
   "source": [
    "#Check the datatypes of each column in dataset\n",
    "df.dtypes"
   ]
  },
  {
   "cell_type": "code",
   "execution_count": 32,
   "metadata": {},
   "outputs": [
    {
     "name": "stdout",
     "output_type": "stream",
     "text": [
      "No of unique values in  objid  is  1\n",
      "Unique values are :  [1.24e+18] \n",
      "\n",
      "No of unique values in  ra  is  10000\n",
      "No of unique values in  dec  is  10000\n",
      "No of unique values in  u  is  9730\n",
      "No of unique values in  g  is  9817\n",
      "No of unique values in  r  is  9852\n",
      "No of unique values in  i  is  9890\n",
      "No of unique values in  z  is  9896\n",
      "No of unique values in  run  is  23\n",
      "No of unique values in  rerun  is  1\n",
      "Unique values are :  [301] \n",
      "\n",
      "No of unique values in  camcol  is  6\n",
      "No of unique values in  field  is  703\n",
      "No of unique values in  specobjid  is  335\n",
      "No of unique values in  class  is  3\n",
      "Unique values are :  ['STAR' 'GALAXY' 'QSO'] \n",
      "\n",
      "No of unique values in  redshift  is  9637\n",
      "No of unique values in  plate  is  487\n",
      "No of unique values in  mjd  is  355\n",
      "No of unique values in  fiberid  is  892\n"
     ]
    }
   ],
   "source": [
    "#Understanding the data /Finding unique values\n",
    "\n",
    "for i in df.columns:\n",
    "    print(\"No of unique values in \",i,\" is \",len(df[i].unique()))\n",
    "    if len(df[i].unique()) < 5:\n",
    "          print(\"Unique values are : \",df[i].unique(),\"\\n\")"
   ]
  },
  {
   "cell_type": "markdown",
   "metadata": {},
   "source": [
    "#### Observation:\n",
    "We now know that\n",
    "\n",
    "a) ObjectId and Rerun has only 1 value and can be dropped. \n",
    "\n",
    "b) Class-target variable has three values - STAR , GALAXY, QSO"
   ]
  },
  {
   "cell_type": "code",
   "execution_count": 33,
   "metadata": {},
   "outputs": [
    {
     "data": {
      "text/html": [
       "<div>\n",
       "<style scoped>\n",
       "    .dataframe tbody tr th:only-of-type {\n",
       "        vertical-align: middle;\n",
       "    }\n",
       "\n",
       "    .dataframe tbody tr th {\n",
       "        vertical-align: top;\n",
       "    }\n",
       "\n",
       "    .dataframe thead th {\n",
       "        text-align: right;\n",
       "    }\n",
       "</style>\n",
       "<table border=\"1\" class=\"dataframe\">\n",
       "  <thead>\n",
       "    <tr style=\"text-align: right;\">\n",
       "      <th></th>\n",
       "      <th>ra</th>\n",
       "      <th>dec</th>\n",
       "      <th>u</th>\n",
       "      <th>g</th>\n",
       "      <th>r</th>\n",
       "      <th>i</th>\n",
       "      <th>z</th>\n",
       "      <th>class</th>\n",
       "      <th>redshift</th>\n",
       "      <th>plate</th>\n",
       "      <th>mjd</th>\n",
       "      <th>fiberid</th>\n",
       "    </tr>\n",
       "  </thead>\n",
       "  <tbody>\n",
       "    <tr>\n",
       "      <th>0</th>\n",
       "      <td>183.531326</td>\n",
       "      <td>0.089693</td>\n",
       "      <td>19.47406</td>\n",
       "      <td>17.04240</td>\n",
       "      <td>15.94699</td>\n",
       "      <td>15.50342</td>\n",
       "      <td>15.22531</td>\n",
       "      <td>STAR</td>\n",
       "      <td>-0.000009</td>\n",
       "      <td>3306</td>\n",
       "      <td>54922</td>\n",
       "      <td>491</td>\n",
       "    </tr>\n",
       "    <tr>\n",
       "      <th>1</th>\n",
       "      <td>183.598371</td>\n",
       "      <td>0.135285</td>\n",
       "      <td>18.66280</td>\n",
       "      <td>17.21449</td>\n",
       "      <td>16.67637</td>\n",
       "      <td>16.48922</td>\n",
       "      <td>16.39150</td>\n",
       "      <td>STAR</td>\n",
       "      <td>-0.000055</td>\n",
       "      <td>323</td>\n",
       "      <td>51615</td>\n",
       "      <td>541</td>\n",
       "    </tr>\n",
       "    <tr>\n",
       "      <th>2</th>\n",
       "      <td>183.680207</td>\n",
       "      <td>0.126185</td>\n",
       "      <td>19.38298</td>\n",
       "      <td>18.19169</td>\n",
       "      <td>17.47428</td>\n",
       "      <td>17.08732</td>\n",
       "      <td>16.80125</td>\n",
       "      <td>GALAXY</td>\n",
       "      <td>0.123111</td>\n",
       "      <td>287</td>\n",
       "      <td>52023</td>\n",
       "      <td>513</td>\n",
       "    </tr>\n",
       "    <tr>\n",
       "      <th>3</th>\n",
       "      <td>183.870529</td>\n",
       "      <td>0.049911</td>\n",
       "      <td>17.76536</td>\n",
       "      <td>16.60272</td>\n",
       "      <td>16.16116</td>\n",
       "      <td>15.98233</td>\n",
       "      <td>15.90438</td>\n",
       "      <td>STAR</td>\n",
       "      <td>-0.000111</td>\n",
       "      <td>3306</td>\n",
       "      <td>54922</td>\n",
       "      <td>510</td>\n",
       "    </tr>\n",
       "    <tr>\n",
       "      <th>4</th>\n",
       "      <td>183.883288</td>\n",
       "      <td>0.102557</td>\n",
       "      <td>17.55025</td>\n",
       "      <td>16.26342</td>\n",
       "      <td>16.43869</td>\n",
       "      <td>16.55492</td>\n",
       "      <td>16.61326</td>\n",
       "      <td>STAR</td>\n",
       "      <td>0.000590</td>\n",
       "      <td>3306</td>\n",
       "      <td>54922</td>\n",
       "      <td>512</td>\n",
       "    </tr>\n",
       "  </tbody>\n",
       "</table>\n",
       "</div>"
      ],
      "text/plain": [
       "           ra       dec         u         g         r         i         z  \\\n",
       "0  183.531326  0.089693  19.47406  17.04240  15.94699  15.50342  15.22531   \n",
       "1  183.598371  0.135285  18.66280  17.21449  16.67637  16.48922  16.39150   \n",
       "2  183.680207  0.126185  19.38298  18.19169  17.47428  17.08732  16.80125   \n",
       "3  183.870529  0.049911  17.76536  16.60272  16.16116  15.98233  15.90438   \n",
       "4  183.883288  0.102557  17.55025  16.26342  16.43869  16.55492  16.61326   \n",
       "\n",
       "    class  redshift  plate    mjd  fiberid  \n",
       "0    STAR -0.000009   3306  54922      491  \n",
       "1    STAR -0.000055    323  51615      541  \n",
       "2  GALAXY  0.123111    287  52023      513  \n",
       "3    STAR -0.000111   3306  54922      510  \n",
       "4    STAR  0.000590   3306  54922      512  "
      ]
     },
     "execution_count": 33,
     "metadata": {},
     "output_type": "execute_result"
    }
   ],
   "source": [
    "# As objectid, spaceobjid are only id numbers they can be dropped\n",
    "#Additionally as run,rerun,camcol are indicating camera position and not information about the celestial bodies, they can also be dropped. \n",
    "\n",
    "df.drop([\"objid\",'specobjid','run','rerun','camcol','field'],inplace=True,axis=1)\n",
    "df.head()"
   ]
  },
  {
   "cell_type": "markdown",
   "metadata": {},
   "source": [
    "## DATA VISUALIZATION - Univariate Analysis"
   ]
  },
  {
   "cell_type": "code",
   "execution_count": 34,
   "metadata": {},
   "outputs": [
    {
     "data": {
      "image/png": "[encoded data removed]",
      "text/plain": [
       "<Figure size 576x432 with 1 Axes>"
      ]
     },
     "metadata": {
      "needs_background": "light"
     },
     "output_type": "display_data"
    }
   ],
   "source": [
    "#First we will plot count of classes to understand the distribution of the data.\n",
    "plt.figure(figsize=[8,6])\n",
    "sns.countplot(x =\"class\" ,data = df)\n",
    "plt.title(\"Count of Classes\")\n",
    "plt.show()"
   ]
  },
  {
   "cell_type": "markdown",
   "metadata": {},
   "source": [
    "#### Observation: \n",
    "a. Clearly Stars and Galaxy dominate the dataset and QSO have the lesser amount of data in the dataset. "
   ]
  },
  {
   "cell_type": "code",
   "execution_count": 35,
   "metadata": {},
   "outputs": [
    {
     "data": {
      "image/png": "[encoded data removed]",
      "text/plain": [
       "<Figure size 720x288 with 3 Axes>"
      ]
     },
     "metadata": {
      "needs_background": "light"
     },
     "output_type": "display_data"
    }
   ],
   "source": [
    "#Plotting various classes with other variables to understand the relationship\n",
    "fig,axes = plt.subplots(nrows=1,ncols=3,figsize=(10,4))\n",
    "fig.suptitle('Class vs Variables')\n",
    "col = [\"dec\",\"ra\",\"redshift\"]\n",
    "for i in range(0,len(col)):\n",
    "    axes[i] = sns.boxenplot(x=\"class\",y=col[i],data=df, ax=axes[i])\n",
    "    axes[i].set_title(\"Class vs \"+col[i])"
   ]
  },
  {
   "cell_type": "markdown",
   "metadata": {},
   "source": [
    "#### Observation: \n",
    "##### Dec: \n",
    "a. Dec position indicates max stars are found from dec value 0 to 10 , galaxy from 0 to 40 , QSO from 0 to 60.  \n",
    " b. Dec position should be directly correlated to the probability of differentiating the classes\n",
    "\n",
    "##### RA:\n",
    "\n",
    "a. RA values for all classes are within the same range and not much difference is seen.\n",
    "\n",
    "##### Redshift: \n",
    "a. Reshift increases as the distance/size of celestial bodies increase  \n",
    "b. Star has minimum reshift , QSO has maximum reshift.  \n",
    "c. This is a directly correlated variable to identify classes.  \n",
    "    "
   ]
  },
  {
   "cell_type": "code",
   "execution_count": 36,
   "metadata": {},
   "outputs": [
    {
     "data": {
      "image/png": "[encoded data removed]",
      "text/plain": [
       "<Figure size 720x288 with 3 Axes>"
      ]
     },
     "metadata": {
      "needs_background": "light"
     },
     "output_type": "display_data"
    }
   ],
   "source": [
    "#Plotting various classes with other variables to understand the relationship\n",
    "fig,axes = plt.subplots(nrows=1,ncols=3,figsize=(10,4))\n",
    "fig.suptitle('Class vs Variables')\n",
    "col = [\"mjd\",\"plate\",\"fiberid\"]\n",
    "for i in range(0,len(col)):\n",
    "    axes[i] = sns.boxenplot(x=\"class\",y=col[i],data=df, ax=axes[i])\n",
    "    axes[i].set_title(\"Class vs \"+col[i])"
   ]
  },
  {
   "cell_type": "markdown",
   "metadata": {},
   "source": [
    "#### Observation: \n",
    "##### Modified Julian Date: \n",
    "a.MJD values for STAR and QSO varies from 52000 to 56000 , whereas GALAXY band is narrower  \n",
    "b.This indicates that no. of galaxies discovered has decreased significantly\n",
    "\n",
    "##### Plate:\n",
    "\n",
    "a. Similar values are seen for Plate data as mjd data. \n",
    "\n",
    "##### Fiberid: \n",
    "a. No significant change in fiberid is observed   \n",
    "b. This column shows equal distribution.  \n",
    "    "
   ]
  },
  {
   "cell_type": "code",
   "execution_count": 37,
   "metadata": {},
   "outputs": [
    {
     "data": {
      "image/png": "[encoded data removed]",
      "text/plain": [
       "<Figure size 1152x288 with 5 Axes>"
      ]
     },
     "metadata": {
      "needs_background": "light"
     },
     "output_type": "display_data"
    }
   ],
   "source": [
    "#Plotting various classes with other variables to understand the relationship\n",
    "fig,axes = plt.subplots(nrows=1,ncols=5,figsize=(16,4),sharey=True)\n",
    "fig.suptitle('Class vs Variables')\n",
    "col = [\"u\",'g','r','i',\"z\"]\n",
    "for i in range(0,len(col)):\n",
    "    axes[i] = sns.boxplot(x=\"class\",y=col[i],data=df, ax=axes[i])\n",
    "    axes[i].set_title(\"Class vs \"+col[i])"
   ]
  },
  {
   "cell_type": "markdown",
   "metadata": {},
   "source": [
    "#### Observation: \n",
    "\n",
    "a. All graphs look similar, apart from few outliers in r, i and z.\n",
    "\n",
    "b. However correlation is differnet for u attribute that shows differnet relationship than other variables. \n",
    "\n",
    "c. The correlation seem similar for all classes in each bands. "
   ]
  },
  {
   "cell_type": "markdown",
   "metadata": {},
   "source": [
    "# Checking Correlation"
   ]
  },
  {
   "cell_type": "code",
   "execution_count": 38,
   "metadata": {},
   "outputs": [],
   "source": [
    "#we will tranform categorical data to float using label encoding for better analysis\n",
    "le = LabelEncoder()\n",
    "df[\"class\"] = le.fit_transform(df[\"class\"].astype(str))"
   ]
  },
  {
   "cell_type": "code",
   "execution_count": 39,
   "metadata": {},
   "outputs": [
    {
     "data": {
      "text/plain": [
       "<matplotlib.axes._subplots.AxesSubplot at 0x7f32e8f948d0>"
      ]
     },
     "execution_count": 39,
     "metadata": {},
     "output_type": "execute_result"
    },
    {
     "data": {
      "image/png": "[encoded data removed]",
      "text/plain": [
       "<Figure size 864x432 with 2 Axes>"
      ]
     },
     "metadata": {
      "needs_background": "light"
     },
     "output_type": "display_data"
    }
   ],
   "source": [
    "#checking correlation in variables\n",
    "plt.figure(figsize=(12,6))\n",
    "sns.heatmap(df.corr(),cmap='coolwarm',annot=True)\n",
    "#No significant correlation is observed between average price and other variables.\n",
    "#However good correlation is shown between other variables"
   ]
  },
  {
   "cell_type": "markdown",
   "metadata": {},
   "source": [
    "##### Observation: \n",
    "\n",
    "a. u,g,r,i,z seems heavily correlated with each other.  \n",
    "b. Class variable shows positive correlation with mjd,plate,r,i and z and negative correlation with redshift  and dec.  \n",
    "c. Fiberid and ra shows minimum correlation with class variable.   "
   ]
  },
  {
   "cell_type": "markdown",
   "metadata": {},
   "source": [
    "# Removing Outliers "
   ]
  },
  {
   "cell_type": "code",
   "execution_count": 40,
   "metadata": {},
   "outputs": [
    {
     "data": {
      "text/html": [
       "<div>\n",
       "<style scoped>\n",
       "    .dataframe tbody tr th:only-of-type {\n",
       "        vertical-align: middle;\n",
       "    }\n",
       "\n",
       "    .dataframe tbody tr th {\n",
       "        vertical-align: top;\n",
       "    }\n",
       "\n",
       "    .dataframe thead th {\n",
       "        text-align: right;\n",
       "    }\n",
       "</style>\n",
       "<table border=\"1\" class=\"dataframe\">\n",
       "  <thead>\n",
       "    <tr style=\"text-align: right;\">\n",
       "      <th></th>\n",
       "      <th>ra</th>\n",
       "      <th>dec</th>\n",
       "      <th>u</th>\n",
       "      <th>g</th>\n",
       "      <th>r</th>\n",
       "      <th>i</th>\n",
       "      <th>z</th>\n",
       "      <th>class</th>\n",
       "      <th>redshift</th>\n",
       "      <th>plate</th>\n",
       "      <th>mjd</th>\n",
       "      <th>fiberid</th>\n",
       "    </tr>\n",
       "  </thead>\n",
       "  <tbody>\n",
       "    <tr>\n",
       "      <th>count</th>\n",
       "      <td>10000.000000</td>\n",
       "      <td>10000.000000</td>\n",
       "      <td>10000.000000</td>\n",
       "      <td>10000.000000</td>\n",
       "      <td>10000.000000</td>\n",
       "      <td>10000.000000</td>\n",
       "      <td>10000.000000</td>\n",
       "      <td>10000.000000</td>\n",
       "      <td>10000.000000</td>\n",
       "      <td>10000.000000</td>\n",
       "      <td>10000.000000</td>\n",
       "      <td>10000.000000</td>\n",
       "    </tr>\n",
       "    <tr>\n",
       "      <th>mean</th>\n",
       "      <td>175.529987</td>\n",
       "      <td>14.836148</td>\n",
       "      <td>18.619355</td>\n",
       "      <td>17.371931</td>\n",
       "      <td>16.840963</td>\n",
       "      <td>16.583579</td>\n",
       "      <td>16.422833</td>\n",
       "      <td>0.915400</td>\n",
       "      <td>0.143726</td>\n",
       "      <td>1460.986400</td>\n",
       "      <td>52943.533300</td>\n",
       "      <td>353.069400</td>\n",
       "    </tr>\n",
       "    <tr>\n",
       "      <th>std</th>\n",
       "      <td>47.783439</td>\n",
       "      <td>25.212207</td>\n",
       "      <td>0.828656</td>\n",
       "      <td>0.945457</td>\n",
       "      <td>1.067764</td>\n",
       "      <td>1.141805</td>\n",
       "      <td>1.203188</td>\n",
       "      <td>0.952856</td>\n",
       "      <td>0.388774</td>\n",
       "      <td>1788.778371</td>\n",
       "      <td>1511.150651</td>\n",
       "      <td>206.298149</td>\n",
       "    </tr>\n",
       "    <tr>\n",
       "      <th>min</th>\n",
       "      <td>8.235100</td>\n",
       "      <td>-5.382632</td>\n",
       "      <td>12.988970</td>\n",
       "      <td>12.799550</td>\n",
       "      <td>12.431600</td>\n",
       "      <td>11.947210</td>\n",
       "      <td>11.610410</td>\n",
       "      <td>0.000000</td>\n",
       "      <td>-0.004136</td>\n",
       "      <td>266.000000</td>\n",
       "      <td>51578.000000</td>\n",
       "      <td>1.000000</td>\n",
       "    </tr>\n",
       "    <tr>\n",
       "      <th>25%</th>\n",
       "      <td>157.370946</td>\n",
       "      <td>-0.539035</td>\n",
       "      <td>18.178035</td>\n",
       "      <td>16.815100</td>\n",
       "      <td>16.173333</td>\n",
       "      <td>15.853705</td>\n",
       "      <td>15.618285</td>\n",
       "      <td>0.000000</td>\n",
       "      <td>0.000081</td>\n",
       "      <td>301.000000</td>\n",
       "      <td>51900.000000</td>\n",
       "      <td>186.750000</td>\n",
       "    </tr>\n",
       "    <tr>\n",
       "      <th>50%</th>\n",
       "      <td>180.394514</td>\n",
       "      <td>0.404166</td>\n",
       "      <td>18.853095</td>\n",
       "      <td>17.495135</td>\n",
       "      <td>16.858770</td>\n",
       "      <td>16.554985</td>\n",
       "      <td>16.389945</td>\n",
       "      <td>1.000000</td>\n",
       "      <td>0.042591</td>\n",
       "      <td>441.000000</td>\n",
       "      <td>51997.000000</td>\n",
       "      <td>351.000000</td>\n",
       "    </tr>\n",
       "    <tr>\n",
       "      <th>75%</th>\n",
       "      <td>201.547279</td>\n",
       "      <td>35.649397</td>\n",
       "      <td>19.259232</td>\n",
       "      <td>18.010145</td>\n",
       "      <td>17.512675</td>\n",
       "      <td>17.258550</td>\n",
       "      <td>17.141447</td>\n",
       "      <td>2.000000</td>\n",
       "      <td>0.092579</td>\n",
       "      <td>2559.000000</td>\n",
       "      <td>54468.000000</td>\n",
       "      <td>510.000000</td>\n",
       "    </tr>\n",
       "    <tr>\n",
       "      <th>max</th>\n",
       "      <td>260.884382</td>\n",
       "      <td>68.542265</td>\n",
       "      <td>19.599900</td>\n",
       "      <td>19.918970</td>\n",
       "      <td>24.802040</td>\n",
       "      <td>28.179630</td>\n",
       "      <td>22.833060</td>\n",
       "      <td>2.000000</td>\n",
       "      <td>5.353854</td>\n",
       "      <td>8410.000000</td>\n",
       "      <td>57481.000000</td>\n",
       "      <td>1000.000000</td>\n",
       "    </tr>\n",
       "  </tbody>\n",
       "</table>\n",
       "</div>"
      ],
      "text/plain": [
       "                 ra           dec             u             g             r  \\\n",
       "count  10000.000000  10000.000000  10000.000000  10000.000000  10000.000000   \n",
       "mean     175.529987     14.836148     18.619355     17.371931     16.840963   \n",
       "std       47.783439     25.212207      0.828656      0.945457      1.067764   \n",
       "min        8.235100     -5.382632     12.988970     12.799550     12.431600   \n",
       "25%      157.370946     -0.539035     18.178035     16.815100     16.173333   \n",
       "50%      180.394514      0.404166     18.853095     17.495135     16.858770   \n",
       "75%      201.547279     35.649397     19.259232     18.010145     17.512675   \n",
       "max      260.884382     68.542265     19.599900     19.918970     24.802040   \n",
       "\n",
       "                  i             z         class      redshift         plate  \\\n",
       "count  10000.000000  10000.000000  10000.000000  10000.000000  10000.000000   \n",
       "mean      16.583579     16.422833      0.915400      0.143726   1460.986400   \n",
       "std        1.141805      1.203188      0.952856      0.388774   1788.778371   \n",
       "min       11.947210     11.610410      0.000000     -0.004136    266.000000   \n",
       "25%       15.853705     15.618285      0.000000      0.000081    301.000000   \n",
       "50%       16.554985     16.389945      1.000000      0.042591    441.000000   \n",
       "75%       17.258550     17.141447      2.000000      0.092579   2559.000000   \n",
       "max       28.179630     22.833060      2.000000      5.353854   8410.000000   \n",
       "\n",
       "                mjd       fiberid  \n",
       "count  10000.000000  10000.000000  \n",
       "mean   52943.533300    353.069400  \n",
       "std     1511.150651    206.298149  \n",
       "min    51578.000000      1.000000  \n",
       "25%    51900.000000    186.750000  \n",
       "50%    51997.000000    351.000000  \n",
       "75%    54468.000000    510.000000  \n",
       "max    57481.000000   1000.000000  "
      ]
     },
     "execution_count": 40,
     "metadata": {},
     "output_type": "execute_result"
    }
   ],
   "source": [
    "#Lets use the describe function \n",
    "df.describe()"
   ]
  },
  {
   "cell_type": "markdown",
   "metadata": {},
   "source": [
    "##### Observations:\n",
    "a. As mean and median score is varying for many columns , clearly some outliers are present in few columns."
   ]
  },
  {
   "cell_type": "code",
   "execution_count": 41,
   "metadata": {},
   "outputs": [
    {
     "name": "stdout",
     "output_type": "stream",
     "text": [
      "ra          float64\n",
      "dec         float64\n",
      "u           float64\n",
      "g           float64\n",
      "r           float64\n",
      "i           float64\n",
      "z           float64\n",
      "class       float64\n",
      "redshift    float64\n",
      "plate       float64\n",
      "mjd         float64\n",
      "fiberid     float64\n",
      "dtype: object\n"
     ]
    },
    {
     "data": {
      "text/html": [
       "<div>\n",
       "<style scoped>\n",
       "    .dataframe tbody tr th:only-of-type {\n",
       "        vertical-align: middle;\n",
       "    }\n",
       "\n",
       "    .dataframe tbody tr th {\n",
       "        vertical-align: top;\n",
       "    }\n",
       "\n",
       "    .dataframe thead th {\n",
       "        text-align: right;\n",
       "    }\n",
       "</style>\n",
       "<table border=\"1\" class=\"dataframe\">\n",
       "  <thead>\n",
       "    <tr style=\"text-align: right;\">\n",
       "      <th></th>\n",
       "      <th>ra</th>\n",
       "      <th>dec</th>\n",
       "      <th>u</th>\n",
       "      <th>g</th>\n",
       "      <th>r</th>\n",
       "      <th>i</th>\n",
       "      <th>z</th>\n",
       "      <th>class</th>\n",
       "      <th>redshift</th>\n",
       "      <th>plate</th>\n",
       "      <th>mjd</th>\n",
       "      <th>fiberid</th>\n",
       "    </tr>\n",
       "  </thead>\n",
       "  <tbody>\n",
       "    <tr>\n",
       "      <th>0</th>\n",
       "      <td>183.531326</td>\n",
       "      <td>0.089693</td>\n",
       "      <td>19.47406</td>\n",
       "      <td>17.04240</td>\n",
       "      <td>15.94699</td>\n",
       "      <td>15.50342</td>\n",
       "      <td>15.22531</td>\n",
       "      <td>2.0</td>\n",
       "      <td>-0.000009</td>\n",
       "      <td>3306.0</td>\n",
       "      <td>54922.0</td>\n",
       "      <td>491.0</td>\n",
       "    </tr>\n",
       "    <tr>\n",
       "      <th>1</th>\n",
       "      <td>183.598371</td>\n",
       "      <td>0.135285</td>\n",
       "      <td>18.66280</td>\n",
       "      <td>17.21449</td>\n",
       "      <td>16.67637</td>\n",
       "      <td>16.48922</td>\n",
       "      <td>16.39150</td>\n",
       "      <td>2.0</td>\n",
       "      <td>-0.000055</td>\n",
       "      <td>323.0</td>\n",
       "      <td>51615.0</td>\n",
       "      <td>541.0</td>\n",
       "    </tr>\n",
       "    <tr>\n",
       "      <th>2</th>\n",
       "      <td>183.680207</td>\n",
       "      <td>0.126185</td>\n",
       "      <td>19.38298</td>\n",
       "      <td>18.19169</td>\n",
       "      <td>17.47428</td>\n",
       "      <td>17.08732</td>\n",
       "      <td>16.80125</td>\n",
       "      <td>0.0</td>\n",
       "      <td>0.123111</td>\n",
       "      <td>287.0</td>\n",
       "      <td>52023.0</td>\n",
       "      <td>513.0</td>\n",
       "    </tr>\n",
       "    <tr>\n",
       "      <th>3</th>\n",
       "      <td>183.870529</td>\n",
       "      <td>0.049911</td>\n",
       "      <td>17.76536</td>\n",
       "      <td>16.60272</td>\n",
       "      <td>16.16116</td>\n",
       "      <td>15.98233</td>\n",
       "      <td>15.90438</td>\n",
       "      <td>2.0</td>\n",
       "      <td>-0.000111</td>\n",
       "      <td>3306.0</td>\n",
       "      <td>54922.0</td>\n",
       "      <td>510.0</td>\n",
       "    </tr>\n",
       "    <tr>\n",
       "      <th>4</th>\n",
       "      <td>183.883288</td>\n",
       "      <td>0.102557</td>\n",
       "      <td>17.55025</td>\n",
       "      <td>16.26342</td>\n",
       "      <td>16.43869</td>\n",
       "      <td>16.55492</td>\n",
       "      <td>16.61326</td>\n",
       "      <td>2.0</td>\n",
       "      <td>0.000590</td>\n",
       "      <td>3306.0</td>\n",
       "      <td>54922.0</td>\n",
       "      <td>512.0</td>\n",
       "    </tr>\n",
       "  </tbody>\n",
       "</table>\n",
       "</div>"
      ],
      "text/plain": [
       "           ra       dec         u         g         r         i         z  \\\n",
       "0  183.531326  0.089693  19.47406  17.04240  15.94699  15.50342  15.22531   \n",
       "1  183.598371  0.135285  18.66280  17.21449  16.67637  16.48922  16.39150   \n",
       "2  183.680207  0.126185  19.38298  18.19169  17.47428  17.08732  16.80125   \n",
       "3  183.870529  0.049911  17.76536  16.60272  16.16116  15.98233  15.90438   \n",
       "4  183.883288  0.102557  17.55025  16.26342  16.43869  16.55492  16.61326   \n",
       "\n",
       "   class  redshift   plate      mjd  fiberid  \n",
       "0    2.0 -0.000009  3306.0  54922.0    491.0  \n",
       "1    2.0 -0.000055   323.0  51615.0    541.0  \n",
       "2    0.0  0.123111   287.0  52023.0    513.0  \n",
       "3    2.0 -0.000111  3306.0  54922.0    510.0  \n",
       "4    2.0  0.000590  3306.0  54922.0    512.0  "
      ]
     },
     "execution_count": 41,
     "metadata": {},
     "output_type": "execute_result"
    }
   ],
   "source": [
    "#converting all columns to float for easy analysis. \n",
    "for col in df.columns:\n",
    "    df[col] = df[col].astype(float)\n",
    "    \n",
    "print(df.dtypes)\n",
    "df.head()"
   ]
  },
  {
   "cell_type": "code",
   "execution_count": 42,
   "metadata": {},
   "outputs": [],
   "source": [
    "#as there are lot of outliers in the data we will use z score analysis\n",
    "#calculate the zscore\n",
    "z = np.abs(zscore(df))"
   ]
  },
  {
   "cell_type": "code",
   "execution_count": 43,
   "metadata": {},
   "outputs": [
    {
     "name": "stdout",
     "output_type": "stream",
     "text": [
      "(array([   0,    0,    0, ..., 9999, 9999, 9999]), array([ 0,  1,  2, ...,  9, 10, 11]))\n",
      "(10000, 12)\n"
     ]
    }
   ],
   "source": [
    "threshold = 3\n",
    "print(np.where(z<3))\n",
    "print(df.shape)"
   ]
  },
  {
   "cell_type": "code",
   "execution_count": 44,
   "metadata": {},
   "outputs": [],
   "source": [
    "#Assign the value to df_new which are less the threshold value and removing the outliers\n",
    "filtered_entries= (z < 3).all(axis=1)\n",
    "df_new = df[filtered_entries]"
   ]
  },
  {
   "cell_type": "code",
   "execution_count": 45,
   "metadata": {},
   "outputs": [
    {
     "name": "stdout",
     "output_type": "stream",
     "text": [
      "(10000, 12)\n",
      "(8698, 12)\n"
     ]
    },
    {
     "data": {
      "text/html": [
       "<div>\n",
       "<style scoped>\n",
       "    .dataframe tbody tr th:only-of-type {\n",
       "        vertical-align: middle;\n",
       "    }\n",
       "\n",
       "    .dataframe tbody tr th {\n",
       "        vertical-align: top;\n",
       "    }\n",
       "\n",
       "    .dataframe thead th {\n",
       "        text-align: right;\n",
       "    }\n",
       "</style>\n",
       "<table border=\"1\" class=\"dataframe\">\n",
       "  <thead>\n",
       "    <tr style=\"text-align: right;\">\n",
       "      <th></th>\n",
       "      <th>ra</th>\n",
       "      <th>dec</th>\n",
       "      <th>u</th>\n",
       "      <th>g</th>\n",
       "      <th>r</th>\n",
       "      <th>i</th>\n",
       "      <th>z</th>\n",
       "      <th>class</th>\n",
       "      <th>redshift</th>\n",
       "      <th>plate</th>\n",
       "      <th>mjd</th>\n",
       "      <th>fiberid</th>\n",
       "    </tr>\n",
       "  </thead>\n",
       "  <tbody>\n",
       "    <tr>\n",
       "      <th>0</th>\n",
       "      <td>183.531326</td>\n",
       "      <td>0.089693</td>\n",
       "      <td>19.47406</td>\n",
       "      <td>17.04240</td>\n",
       "      <td>15.94699</td>\n",
       "      <td>15.50342</td>\n",
       "      <td>15.22531</td>\n",
       "      <td>2.0</td>\n",
       "      <td>-0.000009</td>\n",
       "      <td>3306.0</td>\n",
       "      <td>54922.0</td>\n",
       "      <td>491.0</td>\n",
       "    </tr>\n",
       "    <tr>\n",
       "      <th>1</th>\n",
       "      <td>183.598371</td>\n",
       "      <td>0.135285</td>\n",
       "      <td>18.66280</td>\n",
       "      <td>17.21449</td>\n",
       "      <td>16.67637</td>\n",
       "      <td>16.48922</td>\n",
       "      <td>16.39150</td>\n",
       "      <td>2.0</td>\n",
       "      <td>-0.000055</td>\n",
       "      <td>323.0</td>\n",
       "      <td>51615.0</td>\n",
       "      <td>541.0</td>\n",
       "    </tr>\n",
       "    <tr>\n",
       "      <th>2</th>\n",
       "      <td>183.680207</td>\n",
       "      <td>0.126185</td>\n",
       "      <td>19.38298</td>\n",
       "      <td>18.19169</td>\n",
       "      <td>17.47428</td>\n",
       "      <td>17.08732</td>\n",
       "      <td>16.80125</td>\n",
       "      <td>0.0</td>\n",
       "      <td>0.123111</td>\n",
       "      <td>287.0</td>\n",
       "      <td>52023.0</td>\n",
       "      <td>513.0</td>\n",
       "    </tr>\n",
       "    <tr>\n",
       "      <th>3</th>\n",
       "      <td>183.870529</td>\n",
       "      <td>0.049911</td>\n",
       "      <td>17.76536</td>\n",
       "      <td>16.60272</td>\n",
       "      <td>16.16116</td>\n",
       "      <td>15.98233</td>\n",
       "      <td>15.90438</td>\n",
       "      <td>2.0</td>\n",
       "      <td>-0.000111</td>\n",
       "      <td>3306.0</td>\n",
       "      <td>54922.0</td>\n",
       "      <td>510.0</td>\n",
       "    </tr>\n",
       "    <tr>\n",
       "      <th>4</th>\n",
       "      <td>183.883288</td>\n",
       "      <td>0.102557</td>\n",
       "      <td>17.55025</td>\n",
       "      <td>16.26342</td>\n",
       "      <td>16.43869</td>\n",
       "      <td>16.55492</td>\n",
       "      <td>16.61326</td>\n",
       "      <td>2.0</td>\n",
       "      <td>0.000590</td>\n",
       "      <td>3306.0</td>\n",
       "      <td>54922.0</td>\n",
       "      <td>512.0</td>\n",
       "    </tr>\n",
       "  </tbody>\n",
       "</table>\n",
       "</div>"
      ],
      "text/plain": [
       "           ra       dec         u         g         r         i         z  \\\n",
       "0  183.531326  0.089693  19.47406  17.04240  15.94699  15.50342  15.22531   \n",
       "1  183.598371  0.135285  18.66280  17.21449  16.67637  16.48922  16.39150   \n",
       "2  183.680207  0.126185  19.38298  18.19169  17.47428  17.08732  16.80125   \n",
       "3  183.870529  0.049911  17.76536  16.60272  16.16116  15.98233  15.90438   \n",
       "4  183.883288  0.102557  17.55025  16.26342  16.43869  16.55492  16.61326   \n",
       "\n",
       "   class  redshift   plate      mjd  fiberid  \n",
       "0    2.0 -0.000009  3306.0  54922.0    491.0  \n",
       "1    2.0 -0.000055   323.0  51615.0    541.0  \n",
       "2    0.0  0.123111   287.0  52023.0    513.0  \n",
       "3    2.0 -0.000111  3306.0  54922.0    510.0  \n",
       "4    2.0  0.000590  3306.0  54922.0    512.0  "
      ]
     },
     "execution_count": 45,
     "metadata": {},
     "output_type": "execute_result"
    }
   ],
   "source": [
    "print(df.shape)\n",
    "print(df_new.shape)\n",
    "df_new.head()"
   ]
  },
  {
   "cell_type": "markdown",
   "metadata": {},
   "source": [
    "##### Observation : \n",
    "a. New dataset contains 8698 rows.  \n",
    "b. Outlier values from 1302 rows are removed. "
   ]
  },
  {
   "cell_type": "code",
   "execution_count": 46,
   "metadata": {},
   "outputs": [],
   "source": [
    "#Reassigning table name df to the dataset\n",
    "df=df_new"
   ]
  },
  {
   "cell_type": "markdown",
   "metadata": {},
   "source": [
    "# Classifier Modelling"
   ]
  },
  {
   "cell_type": "code",
   "execution_count": 47,
   "metadata": {},
   "outputs": [],
   "source": [
    "# Dropping region and Day from x for classifcation dataset\n",
    "#Assigning the value of x for testing and training\n",
    "xc=df.drop(columns=['class'])\n",
    "yc=df[[\"class\"]]"
   ]
  },
  {
   "cell_type": "code",
   "execution_count": 48,
   "metadata": {},
   "outputs": [
    {
     "data": {
      "text/html": [
       "<div>\n",
       "<style scoped>\n",
       "    .dataframe tbody tr th:only-of-type {\n",
       "        vertical-align: middle;\n",
       "    }\n",
       "\n",
       "    .dataframe tbody tr th {\n",
       "        vertical-align: top;\n",
       "    }\n",
       "\n",
       "    .dataframe thead th {\n",
       "        text-align: right;\n",
       "    }\n",
       "</style>\n",
       "<table border=\"1\" class=\"dataframe\">\n",
       "  <thead>\n",
       "    <tr style=\"text-align: right;\">\n",
       "      <th></th>\n",
       "      <th>ra</th>\n",
       "      <th>dec</th>\n",
       "      <th>u</th>\n",
       "      <th>g</th>\n",
       "      <th>r</th>\n",
       "      <th>i</th>\n",
       "      <th>z</th>\n",
       "      <th>redshift</th>\n",
       "      <th>plate</th>\n",
       "      <th>mjd</th>\n",
       "      <th>fiberid</th>\n",
       "    </tr>\n",
       "  </thead>\n",
       "  <tbody>\n",
       "    <tr>\n",
       "      <th>0</th>\n",
       "      <td>0.022563</td>\n",
       "      <td>-0.563207</td>\n",
       "      <td>1.076410</td>\n",
       "      <td>-0.332856</td>\n",
       "      <td>-0.855097</td>\n",
       "      <td>-0.969819</td>\n",
       "      <td>-1.007660</td>\n",
       "      <td>-0.458367</td>\n",
       "      <td>1.637571</td>\n",
       "      <td>1.667376</td>\n",
       "      <td>0.754994</td>\n",
       "    </tr>\n",
       "    <tr>\n",
       "      <th>1</th>\n",
       "      <td>0.024421</td>\n",
       "      <td>-0.561415</td>\n",
       "      <td>0.039766</td>\n",
       "      <td>-0.134171</td>\n",
       "      <td>-0.098144</td>\n",
       "      <td>-0.009474</td>\n",
       "      <td>0.055512</td>\n",
       "      <td>-0.458639</td>\n",
       "      <td>-0.659347</td>\n",
       "      <td>-0.883708</td>\n",
       "      <td>1.016814</td>\n",
       "    </tr>\n",
       "    <tr>\n",
       "      <th>2</th>\n",
       "      <td>0.026689</td>\n",
       "      <td>-0.561772</td>\n",
       "      <td>0.960026</td>\n",
       "      <td>0.994046</td>\n",
       "      <td>0.729930</td>\n",
       "      <td>0.573183</td>\n",
       "      <td>0.429065</td>\n",
       "      <td>0.270060</td>\n",
       "      <td>-0.687067</td>\n",
       "      <td>-0.568969</td>\n",
       "      <td>0.870195</td>\n",
       "    </tr>\n",
       "    <tr>\n",
       "      <th>3</th>\n",
       "      <td>0.031964</td>\n",
       "      <td>-0.564770</td>\n",
       "      <td>-1.107002</td>\n",
       "      <td>-0.840484</td>\n",
       "      <td>-0.632831</td>\n",
       "      <td>-0.503275</td>\n",
       "      <td>-0.388577</td>\n",
       "      <td>-0.458969</td>\n",
       "      <td>1.637571</td>\n",
       "      <td>1.667376</td>\n",
       "      <td>0.854486</td>\n",
       "    </tr>\n",
       "    <tr>\n",
       "      <th>4</th>\n",
       "      <td>0.032318</td>\n",
       "      <td>-0.562701</td>\n",
       "      <td>-1.381874</td>\n",
       "      <td>-1.232219</td>\n",
       "      <td>-0.344809</td>\n",
       "      <td>0.054530</td>\n",
       "      <td>0.257682</td>\n",
       "      <td>-0.454822</td>\n",
       "      <td>1.637571</td>\n",
       "      <td>1.667376</td>\n",
       "      <td>0.864958</td>\n",
       "    </tr>\n",
       "  </tbody>\n",
       "</table>\n",
       "</div>"
      ],
      "text/plain": [
       "         ra       dec         u         g         r         i         z  \\\n",
       "0  0.022563 -0.563207  1.076410 -0.332856 -0.855097 -0.969819 -1.007660   \n",
       "1  0.024421 -0.561415  0.039766 -0.134171 -0.098144 -0.009474  0.055512   \n",
       "2  0.026689 -0.561772  0.960026  0.994046  0.729930  0.573183  0.429065   \n",
       "3  0.031964 -0.564770 -1.107002 -0.840484 -0.632831 -0.503275 -0.388577   \n",
       "4  0.032318 -0.562701 -1.381874 -1.232219 -0.344809  0.054530  0.257682   \n",
       "\n",
       "   redshift     plate       mjd   fiberid  \n",
       "0 -0.458367  1.637571  1.667376  0.754994  \n",
       "1 -0.458639 -0.659347 -0.883708  1.016814  \n",
       "2  0.270060 -0.687067 -0.568969  0.870195  \n",
       "3 -0.458969  1.637571  1.667376  0.854486  \n",
       "4 -0.454822  1.637571  1.667376  0.864958  "
      ]
     },
     "execution_count": 48,
     "metadata": {},
     "output_type": "execute_result"
    }
   ],
   "source": [
    "#Standardizing value of x by using standardscalar to make the data normally distributed\n",
    "sc = StandardScaler()\n",
    "a=sc.fit_transform(xc)\n",
    "df_xc = pd.DataFrame(a,columns=xc.columns)\n",
    "df_xc.head()"
   ]
  },
  {
   "cell_type": "code",
   "execution_count": 49,
   "metadata": {},
   "outputs": [],
   "source": [
    "#defining a function to find accuracy score, crossvalidation score for the given dataset\n",
    "def max_acc_score(names,model_c,df_xc,yc):\n",
    "    accuracy_scr_max = 0\n",
    "    for r_state in range(42,100):\n",
    "        train_xc,test_xc,train_yc,test_yc = train_test_split(df_xc,yc,random_state = r_state,test_size = 0.2,stratify = yc)\n",
    "        model_c.fit(train_xc,train_yc)\n",
    "        accuracy_scr = accuracy_score(test_yc,model_c.predict(test_xc))\n",
    "        if accuracy_scr> accuracy_scr_max:\n",
    "            accuracy_scr_max=accuracy_scr\n",
    "            final_state = r_state\n",
    "            final_model = model_c\n",
    "            mean_acc = cross_val_score(final_model,df_xc,yc,cv=5,scoring=\"accuracy\").mean()\n",
    "            std_dev = cross_val_score(final_model,df_xc,yc,cv=5,scoring=\"accuracy\").std()\n",
    "            cross_val = cross_val_score(final_model,df_xc,yc,cv=5,scoring=\"accuracy\")\n",
    "    print('\\033[1m',\"Results for model : \",names,'\\n','\\033[0m'\n",
    "          \"max accuracy score correspond to random state \" ,final_state , \"is\" , accuracy_scr_max ,'\\n',\n",
    "          \"Mean accuracy score is : \",mean_acc,'\\n',\n",
    "          \"Std deviation score is : \",std_dev,'\\n',\n",
    "          \"Cross validation scores are :  \" ,cross_val) \n",
    "    print(\"*\"*100)"
   ]
  },
  {
   "cell_type": "code",
   "execution_count": 55,
   "metadata": {},
   "outputs": [
    {
     "name": "stdout",
     "output_type": "stream",
     "text": [
      "\u001b[1m Results for model :  Logistic Regression \n",
      " \u001b[0mmax accuracy score correspond to random state  64 is 0.9747126436781609 \n",
      " Mean accuracy score is :  0.9679227615051156 \n",
      " Std deviation score is :  0.006338780762458117 \n",
      " Cross validation scores are :   [0.97415279 0.96898334 0.96377228 0.95802185 0.97468354]\n",
      "****************************************************************************************************\n",
      "\u001b[1m Results for model :  Random Forest \n",
      " \u001b[0mmax accuracy score correspond to random state  60 is 0.993103448275862 \n",
      " Mean accuracy score is :  0.9881576764609553 \n",
      " Std deviation score is :  0.002056354658291733 \n",
      " Cross validation scores are :   [0.98621482 0.9902355  0.99252444 0.98274871 0.98791715]\n",
      "****************************************************************************************************\n",
      "\u001b[1m Results for model :  SVM \n",
      " \u001b[0mmax accuracy score correspond to random state  66 is 0.9816091954022989 \n",
      " Mean accuracy score is :  0.9726380494397706 \n",
      " Std deviation score is :  0.0037145916500167814 \n",
      " Cross validation scores are :   [0.97013211 0.97415279 0.97584819 0.9666475  0.97640967]\n",
      "****************************************************************************************************\n",
      "\u001b[1m Results for model :  KNN \n",
      " \u001b[0mmax accuracy score correspond to random state  71 is 0.9385057471264368 \n",
      " Mean accuracy score is :  0.9254986404169931 \n",
      " Std deviation score is :  0.006833987865787634 \n",
      " Cross validation scores are :   [0.92705342 0.93279724 0.92409431 0.91316849 0.93037975]\n",
      "****************************************************************************************************\n",
      "\u001b[1m Results for model :  Decision Tree Classifier \n",
      " \u001b[0mmax accuracy score correspond to random state  60 is 0.9902298850574712 \n",
      " Mean accuracy score is :  0.9845937300167767 \n",
      " Std deviation score is :  0.007194893469613359 \n",
      " Cross validation scores are :   [0.98966111 0.98334291 0.98677401 0.97642323 0.98791715]\n",
      "****************************************************************************************************\n"
     ]
    }
   ],
   "source": [
    "#Now by using multiple Algorithms we are calculating the best Algo which suit best for our data set \n",
    "accuracy_scr_max = []\n",
    "accuracy=[]\n",
    "std_dev=[]\n",
    "mean_acc=[]\n",
    "cross_val=[]\n",
    "models=[]\n",
    "models.append(('Logistic Regression', LogisticRegression()))\n",
    "models.append(('Random Forest', RandomForestClassifier()))\n",
    "models.append(('SVM', SVC()))\n",
    "models.append(('KNN', KNeighborsClassifier()))\n",
    "models.append(('Decision Tree Classifier', DecisionTreeClassifier()))\n",
    "\n",
    "for names,model_c in models:\n",
    "    max_acc_score(names,model_c,df_xc,yc)\n",
    "   "
   ]
  },
  {
   "cell_type": "markdown",
   "metadata": {},
   "source": [
    "##### Observations: \n",
    "a. From initial model accuracy values we see that RandomForest and DecisionTree are performing better than others.  \n",
    "b. They have maximum accuracy score and minimum standard deviations.   \n",
    "c. KNN is the worst performer with 93% accuracy."
   ]
  },
  {
   "cell_type": "code",
   "execution_count": 56,
   "metadata": {},
   "outputs": [
    {
     "data": {
      "text/plain": [
       "{'criterion': 'entropy', 'max_depth': 4}"
      ]
     },
     "execution_count": 56,
     "metadata": {},
     "output_type": "execute_result"
    }
   ],
   "source": [
    "#We will check for RFC and DTC individually\n",
    "#Estimating parameters of DecisionTree Classifiers for best fit\n",
    "dtr_cl = DecisionTreeClassifier()\n",
    "parameters={'criterion':['gini','entropy'],'max_depth': np.arange(3, 15)}\n",
    "clf = GridSearchCV(dtr_cl, parameters, cv=5,scoring=\"accuracy\")\n",
    "clf.fit(df_xc,yc)\n",
    "clf.best_params_"
   ]
  },
  {
   "cell_type": "code",
   "execution_count": 57,
   "metadata": {},
   "outputs": [
    {
     "name": "stdout",
     "output_type": "stream",
     "text": [
      "\u001b[1m Results for model :  DecisionTree_Classifier \n",
      " \u001b[0mmax accuracy score correspond to random state  52 is 0.993103448275862 \n",
      " Mean accuracy score is :  0.9894229700900397 \n",
      " Std deviation score is :  0.0017664987773924428 \n",
      " Cross validation scores are :   [0.99080988 0.98851235 0.99022427 0.98619896 0.99079402]\n",
      "****************************************************************************************************\n"
     ]
    }
   ],
   "source": [
    "dtr_clf = DecisionTreeClassifier(criterion=\"entropy\",max_depth=4)\n",
    "max_acc_score(\"DecisionTree_Classifier\",dtr_clf,df_xc,yc)"
   ]
  },
  {
   "cell_type": "code",
   "execution_count": 58,
   "metadata": {},
   "outputs": [
    {
     "data": {
      "text/plain": [
       "{'n_estimators': 100}"
      ]
     },
     "execution_count": 58,
     "metadata": {},
     "output_type": "execute_result"
    }
   ],
   "source": [
    "# Estimating best n_estimator using grid search for Randomforest Classifier\n",
    "parameters={\"n_estimators\":[10,100,500]}\n",
    "rf_clf=RandomForestClassifier()\n",
    "clf = GridSearchCV(rf_clf, parameters, cv=5,scoring=\"accuracy\")\n",
    "clf.fit(df_xc,yc)\n",
    "clf.best_params_"
   ]
  },
  {
   "cell_type": "code",
   "execution_count": 59,
   "metadata": {},
   "outputs": [
    {
     "name": "stdout",
     "output_type": "stream",
     "text": [
      "\u001b[1m Results for model :  Random Forest Classifier \n",
      " \u001b[0mmax accuracy score correspond to random state  71 is 0.9936781609195402 \n",
      " Mean accuracy score is :  0.9882730154953601 \n",
      " Std deviation score is :  0.0029908726087852777 \n",
      " Cross validation scores are :   [0.98851235 0.99080988 0.9919494  0.98332375 0.98849252]\n",
      "****************************************************************************************************\n"
     ]
    }
   ],
   "source": [
    "#Again running RFC with n_estimator = 100\n",
    "rf_clf=RandomForestClassifier(n_estimators=100)\n",
    "max_acc_score(\"Random Forest Classifier\",rf_clf,df_xc,yc)"
   ]
  },
  {
   "cell_type": "code",
   "execution_count": 103,
   "metadata": {},
   "outputs": [
    {
     "data": {
      "text/plain": [
       "(array([ 0,  1,  2,  3,  4,  5,  6,  7,  8,  9, 10]),\n",
       " <a list of 11 Text xticklabel objects>)"
      ]
     },
     "execution_count": 103,
     "metadata": {},
     "output_type": "execute_result"
    },
    {
     "data": {
      "image/png": "[encoded data removed]",
      "text/plain": [
       "<Figure size 432x288 with 1 Axes>"
      ]
     },
     "metadata": {
      "needs_background": "light"
     },
     "output_type": "display_data"
    }
   ],
   "source": [
    "#plotting feature distribution with Random forest model\n",
    "df_imp_rf= pd.DataFrame({'Attribute': df_xc.columns,'Weightage': rf_clf.feature_importances_})\n",
    "df_imp_rf = df_imp_rf.sort_values(by='Weightage', ascending=False)\n",
    "\n",
    "sns.barplot(x=\"Attribute\",y=\"Weightage\",data=df_imp_rf)\n",
    "plt.title(\"Important Features in RandomForest Model\")\n",
    "plt.xticks(rotation=45)"
   ]
  },
  {
   "cell_type": "markdown",
   "metadata": {},
   "source": [
    "#### Observations: \n",
    "\n",
    "a. Comparing both the models , clearly Random Forest is giving higher accuracy ~ 99.4% . Hence , we will choose RFC for our model.   \n",
    "b. During features distribution , Random Forest model is giving maximum importance to Redshift parameter and least importance to dec."
   ]
  },
  {
   "cell_type": "markdown",
   "metadata": {},
   "source": [
    "### Confusion Matrix, Presicison and Recall"
   ]
  },
  {
   "cell_type": "code",
   "execution_count": 105,
   "metadata": {},
   "outputs": [],
   "source": [
    "#Clearly Random Forest Classifier is performing best as accuracy score is closest to 1 so we will use RFC\n",
    "xc_train,xc_test,yc_train,yc_test=train_test_split(df_xc, yc,test_size=0.20,stratify=yc)\n",
    "rf_clf.fit(xc_train,yc_train)\n",
    "yc_pred=rf_clf.predict(xc_test)"
   ]
  },
  {
   "cell_type": "code",
   "execution_count": 132,
   "metadata": {},
   "outputs": [
    {
     "data": {
      "text/plain": [
       "Text(0.5, 1, 'Normalized Confusion Matrix')"
      ]
     },
     "execution_count": 132,
     "metadata": {},
     "output_type": "execute_result"
    },
    {
     "data": {
      "image/png": "[encoded data removed]",
      "text/plain": [
       "<Figure size 864x288 with 4 Axes>"
      ]
     },
     "metadata": {
      "needs_background": "light"
     },
     "output_type": "display_data"
    }
   ],
   "source": [
    "from sklearn.metrics import confusion_matrix\n",
    "from sklearn.metrics import classification_report\n",
    "from sklearn.metrics import roc_auc_score\n",
    "\n",
    "cnf = confusion_matrix(yc_test,yc_pred)\n",
    "\n",
    "fig,axes = plt.subplots(nrows=1,ncols=2,figsize=[12,4])\n",
    "axes[0]= sns.heatmap(cnf,cmap=\"YlGn\",annot=True,ax=axes[0])\n",
    "axes[0].set_title(\"Confusion Matrix\")\n",
    "axes[1]= sns.heatmap(cnf/np.sum(cnf),cmap=\"YlGn\",annot=True, fmt='.2%',ax=axes[1])\n",
    "axes[1].set_title(\"Normalized Confusion Matrix\")"
   ]
  },
  {
   "cell_type": "markdown",
   "metadata": {},
   "source": [
    "##### Observation: \n",
    "Confusion matrix shows high accuracy in predicting true values .\n",
    ">a.54% values are identified as true positives for STAR , 0.23% STAR incorrectly identified as QSO and 0.34% incorrectly identified as Galaxy  \n",
    ">b. 0.57% QSO values incorrectly identified as STAR, 4.14% QSO correctly identifed  \n",
    ">c. 0.06% Galaxy incorrectly identified as STAR , 40.34% GALAXY correctly identified.  \n",
    "\n",
    "Only 21 values were identified incorrectly , rest values are correctly classified"
   ]
  },
  {
   "cell_type": "code",
   "execution_count": 136,
   "metadata": {},
   "outputs": [
    {
     "name": "stdout",
     "output_type": "stream",
     "text": [
      "Average accuracy score is :  0.9879310344827587\n",
      "classification report \n",
      "               precision    recall  f1-score   support\n",
      "\n",
      "         0.0       0.99      0.99      0.99       955\n",
      "         1.0       0.95      0.88      0.91        82\n",
      "         2.0       0.99      1.00      1.00       703\n",
      "\n",
      "    accuracy                           0.99      1740\n",
      "   macro avg       0.98      0.96      0.97      1740\n",
      "weighted avg       0.99      0.99      0.99      1740\n",
      "\n"
     ]
    }
   ],
   "source": [
    "#Precision and Recall\n",
    "print(\"Average accuracy score is : \",accuracy_score(yc_test,yc_pred))\n",
    "print(\"classification report \\n\",classification_report(yc_test,yc_pred))\n"
   ]
  },
  {
   "cell_type": "markdown",
   "metadata": {},
   "source": [
    "##### Observation:\n",
    "\n",
    "a. Found high values ( ~0.99) for accuracy , precision and recall for the model . This indicates that model is a good fit for the prediciton. "
   ]
  },
  {
   "cell_type": "markdown",
   "metadata": {},
   "source": [
    "## AOC/ROC Analysis"
   ]
  },
  {
   "cell_type": "code",
   "execution_count": 140,
   "metadata": {},
   "outputs": [],
   "source": [
    "#Finding True positves and false positives in the model \n",
    "pred_pb=rf_clf.predict_proba(xc_test)[:,1]\n",
    "Fpr,Tpr,thresholds = roc_curve(yc_test,pred_pb,pos_label=True)"
   ]
  },
  {
   "cell_type": "code",
   "execution_count": 139,
   "metadata": {},
   "outputs": [
    {
     "data": {
      "image/png": "[encoded data removed]",
      "text/plain": [
       "<Figure size 432x288 with 1 Axes>"
      ]
     },
     "metadata": {
      "needs_background": "light"
     },
     "output_type": "display_data"
    }
   ],
   "source": [
    "#plotting the graph for area under curve for representing accuracy of data\n",
    "plt.plot([0,1],[1,0],'r--')\n",
    "plt.plot(Fpr,Tpr)\n",
    "plt.xlabel('False_Positive_Rate')\n",
    "plt.ylabel('True_Positive_Rate')\n",
    "plt.title(\"AOC curve for Random_Forest_Classifier\")\n",
    "plt.show()"
   ]
  },
  {
   "cell_type": "markdown",
   "metadata": {},
   "source": [
    "### Observations for the Model: \n",
    "a. Taken output variable as Class(transformed into numerical value by Label encoder)  \n",
    "b. Found best model as RandomForestClassifier and best random state is 71 which provides max accuracy of 99.36%.  \n",
    "c. Fine tuning done on the model and found best estimators for the prediction  \n",
    "d. Plotted important features and found Redshift is the most important factor contributing to ~50% of the weightage.  \n",
    "e. Found high precision and recall score of 0.99.  \n",
    "f. Confusion matrix shows only 21 values out of 8398 were incorrectly classified.  \n",
    "g. Plotted AOC/ROC line that shows close match between test and predicted values.  \n",
    "h. Overall model fit is good.  \n"
   ]
  }
 ],
 "metadata": {
  "kernelspec": {
   "display_name": "Python 3",
   "language": "python",
   "name": "python3"
  },
  "language_info": {
   "codemirror_mode": {
    "name": "ipython",
    "version": 3
   },
   "file_extension": ".py",
   "mimetype": "text/x-python",
   "name": "python",
   "nbconvert_exporter": "python",
   "pygments_lexer": "ipython3",
   "version": "3.8.3"
  }
 },
 "nbformat": 4,
 "nbformat_minor": 4
}
