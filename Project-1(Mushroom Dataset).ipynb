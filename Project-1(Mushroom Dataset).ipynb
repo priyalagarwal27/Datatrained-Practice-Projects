{
 "cells": [
  {
   "cell_type": "code",
   "execution_count": 2,
   "metadata": {},
   "outputs": [],
   "source": [
    "#importing libraries and dataset\n",
    "import pandas as pd\n",
    "import numpy as np\n",
    "import seaborn as sns\n",
    "import matplotlib.pyplot as plt"
   ]
  },
  {
   "cell_type": "code",
   "execution_count": 3,
   "metadata": {},
   "outputs": [
    {
     "data": {
      "text/html": [
       "<div>\n",
       "<style scoped>\n",
       "    .dataframe tbody tr th:only-of-type {\n",
       "        vertical-align: middle;\n",
       "    }\n",
       "\n",
       "    .dataframe tbody tr th {\n",
       "        vertical-align: top;\n",
       "    }\n",
       "\n",
       "    .dataframe thead th {\n",
       "        text-align: right;\n",
       "    }\n",
       "</style>\n",
       "<table border=\"1\" class=\"dataframe\">\n",
       "  <thead>\n",
       "    <tr style=\"text-align: right;\">\n",
       "      <th></th>\n",
       "      <th>class</th>\n",
       "      <th>cap-shape</th>\n",
       "      <th>cap-surface</th>\n",
       "      <th>cap-color</th>\n",
       "      <th>bruises</th>\n",
       "      <th>odor</th>\n",
       "      <th>gill-attachment</th>\n",
       "      <th>gill-spacing</th>\n",
       "      <th>gill-size</th>\n",
       "      <th>gill-color</th>\n",
       "      <th>...</th>\n",
       "      <th>stalk-surface-below-ring</th>\n",
       "      <th>stalk-color-above-ring</th>\n",
       "      <th>stalk-color-below-ring</th>\n",
       "      <th>veil-type</th>\n",
       "      <th>veil-color</th>\n",
       "      <th>ring-number</th>\n",
       "      <th>ring-type</th>\n",
       "      <th>spore-print-color</th>\n",
       "      <th>population</th>\n",
       "      <th>habitat</th>\n",
       "    </tr>\n",
       "  </thead>\n",
       "  <tbody>\n",
       "    <tr>\n",
       "      <th>0</th>\n",
       "      <td>Poisonous</td>\n",
       "      <td>Convex</td>\n",
       "      <td>Smooth</td>\n",
       "      <td>Brown</td>\n",
       "      <td>Bruises</td>\n",
       "      <td>Pungent</td>\n",
       "      <td>Free</td>\n",
       "      <td>Close</td>\n",
       "      <td>Narrow</td>\n",
       "      <td>Black</td>\n",
       "      <td>...</td>\n",
       "      <td>Smooth</td>\n",
       "      <td>White</td>\n",
       "      <td>White</td>\n",
       "      <td>Partial</td>\n",
       "      <td>White</td>\n",
       "      <td>One</td>\n",
       "      <td>Pendant</td>\n",
       "      <td>Black</td>\n",
       "      <td>Scattered</td>\n",
       "      <td>Urban</td>\n",
       "    </tr>\n",
       "    <tr>\n",
       "      <th>1</th>\n",
       "      <td>Edible</td>\n",
       "      <td>Convex</td>\n",
       "      <td>Smooth</td>\n",
       "      <td>Yellow</td>\n",
       "      <td>Bruises</td>\n",
       "      <td>Almond</td>\n",
       "      <td>Free</td>\n",
       "      <td>Close</td>\n",
       "      <td>Broad</td>\n",
       "      <td>Black</td>\n",
       "      <td>...</td>\n",
       "      <td>Smooth</td>\n",
       "      <td>White</td>\n",
       "      <td>White</td>\n",
       "      <td>Partial</td>\n",
       "      <td>White</td>\n",
       "      <td>One</td>\n",
       "      <td>Pendant</td>\n",
       "      <td>Brown</td>\n",
       "      <td>Numerous</td>\n",
       "      <td>Grasses</td>\n",
       "    </tr>\n",
       "    <tr>\n",
       "      <th>2</th>\n",
       "      <td>Edible</td>\n",
       "      <td>Bell</td>\n",
       "      <td>Smooth</td>\n",
       "      <td>White</td>\n",
       "      <td>Bruises</td>\n",
       "      <td>Anise</td>\n",
       "      <td>Free</td>\n",
       "      <td>Close</td>\n",
       "      <td>Broad</td>\n",
       "      <td>Brown</td>\n",
       "      <td>...</td>\n",
       "      <td>Smooth</td>\n",
       "      <td>White</td>\n",
       "      <td>White</td>\n",
       "      <td>Partial</td>\n",
       "      <td>White</td>\n",
       "      <td>One</td>\n",
       "      <td>Pendant</td>\n",
       "      <td>Brown</td>\n",
       "      <td>Numerous</td>\n",
       "      <td>Meadows</td>\n",
       "    </tr>\n",
       "    <tr>\n",
       "      <th>3</th>\n",
       "      <td>Poisonous</td>\n",
       "      <td>Convex</td>\n",
       "      <td>Scaly</td>\n",
       "      <td>White</td>\n",
       "      <td>Bruises</td>\n",
       "      <td>Pungent</td>\n",
       "      <td>Free</td>\n",
       "      <td>Close</td>\n",
       "      <td>Narrow</td>\n",
       "      <td>Brown</td>\n",
       "      <td>...</td>\n",
       "      <td>Smooth</td>\n",
       "      <td>White</td>\n",
       "      <td>White</td>\n",
       "      <td>Partial</td>\n",
       "      <td>White</td>\n",
       "      <td>One</td>\n",
       "      <td>Pendant</td>\n",
       "      <td>Black</td>\n",
       "      <td>Scattered</td>\n",
       "      <td>Urban</td>\n",
       "    </tr>\n",
       "    <tr>\n",
       "      <th>4</th>\n",
       "      <td>Edible</td>\n",
       "      <td>Convex</td>\n",
       "      <td>Smooth</td>\n",
       "      <td>Green</td>\n",
       "      <td>No Bruises</td>\n",
       "      <td>None</td>\n",
       "      <td>Free</td>\n",
       "      <td>Crowded</td>\n",
       "      <td>Broad</td>\n",
       "      <td>Black</td>\n",
       "      <td>...</td>\n",
       "      <td>Smooth</td>\n",
       "      <td>White</td>\n",
       "      <td>White</td>\n",
       "      <td>Partial</td>\n",
       "      <td>White</td>\n",
       "      <td>One</td>\n",
       "      <td>Evanescent</td>\n",
       "      <td>Brown</td>\n",
       "      <td>Abundant</td>\n",
       "      <td>Grasses</td>\n",
       "    </tr>\n",
       "    <tr>\n",
       "      <th>...</th>\n",
       "      <td>...</td>\n",
       "      <td>...</td>\n",
       "      <td>...</td>\n",
       "      <td>...</td>\n",
       "      <td>...</td>\n",
       "      <td>...</td>\n",
       "      <td>...</td>\n",
       "      <td>...</td>\n",
       "      <td>...</td>\n",
       "      <td>...</td>\n",
       "      <td>...</td>\n",
       "      <td>...</td>\n",
       "      <td>...</td>\n",
       "      <td>...</td>\n",
       "      <td>...</td>\n",
       "      <td>...</td>\n",
       "      <td>...</td>\n",
       "      <td>...</td>\n",
       "      <td>...</td>\n",
       "      <td>...</td>\n",
       "      <td>...</td>\n",
       "    </tr>\n",
       "    <tr>\n",
       "      <th>8119</th>\n",
       "      <td>Edible</td>\n",
       "      <td>Knobbed</td>\n",
       "      <td>Smooth</td>\n",
       "      <td>Brown</td>\n",
       "      <td>No Bruises</td>\n",
       "      <td>None</td>\n",
       "      <td>Attached</td>\n",
       "      <td>Close</td>\n",
       "      <td>Broad</td>\n",
       "      <td>Yellow</td>\n",
       "      <td>...</td>\n",
       "      <td>Smooth</td>\n",
       "      <td>Orange</td>\n",
       "      <td>Orange</td>\n",
       "      <td>Partial</td>\n",
       "      <td>Orange</td>\n",
       "      <td>One</td>\n",
       "      <td>Pendant</td>\n",
       "      <td>Buff</td>\n",
       "      <td>Clustered</td>\n",
       "      <td>Leaves</td>\n",
       "    </tr>\n",
       "    <tr>\n",
       "      <th>8120</th>\n",
       "      <td>Edible</td>\n",
       "      <td>Convex</td>\n",
       "      <td>Smooth</td>\n",
       "      <td>Brown</td>\n",
       "      <td>No Bruises</td>\n",
       "      <td>None</td>\n",
       "      <td>Attached</td>\n",
       "      <td>Close</td>\n",
       "      <td>Broad</td>\n",
       "      <td>Yellow</td>\n",
       "      <td>...</td>\n",
       "      <td>Smooth</td>\n",
       "      <td>Orange</td>\n",
       "      <td>Orange</td>\n",
       "      <td>Partial</td>\n",
       "      <td>Brown</td>\n",
       "      <td>One</td>\n",
       "      <td>Pendant</td>\n",
       "      <td>Buff</td>\n",
       "      <td>Several</td>\n",
       "      <td>Leaves</td>\n",
       "    </tr>\n",
       "    <tr>\n",
       "      <th>8121</th>\n",
       "      <td>Edible</td>\n",
       "      <td>Flat</td>\n",
       "      <td>Smooth</td>\n",
       "      <td>Brown</td>\n",
       "      <td>No Bruises</td>\n",
       "      <td>None</td>\n",
       "      <td>Attached</td>\n",
       "      <td>Close</td>\n",
       "      <td>Broad</td>\n",
       "      <td>Brown</td>\n",
       "      <td>...</td>\n",
       "      <td>Smooth</td>\n",
       "      <td>Orange</td>\n",
       "      <td>Orange</td>\n",
       "      <td>Partial</td>\n",
       "      <td>Orange</td>\n",
       "      <td>One</td>\n",
       "      <td>Pendant</td>\n",
       "      <td>Buff</td>\n",
       "      <td>Clustered</td>\n",
       "      <td>Leaves</td>\n",
       "    </tr>\n",
       "    <tr>\n",
       "      <th>8122</th>\n",
       "      <td>Poisonous</td>\n",
       "      <td>Knobbed</td>\n",
       "      <td>Scaly</td>\n",
       "      <td>Brown</td>\n",
       "      <td>No Bruises</td>\n",
       "      <td>Fishy</td>\n",
       "      <td>Free</td>\n",
       "      <td>Close</td>\n",
       "      <td>Narrow</td>\n",
       "      <td>Buff</td>\n",
       "      <td>...</td>\n",
       "      <td>Silky</td>\n",
       "      <td>White</td>\n",
       "      <td>White</td>\n",
       "      <td>Partial</td>\n",
       "      <td>White</td>\n",
       "      <td>One</td>\n",
       "      <td>Evanescent</td>\n",
       "      <td>White</td>\n",
       "      <td>Several</td>\n",
       "      <td>Leaves</td>\n",
       "    </tr>\n",
       "    <tr>\n",
       "      <th>8123</th>\n",
       "      <td>Edible</td>\n",
       "      <td>Convex</td>\n",
       "      <td>Smooth</td>\n",
       "      <td>Brown</td>\n",
       "      <td>No Bruises</td>\n",
       "      <td>None</td>\n",
       "      <td>Attached</td>\n",
       "      <td>Close</td>\n",
       "      <td>Broad</td>\n",
       "      <td>Yellow</td>\n",
       "      <td>...</td>\n",
       "      <td>Smooth</td>\n",
       "      <td>Orange</td>\n",
       "      <td>Orange</td>\n",
       "      <td>Partial</td>\n",
       "      <td>Orange</td>\n",
       "      <td>One</td>\n",
       "      <td>Pendant</td>\n",
       "      <td>Orange</td>\n",
       "      <td>Clustered</td>\n",
       "      <td>Leaves</td>\n",
       "    </tr>\n",
       "  </tbody>\n",
       "</table>\n",
       "<p>8124 rows × 23 columns</p>\n",
       "</div>"
      ],
      "text/plain": [
       "          class cap-shape cap-surface cap-color     bruises     odor  \\\n",
       "0     Poisonous    Convex      Smooth     Brown     Bruises  Pungent   \n",
       "1        Edible    Convex      Smooth    Yellow     Bruises   Almond   \n",
       "2        Edible      Bell      Smooth     White     Bruises    Anise   \n",
       "3     Poisonous    Convex       Scaly     White     Bruises  Pungent   \n",
       "4        Edible    Convex      Smooth     Green  No Bruises     None   \n",
       "...         ...       ...         ...       ...         ...      ...   \n",
       "8119     Edible   Knobbed      Smooth     Brown  No Bruises     None   \n",
       "8120     Edible    Convex      Smooth     Brown  No Bruises     None   \n",
       "8121     Edible      Flat      Smooth     Brown  No Bruises     None   \n",
       "8122  Poisonous   Knobbed       Scaly     Brown  No Bruises    Fishy   \n",
       "8123     Edible    Convex      Smooth     Brown  No Bruises     None   \n",
       "\n",
       "     gill-attachment gill-spacing gill-size gill-color  ...  \\\n",
       "0               Free        Close    Narrow      Black  ...   \n",
       "1               Free        Close     Broad      Black  ...   \n",
       "2               Free        Close     Broad      Brown  ...   \n",
       "3               Free        Close    Narrow      Brown  ...   \n",
       "4               Free      Crowded     Broad      Black  ...   \n",
       "...              ...          ...       ...        ...  ...   \n",
       "8119        Attached        Close     Broad     Yellow  ...   \n",
       "8120        Attached        Close     Broad     Yellow  ...   \n",
       "8121        Attached        Close     Broad      Brown  ...   \n",
       "8122            Free        Close    Narrow       Buff  ...   \n",
       "8123        Attached        Close     Broad     Yellow  ...   \n",
       "\n",
       "     stalk-surface-below-ring stalk-color-above-ring stalk-color-below-ring  \\\n",
       "0                      Smooth                  White                  White   \n",
       "1                      Smooth                  White                  White   \n",
       "2                      Smooth                  White                  White   \n",
       "3                      Smooth                  White                  White   \n",
       "4                      Smooth                  White                  White   \n",
       "...                       ...                    ...                    ...   \n",
       "8119                   Smooth                 Orange                 Orange   \n",
       "8120                   Smooth                 Orange                 Orange   \n",
       "8121                   Smooth                 Orange                 Orange   \n",
       "8122                    Silky                  White                  White   \n",
       "8123                   Smooth                 Orange                 Orange   \n",
       "\n",
       "     veil-type veil-color ring-number   ring-type spore-print-color  \\\n",
       "0      Partial      White         One     Pendant             Black   \n",
       "1      Partial      White         One     Pendant             Brown   \n",
       "2      Partial      White         One     Pendant             Brown   \n",
       "3      Partial      White         One     Pendant             Black   \n",
       "4      Partial      White         One  Evanescent             Brown   \n",
       "...        ...        ...         ...         ...               ...   \n",
       "8119   Partial     Orange         One     Pendant              Buff   \n",
       "8120   Partial      Brown         One     Pendant              Buff   \n",
       "8121   Partial     Orange         One     Pendant              Buff   \n",
       "8122   Partial      White         One  Evanescent             White   \n",
       "8123   Partial     Orange         One     Pendant            Orange   \n",
       "\n",
       "     population  habitat  \n",
       "0     Scattered    Urban  \n",
       "1      Numerous  Grasses  \n",
       "2      Numerous  Meadows  \n",
       "3     Scattered    Urban  \n",
       "4      Abundant  Grasses  \n",
       "...         ...      ...  \n",
       "8119  Clustered   Leaves  \n",
       "8120    Several   Leaves  \n",
       "8121  Clustered   Leaves  \n",
       "8122    Several   Leaves  \n",
       "8123  Clustered   Leaves  \n",
       "\n",
       "[8124 rows x 23 columns]"
      ]
     },
     "execution_count": 3,
     "metadata": {},
     "output_type": "execute_result"
    }
   ],
   "source": [
    "df_mushroom=pd.read_csv(\"mushroomsupdated.csv\")\n",
    "df_mushroom"
   ]
  },
  {
   "cell_type": "code",
   "execution_count": 4,
   "metadata": {},
   "outputs": [
    {
     "data": {
      "text/plain": [
       "Index(['class', 'cap-shape', 'cap-surface', 'cap-color', 'bruises', 'odor',\n",
       "       'gill-attachment', 'gill-spacing', 'gill-size', 'gill-color',\n",
       "       'stalk-shape', 'stalk-root', 'stalk-surface-above-ring',\n",
       "       'stalk-surface-below-ring', 'stalk-color-above-ring',\n",
       "       'stalk-color-below-ring', 'veil-type', 'veil-color', 'ring-number',\n",
       "       'ring-type', 'spore-print-color', 'population', 'habitat'],\n",
       "      dtype='object')"
      ]
     },
     "execution_count": 4,
     "metadata": {},
     "output_type": "execute_result"
    }
   ],
   "source": [
    "df_mushroom.columns"
   ]
  },
  {
   "cell_type": "code",
   "execution_count": 5,
   "metadata": {},
   "outputs": [
    {
     "data": {
      "text/plain": [
       "class                       object\n",
       "cap-shape                   object\n",
       "cap-surface                 object\n",
       "cap-color                   object\n",
       "bruises                     object\n",
       "odor                        object\n",
       "gill-attachment             object\n",
       "gill-spacing                object\n",
       "gill-size                   object\n",
       "gill-color                  object\n",
       "stalk-shape                 object\n",
       "stalk-root                  object\n",
       "stalk-surface-above-ring    object\n",
       "stalk-surface-below-ring    object\n",
       "stalk-color-above-ring      object\n",
       "stalk-color-below-ring      object\n",
       "veil-type                   object\n",
       "veil-color                  object\n",
       "ring-number                 object\n",
       "ring-type                   object\n",
       "spore-print-color           object\n",
       "population                  object\n",
       "habitat                     object\n",
       "dtype: object"
      ]
     },
     "execution_count": 5,
     "metadata": {},
     "output_type": "execute_result"
    }
   ],
   "source": [
    "df_mushroom.dtypes"
   ]
  },
  {
   "cell_type": "code",
   "execution_count": 6,
   "metadata": {},
   "outputs": [
    {
     "data": {
      "text/plain": [
       "class                       0\n",
       "cap-shape                   0\n",
       "cap-surface                 0\n",
       "cap-color                   0\n",
       "bruises                     0\n",
       "odor                        0\n",
       "gill-attachment             0\n",
       "gill-spacing                0\n",
       "gill-size                   0\n",
       "gill-color                  0\n",
       "stalk-shape                 0\n",
       "stalk-root                  0\n",
       "stalk-surface-above-ring    0\n",
       "stalk-surface-below-ring    0\n",
       "stalk-color-above-ring      0\n",
       "stalk-color-below-ring      0\n",
       "veil-type                   0\n",
       "veil-color                  0\n",
       "ring-number                 0\n",
       "ring-type                   0\n",
       "spore-print-color           0\n",
       "population                  0\n",
       "habitat                     0\n",
       "dtype: int64"
      ]
     },
     "execution_count": 6,
     "metadata": {},
     "output_type": "execute_result"
    }
   ],
   "source": [
    "#Checking for null values\n",
    "df_mushroom.isnull().sum()"
   ]
  },
  {
   "cell_type": "code",
   "execution_count": 7,
   "metadata": {},
   "outputs": [
    {
     "data": {
      "text/html": [
       "<div>\n",
       "<style scoped>\n",
       "    .dataframe tbody tr th:only-of-type {\n",
       "        vertical-align: middle;\n",
       "    }\n",
       "\n",
       "    .dataframe tbody tr th {\n",
       "        vertical-align: top;\n",
       "    }\n",
       "\n",
       "    .dataframe thead th {\n",
       "        text-align: right;\n",
       "    }\n",
       "</style>\n",
       "<table border=\"1\" class=\"dataframe\">\n",
       "  <thead>\n",
       "    <tr style=\"text-align: right;\">\n",
       "      <th></th>\n",
       "      <th>class</th>\n",
       "      <th>cap-shape</th>\n",
       "      <th>cap-surface</th>\n",
       "      <th>cap-color</th>\n",
       "      <th>bruises</th>\n",
       "      <th>odor</th>\n",
       "      <th>gill-attachment</th>\n",
       "      <th>gill-spacing</th>\n",
       "      <th>gill-size</th>\n",
       "      <th>gill-color</th>\n",
       "      <th>...</th>\n",
       "      <th>stalk-surface-below-ring</th>\n",
       "      <th>stalk-color-above-ring</th>\n",
       "      <th>stalk-color-below-ring</th>\n",
       "      <th>veil-type</th>\n",
       "      <th>veil-color</th>\n",
       "      <th>ring-number</th>\n",
       "      <th>ring-type</th>\n",
       "      <th>spore-print-color</th>\n",
       "      <th>population</th>\n",
       "      <th>habitat</th>\n",
       "    </tr>\n",
       "  </thead>\n",
       "  <tbody>\n",
       "    <tr>\n",
       "      <th>count</th>\n",
       "      <td>8124</td>\n",
       "      <td>8124</td>\n",
       "      <td>8124</td>\n",
       "      <td>8124</td>\n",
       "      <td>8124</td>\n",
       "      <td>8124</td>\n",
       "      <td>8124</td>\n",
       "      <td>8124</td>\n",
       "      <td>8124</td>\n",
       "      <td>8124</td>\n",
       "      <td>...</td>\n",
       "      <td>8124</td>\n",
       "      <td>8124</td>\n",
       "      <td>8124</td>\n",
       "      <td>8124</td>\n",
       "      <td>8124</td>\n",
       "      <td>8124</td>\n",
       "      <td>8124</td>\n",
       "      <td>8124</td>\n",
       "      <td>8124</td>\n",
       "      <td>8124</td>\n",
       "    </tr>\n",
       "    <tr>\n",
       "      <th>unique</th>\n",
       "      <td>2</td>\n",
       "      <td>6</td>\n",
       "      <td>4</td>\n",
       "      <td>9</td>\n",
       "      <td>2</td>\n",
       "      <td>9</td>\n",
       "      <td>2</td>\n",
       "      <td>2</td>\n",
       "      <td>2</td>\n",
       "      <td>12</td>\n",
       "      <td>...</td>\n",
       "      <td>4</td>\n",
       "      <td>9</td>\n",
       "      <td>9</td>\n",
       "      <td>1</td>\n",
       "      <td>4</td>\n",
       "      <td>3</td>\n",
       "      <td>5</td>\n",
       "      <td>9</td>\n",
       "      <td>6</td>\n",
       "      <td>7</td>\n",
       "    </tr>\n",
       "    <tr>\n",
       "      <th>top</th>\n",
       "      <td>Edible</td>\n",
       "      <td>Convex</td>\n",
       "      <td>Scaly</td>\n",
       "      <td>Brown</td>\n",
       "      <td>No Bruises</td>\n",
       "      <td>None</td>\n",
       "      <td>Free</td>\n",
       "      <td>Close</td>\n",
       "      <td>Broad</td>\n",
       "      <td>Buff</td>\n",
       "      <td>...</td>\n",
       "      <td>Smooth</td>\n",
       "      <td>White</td>\n",
       "      <td>White</td>\n",
       "      <td>Partial</td>\n",
       "      <td>White</td>\n",
       "      <td>One</td>\n",
       "      <td>Pendant</td>\n",
       "      <td>White</td>\n",
       "      <td>Several</td>\n",
       "      <td>Wood</td>\n",
       "    </tr>\n",
       "    <tr>\n",
       "      <th>freq</th>\n",
       "      <td>4208</td>\n",
       "      <td>3656</td>\n",
       "      <td>3244</td>\n",
       "      <td>2284</td>\n",
       "      <td>4748</td>\n",
       "      <td>3528</td>\n",
       "      <td>7914</td>\n",
       "      <td>6812</td>\n",
       "      <td>5612</td>\n",
       "      <td>1728</td>\n",
       "      <td>...</td>\n",
       "      <td>4936</td>\n",
       "      <td>4464</td>\n",
       "      <td>4384</td>\n",
       "      <td>8124</td>\n",
       "      <td>7924</td>\n",
       "      <td>7488</td>\n",
       "      <td>3968</td>\n",
       "      <td>2388</td>\n",
       "      <td>4040</td>\n",
       "      <td>3148</td>\n",
       "    </tr>\n",
       "  </tbody>\n",
       "</table>\n",
       "<p>4 rows × 23 columns</p>\n",
       "</div>"
      ],
      "text/plain": [
       "         class cap-shape cap-surface cap-color     bruises  odor  \\\n",
       "count     8124      8124        8124      8124        8124  8124   \n",
       "unique       2         6           4         9           2     9   \n",
       "top     Edible    Convex       Scaly     Brown  No Bruises  None   \n",
       "freq      4208      3656        3244      2284        4748  3528   \n",
       "\n",
       "       gill-attachment gill-spacing gill-size gill-color  ...  \\\n",
       "count             8124         8124      8124       8124  ...   \n",
       "unique               2            2         2         12  ...   \n",
       "top               Free        Close     Broad       Buff  ...   \n",
       "freq              7914         6812      5612       1728  ...   \n",
       "\n",
       "       stalk-surface-below-ring stalk-color-above-ring stalk-color-below-ring  \\\n",
       "count                      8124                   8124                   8124   \n",
       "unique                        4                      9                      9   \n",
       "top                      Smooth                  White                  White   \n",
       "freq                       4936                   4464                   4384   \n",
       "\n",
       "       veil-type veil-color ring-number ring-type spore-print-color  \\\n",
       "count       8124       8124        8124      8124              8124   \n",
       "unique         1          4           3         5                 9   \n",
       "top      Partial      White         One   Pendant             White   \n",
       "freq        8124       7924        7488      3968              2388   \n",
       "\n",
       "       population habitat  \n",
       "count        8124    8124  \n",
       "unique          6       7  \n",
       "top       Several    Wood  \n",
       "freq         4040    3148  \n",
       "\n",
       "[4 rows x 23 columns]"
      ]
     },
     "execution_count": 7,
     "metadata": {},
     "output_type": "execute_result"
    }
   ],
   "source": [
    "df_mushroom.describe()"
   ]
  },
  {
   "cell_type": "code",
   "execution_count": 8,
   "metadata": {},
   "outputs": [
    {
     "data": {
      "image/png": "[encoded data removed]",
      "text/plain": [
       "<Figure size 432x288 with 1 Axes>"
      ]
     },
     "metadata": {
      "needs_background": "light"
     },
     "output_type": "display_data"
    }
   ],
   "source": [
    "#Graphical analysis\n",
    "ns.countplot(x=\"class\",data=df_mushroom)\n",
    "plt.show()"
   ]
  },
  {
   "cell_type": "code",
   "execution_count": 9,
   "metadata": {},
   "outputs": [
    {
     "data": {
      "image/png": "[encoded data removed]",
      "text/plain": [
       "<Figure size 432x288 with 1 Axes>"
      ]
     },
     "metadata": {
      "needs_background": "light"
     },
     "output_type": "display_data"
    }
   ],
   "source": [
    "sns.countplot(x=\"cap-shape\",hue=\"class\",data=df_mushroom)\n",
    "plt.show()"
   ]
  },
  {
   "cell_type": "code",
   "execution_count": 10,
   "metadata": {},
   "outputs": [
    {
     "data": {
      "image/png": "[encoded data removed]",
      "text/plain": [
       "<Figure size 432x288 with 1 Axes>"
      ]
     },
     "metadata": {
      "needs_background": "light"
     },
     "output_type": "display_data"
    }
   ],
   "source": [
    "sns.countplot(x=\"bruises\",hue=\"class\",data=df_mushroom)\n",
    "plt.show()"
   ]
  },
  {
   "cell_type": "code",
   "execution_count": 11,
   "metadata": {},
   "outputs": [
    {
     "data": {
      "image/png": "[encoded data removed]",
      "text/plain": [
       "<Figure size 432x288 with 1 Axes>"
      ]
     },
     "metadata": {
      "needs_background": "light"
     },
     "output_type": "display_data"
    }
   ],
   "source": [
    "sns.countplot(x=\"odor\",hue=\"class\",data=df_mushroom)\n",
    "plt.show()"
   ]
  },
  {
   "cell_type": "code",
   "execution_count": 12,
   "metadata": {},
   "outputs": [
    {
     "data": {
      "image/png": "[encoded data removed]",
      "text/plain": [
       "<Figure size 432x288 with 1 Axes>"
      ]
     },
     "metadata": {
      "needs_background": "light"
     },
     "output_type": "display_data"
    }
   ],
   "source": [
    "sns.countplot(x=\"gill-color\",hue=\"class\",data=df_mushroom)\n",
    "plt.show()"
   ]
  },
  {
   "cell_type": "code",
   "execution_count": 13,
   "metadata": {},
   "outputs": [
    {
     "data": {
      "image/png": "[encoded data removed]",
      "text/plain": [
       "<Figure size 432x288 with 1 Axes>"
      ]
     },
     "metadata": {
      "needs_background": "light"
     },
     "output_type": "display_data"
    }
   ],
   "source": [
    "sns.countplot(x=\"stalk-shape\",hue=\"class\",data=df_mushroom)\n",
    "plt.show()"
   ]
  },
  {
   "cell_type": "code",
   "execution_count": 14,
   "metadata": {},
   "outputs": [
    {
     "data": {
      "image/png": "[encoded data removed]",
      "text/plain": [
       "<Figure size 432x288 with 1 Axes>"
      ]
     },
     "metadata": {
      "needs_background": "light"
     },
     "output_type": "display_data"
    }
   ],
   "source": [
    "sns.countplot(x=\"veil-color\",hue=\"class\",data=df_mushroom)\n",
    "plt.show()"
   ]
  },
  {
   "cell_type": "code",
   "execution_count": 15,
   "metadata": {},
   "outputs": [],
   "source": [
    "df_mushroom.drop(columns=[\"veil-color\"],inplace=True)"
   ]
  },
  {
   "cell_type": "code",
   "execution_count": 16,
   "metadata": {},
   "outputs": [
    {
     "data": {
      "image/png": "[encoded data removed]",
      "text/plain": [
       "<Figure size 432x288 with 1 Axes>"
      ]
     },
     "metadata": {
      "needs_background": "light"
     },
     "output_type": "display_data"
    }
   ],
   "source": [
    "sns.countplot(x=\"veil-type\",hue=\"class\",data=df_mushroom)\n",
    "plt.show()"
   ]
  },
  {
   "cell_type": "code",
   "execution_count": 17,
   "metadata": {},
   "outputs": [
    {
     "data": {
      "image/png": "[encoded data removed]",
      "text/plain": [
       "<Figure size 432x288 with 1 Axes>"
      ]
     },
     "metadata": {
      "needs_background": "light"
     },
     "output_type": "display_data"
    }
   ],
   "source": [
    "sns.countplot(x=\"population\",hue=\"class\",data=df_mushroom)\n",
    "plt.show()"
   ]
  },
  {
   "cell_type": "code",
   "execution_count": 18,
   "metadata": {},
   "outputs": [
    {
     "data": {
      "image/png": "[encoded data removed]",
      "text/plain": [
       "<Figure size 432x288 with 1 Axes>"
      ]
     },
     "metadata": {
      "needs_background": "light"
     },
     "output_type": "display_data"
    }
   ],
   "source": [
    "sns.countplot(x=\"habitat\",hue=\"class\",data=df_mushroom)\n",
    "plt.show()"
   ]
  },
  {
   "cell_type": "code",
   "execution_count": 19,
   "metadata": {},
   "outputs": [],
   "source": [
    "#separate input and output variables\n",
    "df_x=df_mushroom.drop(columns=[\"class\"])\n",
    "y=df_mushroom[[\"class\"]]"
   ]
  },
  {
   "cell_type": "code",
   "execution_count": 20,
   "metadata": {},
   "outputs": [],
   "source": [
    "#using pd.get dummies function for converting input into integers\n",
    "df_x=pd.get_dummies(df_x,drop_first=True)"
   ]
  },
  {
   "cell_type": "code",
   "execution_count": 21,
   "metadata": {},
   "outputs": [
    {
     "data": {
      "text/plain": [
       "(8124, 91)"
      ]
     },
     "execution_count": 21,
     "metadata": {},
     "output_type": "execute_result"
    }
   ],
   "source": [
    "df_x.shape"
   ]
  },
  {
   "cell_type": "code",
   "execution_count": 22,
   "metadata": {},
   "outputs": [],
   "source": [
    "# setting input dataset features to same scale\n",
    "from sklearn.preprocessing import StandardScaler\n",
    "sc=StandardScaler()\n",
    "sc.fit(df_x)\n",
    "x=sc.transform(df_x)\n",
    "x=pd.DataFrame(x,columns=df_x.columns)"
   ]
  },
  {
   "cell_type": "code",
   "execution_count": 23,
   "metadata": {},
   "outputs": [
    {
     "name": "stderr",
     "output_type": "stream",
     "text": [
      "C:\\DataScience\\lib\\site-packages\\sklearn\\utils\\validation.py:73: DataConversionWarning: A column-vector y was passed when a 1d array was expected. Please change the shape of y to (n_samples, ), for example using ravel().\n",
      "  return f(**kwargs)\n"
     ]
    },
    {
     "data": {
      "text/plain": [
       "array([1, 0, 0, ..., 0, 1, 0])"
      ]
     },
     "execution_count": 23,
     "metadata": {},
     "output_type": "execute_result"
    }
   ],
   "source": [
    "from sklearn.preprocessing import LabelEncoder\n",
    "le=LabelEncoder()\n",
    "le.fit(y)\n",
    "y=le.transform(y)\n",
    "y"
   ]
  },
  {
   "cell_type": "code",
   "execution_count": 24,
   "metadata": {},
   "outputs": [],
   "source": [
    "from sklearn.decomposition import PCA\n",
    "pca = PCA(n_components=50)\n",
    "principalComponents = pca.fit_transform(x)"
   ]
  },
  {
   "cell_type": "code",
   "execution_count": 25,
   "metadata": {},
   "outputs": [
    {
     "data": {
      "text/plain": [
       "0.9339584485867034"
      ]
     },
     "execution_count": 25,
     "metadata": {},
     "output_type": "execute_result"
    }
   ],
   "source": [
    "sum(pca.explained_variance_ratio_)"
   ]
  },
  {
   "cell_type": "code",
   "execution_count": 34,
   "metadata": {},
   "outputs": [],
   "source": [
    "#using f1 score\n",
    "from sklearn.metrics import f1_score\n",
    "from sklearn.model_selection import train_test_split\n",
    "def maxf1_score(clf,df_x,y):\n",
    "    max_f=0\n",
    "    rs=0\n",
    "    for r_state in range(40,101):\n",
    "        x_train,x_test,y_train,y_test=train_test_split(df_x, y,random_state = r_state,test_size=0.20,stratify=y)\n",
    "        clf.fit(x_train,y_train)\n",
    "        y_pred=clf.predict(x_test)\n",
    "        temp=f1_score(y_test,y_pred)\n",
    "        print(\"random state :\",r_state,\" and f1 score: \",temp)\n",
    "        if temp>max_f:\n",
    "            max_f=temp\n",
    "            rs=r_state\n",
    "    print(\"maximum f1_score is at random state :\",rs,\" and it is :\",max_f)"
   ]
  },
  {
   "cell_type": "code",
   "execution_count": 27,
   "metadata": {
    "scrolled": true
   },
   "outputs": [
    {
     "name": "stdout",
     "output_type": "stream",
     "text": [
      "random state : 40  and f1 score:  1.0\n",
      "random state : 41  and f1 score:  0.9993610223642173\n",
      "random state : 42  and f1 score:  0.9987212276214833\n",
      "random state : 43  and f1 score:  0.9993610223642173\n",
      "random state : 44  and f1 score:  0.9987212276214833\n",
      "random state : 45  and f1 score:  1.0\n",
      "random state : 46  and f1 score:  1.0\n",
      "random state : 47  and f1 score:  1.0\n",
      "random state : 48  and f1 score:  0.9993610223642173\n",
      "random state : 49  and f1 score:  1.0\n",
      "random state : 50  and f1 score:  0.9993610223642173\n",
      "random state : 51  and f1 score:  1.0\n",
      "random state : 52  and f1 score:  1.0\n",
      "random state : 53  and f1 score:  1.0\n",
      "random state : 54  and f1 score:  0.9987212276214833\n",
      "random state : 55  and f1 score:  0.9993610223642173\n",
      "random state : 56  and f1 score:  1.0\n",
      "random state : 57  and f1 score:  0.9993610223642173\n",
      "random state : 58  and f1 score:  1.0\n",
      "random state : 59  and f1 score:  0.9993610223642173\n",
      "random state : 60  and f1 score:  0.9993610223642173\n",
      "random state : 61  and f1 score:  0.9993610223642173\n",
      "random state : 62  and f1 score:  0.9993610223642173\n",
      "random state : 63  and f1 score:  0.9993610223642173\n",
      "random state : 64  and f1 score:  1.0\n",
      "random state : 65  and f1 score:  0.9993610223642173\n",
      "random state : 66  and f1 score:  1.0\n",
      "random state : 67  and f1 score:  0.9987212276214833\n",
      "random state : 68  and f1 score:  1.0\n",
      "random state : 69  and f1 score:  1.0\n",
      "random state : 70  and f1 score:  0.9993610223642173\n",
      "random state : 71  and f1 score:  1.0\n",
      "random state : 72  and f1 score:  0.9993610223642173\n",
      "random state : 73  and f1 score:  0.9993610223642173\n",
      "random state : 74  and f1 score:  0.9993610223642173\n",
      "random state : 75  and f1 score:  1.0\n",
      "random state : 76  and f1 score:  0.9993610223642173\n",
      "random state : 77  and f1 score:  1.0\n",
      "random state : 78  and f1 score:  1.0\n",
      "random state : 79  and f1 score:  1.0\n",
      "random state : 80  and f1 score:  1.0\n",
      "random state : 81  and f1 score:  0.9993610223642173\n",
      "random state : 82  and f1 score:  1.0\n",
      "random state : 83  and f1 score:  1.0\n",
      "random state : 84  and f1 score:  1.0\n",
      "random state : 85  and f1 score:  1.0\n",
      "random state : 86  and f1 score:  0.9993610223642173\n",
      "random state : 87  and f1 score:  1.0\n",
      "random state : 88  and f1 score:  1.0\n",
      "random state : 89  and f1 score:  0.9987212276214833\n",
      "random state : 90  and f1 score:  0.9993610223642173\n",
      "random state : 91  and f1 score:  1.0\n",
      "random state : 92  and f1 score:  0.9993610223642173\n",
      "random state : 93  and f1 score:  1.0\n",
      "random state : 94  and f1 score:  0.9993610223642173\n",
      "random state : 95  and f1 score:  0.9993610223642173\n",
      "random state : 96  and f1 score:  0.9993610223642173\n",
      "random state : 97  and f1 score:  0.9993610223642173\n",
      "random state : 98  and f1 score:  0.9993610223642173\n",
      "random state : 99  and f1 score:  0.9993610223642173\n",
      "random state : 100  and f1 score:  0.9993610223642173\n",
      "maximum f1_score is at random state : 40  and it is : 1.0\n"
     ]
    }
   ],
   "source": [
    "#Logistic Regression\n",
    "from sklearn.linear_model import LogisticRegression\n",
    "lg_clf=LogisticRegression()\n",
    "maxf1_score(lg_clf,principalComponents,y)"
   ]
  },
  {
   "cell_type": "code",
   "execution_count": 28,
   "metadata": {},
   "outputs": [
    {
     "name": "stdout",
     "output_type": "stream",
     "text": [
      "Mean f1 score for logistic classifier:  0.9540583731178474\n",
      "standard deviation in f1 score for logistic classifier:  0.058247131736042686\n",
      "[0.91412742 0.99936102 0.99872123 1.         0.85808219]\n"
     ]
    }
   ],
   "source": [
    "#cross_val_score\n",
    "from sklearn.model_selection import cross_val_score\n",
    "print(\"Mean f1 score for logistic classifier: \",cross_val_score(lg_clf,principalComponents,y,cv=5,scoring=\"f1\").mean())\n",
    "print(\"standard deviation in f1 score for logistic classifier: \",cross_val_score(lg_clf,principalComponents,y,cv=5,scoring=\"f1\").std())\n",
    "print(cross_val_score(lg_clf,principalComponents,y,cv=5,scoring=\"f1\"))"
   ]
  },
  {
   "cell_type": "code",
   "execution_count": 35,
   "metadata": {},
   "outputs": [
    {
     "name": "stdout",
     "output_type": "stream",
     "text": [
      "random state : 40  and f1 score:  0.9948783610755442\n",
      "random state : 41  and f1 score:  0.9942565411614551\n",
      "random state : 42  and f1 score:  0.9910600255427842\n",
      "random state : 43  and f1 score:  0.9955385595920969\n",
      "random state : 44  and f1 score:  0.9974457215836526\n",
      "random state : 45  and f1 score:  0.9980830670926518\n",
      "random state : 46  and f1 score:  0.9961685823754789\n",
      "random state : 47  and f1 score:  0.9942418426103647\n",
      "random state : 48  and f1 score:  0.9936224489795918\n",
      "random state : 49  and f1 score:  0.9942492012779554\n",
      "random state : 50  and f1 score:  0.9936305732484076\n",
      "random state : 51  and f1 score:  0.9942638623326959\n",
      "random state : 52  and f1 score:  0.9904397705544934\n",
      "random state : 53  and f1 score:  0.9955214331413946\n",
      "random state : 54  and f1 score:  0.9974489795918366\n",
      "random state : 55  and f1 score:  0.9955099422706863\n",
      "random state : 56  and f1 score:  0.9987212276214833\n",
      "random state : 57  and f1 score:  0.9936143039591315\n",
      "random state : 58  and f1 score:  0.9955328653477983\n",
      "random state : 59  and f1 score:  0.9942711648631445\n",
      "random state : 60  and f1 score:  0.9929802169751116\n",
      "random state : 61  and f1 score:  0.9955214331413946\n",
      "random state : 62  and f1 score:  0.9961636828644502\n",
      "random state : 63  and f1 score:  0.9968010236724248\n",
      "random state : 64  and f1 score:  0.9942492012779554\n",
      "random state : 65  and f1 score:  0.9936224489795918\n",
      "random state : 66  and f1 score:  0.996173469387755\n",
      "random state : 67  and f1 score:  0.9942492012779554\n",
      "random state : 68  and f1 score:  0.9968091895341417\n",
      "random state : 69  and f1 score:  0.9968132568514977\n",
      "random state : 70  and f1 score:  0.9942857142857142\n",
      "random state : 71  and f1 score:  0.9961685823754789\n",
      "random state : 72  and f1 score:  0.9936305732484076\n",
      "random state : 73  and f1 score:  0.9903907751441383\n",
      "random state : 74  and f1 score:  0.9955271565495207\n",
      "random state : 75  and f1 score:  0.9936143039591315\n",
      "random state : 76  and f1 score:  0.9968010236724248\n",
      "random state : 77  and f1 score:  0.9936143039591315\n",
      "random state : 78  and f1 score:  0.9948979591836734\n",
      "random state : 79  and f1 score:  0.9935979513444302\n",
      "random state : 80  and f1 score:  0.9968132568514977\n",
      "random state : 81  and f1 score:  0.994234465086483\n",
      "random state : 82  and f1 score:  0.9885204081632653\n",
      "random state : 83  and f1 score:  0.9936143039591315\n",
      "random state : 84  and f1 score:  0.9955271565495207\n",
      "random state : 85  and f1 score:  0.9961587708066583\n",
      "random state : 86  and f1 score:  0.9948849104859335\n",
      "random state : 87  and f1 score:  0.993006993006993\n",
      "random state : 88  and f1 score:  0.9942492012779554\n",
      "random state : 89  and f1 score:  0.9942418426103647\n",
      "random state : 90  and f1 score:  0.9910941475826972\n",
      "random state : 91  and f1 score:  0.9936143039591315\n",
      "random state : 92  and f1 score:  0.9942492012779554\n",
      "random state : 93  and f1 score:  0.9955156950672646\n",
      "random state : 94  and f1 score:  0.9948783610755442\n",
      "random state : 95  and f1 score:  0.9917038927887684\n",
      "random state : 96  and f1 score:  0.9942418426103647\n",
      "random state : 97  and f1 score:  0.9961636828644502\n",
      "random state : 98  and f1 score:  0.9923857868020304\n",
      "random state : 99  and f1 score:  0.9955328653477983\n",
      "random state : 100  and f1 score:  0.9897698209718669\n",
      "maximum f1_score is at random state : 56  and it is : 0.9987212276214833\n"
     ]
    }
   ],
   "source": [
    "#Decision Tree classifier\n",
    "from sklearn.tree import DecisionTreeClassifier\n",
    "dc=DecisionTreeClassifier()\n",
    "maxf1_score(dc,principalComponents,y)"
   ]
  },
  {
   "cell_type": "code",
   "execution_count": 36,
   "metadata": {},
   "outputs": [
    {
     "name": "stdout",
     "output_type": "stream",
     "text": [
      "Mean f1 score for decision tree classifier:  0.8801218510259197\n",
      "standard deviation in f1 score for decision tree classifier:  0.1334935699011576\n",
      "[0.77065637 0.99487179 0.96084937 0.99300699 0.8668942 ]\n"
     ]
    }
   ],
   "source": [
    "from sklearn.model_selection import cross_val_score\n",
    "print(\"Mean f1 score for decision tree classifier: \",cross_val_score(dc,principalComponents,y,cv=5,scoring=\"f1\").mean())\n",
    "print(\"standard deviation in f1 score for decision tree classifier: \",cross_val_score(dc,principalComponents,y,cv=5,scoring=\"f1\").std())\n",
    "print(cross_val_score(dc,principalComponents,y,cv=5,scoring=\"f1\"))"
   ]
  },
  {
   "cell_type": "code",
   "execution_count": 37,
   "metadata": {},
   "outputs": [
    {
     "data": {
      "text/plain": [
       "{'n_estimators': 10}"
      ]
     },
     "execution_count": 37,
     "metadata": {},
     "output_type": "execute_result"
    }
   ],
   "source": [
    "#Random forest classifier\n",
    "from sklearn.ensemble import RandomForestClassifier\n",
    "from sklearn.model_selection import GridSearchCV\n",
    "parameters={\"n_estimators\":[10,100,500]}\n",
    "rf_clf=RandomForestClassifier()\n",
    "clf = GridSearchCV(rf_clf, parameters, cv=5,scoring=\"f1\")\n",
    "clf.fit(principalComponents,y)\n",
    "clf.best_params_"
   ]
  },
  {
   "cell_type": "code",
   "execution_count": 38,
   "metadata": {},
   "outputs": [
    {
     "name": "stdout",
     "output_type": "stream",
     "text": [
      "random state : 40  and f1 score:  1.0\n",
      "random state : 41  and f1 score:  0.9987212276214833\n",
      "random state : 42  and f1 score:  0.9974391805377721\n",
      "random state : 43  and f1 score:  1.0\n",
      "random state : 44  and f1 score:  0.9993610223642173\n",
      "random state : 45  and f1 score:  1.0\n",
      "random state : 46  and f1 score:  1.0\n",
      "random state : 47  and f1 score:  1.0\n",
      "random state : 48  and f1 score:  0.9993610223642173\n",
      "random state : 49  and f1 score:  1.0\n",
      "random state : 50  and f1 score:  1.0\n",
      "random state : 51  and f1 score:  1.0\n",
      "random state : 52  and f1 score:  1.0\n",
      "random state : 53  and f1 score:  0.9993610223642173\n",
      "random state : 54  and f1 score:  0.9987212276214833\n",
      "random state : 55  and f1 score:  0.9993610223642173\n",
      "random state : 56  and f1 score:  1.0\n",
      "random state : 57  and f1 score:  1.0\n",
      "random state : 58  and f1 score:  1.0\n",
      "random state : 59  and f1 score:  0.9993610223642173\n",
      "random state : 60  and f1 score:  1.0\n",
      "random state : 61  and f1 score:  0.9987212276214833\n",
      "random state : 62  and f1 score:  0.9980806142034548\n",
      "random state : 63  and f1 score:  0.9980830670926518\n",
      "random state : 64  and f1 score:  1.0\n",
      "random state : 65  and f1 score:  1.0\n",
      "random state : 66  and f1 score:  0.9987228607918263\n",
      "random state : 67  and f1 score:  0.9987212276214833\n",
      "random state : 68  and f1 score:  0.9993610223642173\n",
      "random state : 69  and f1 score:  1.0\n",
      "random state : 70  and f1 score:  1.0\n",
      "random state : 71  and f1 score:  1.0\n",
      "random state : 72  and f1 score:  0.9993610223642173\n",
      "random state : 73  and f1 score:  0.9993610223642173\n",
      "random state : 74  and f1 score:  0.9993610223642173\n",
      "random state : 75  and f1 score:  0.9993610223642173\n",
      "random state : 76  and f1 score:  1.0\n",
      "random state : 77  and f1 score:  1.0\n",
      "random state : 78  and f1 score:  1.0\n",
      "random state : 79  and f1 score:  1.0\n",
      "random state : 80  and f1 score:  0.9993618379068284\n",
      "random state : 81  and f1 score:  1.0\n",
      "random state : 82  and f1 score:  0.9987212276214833\n",
      "random state : 83  and f1 score:  1.0\n",
      "random state : 84  and f1 score:  1.0\n",
      "random state : 85  and f1 score:  0.9993610223642173\n",
      "random state : 86  and f1 score:  0.9993610223642173\n",
      "random state : 87  and f1 score:  1.0\n",
      "random state : 88  and f1 score:  1.0\n",
      "random state : 89  and f1 score:  0.9987212276214833\n",
      "random state : 90  and f1 score:  0.9993610223642173\n",
      "random state : 91  and f1 score:  1.0\n",
      "random state : 92  and f1 score:  0.9987212276214833\n",
      "random state : 93  and f1 score:  1.0\n",
      "random state : 94  and f1 score:  1.0\n",
      "random state : 95  and f1 score:  1.0\n",
      "random state : 96  and f1 score:  0.9987212276214833\n",
      "random state : 97  and f1 score:  0.9993610223642173\n",
      "random state : 98  and f1 score:  0.9987212276214833\n",
      "random state : 99  and f1 score:  1.0\n",
      "random state : 100  and f1 score:  1.0\n",
      "maximum f1_score is at random state : 40  and it is : 1.0\n"
     ]
    }
   ],
   "source": [
    "rf_clf=RandomForestClassifier(n_estimators=10)\n",
    "maxf1_score(rf_clf,principalComponents,y)"
   ]
  },
  {
   "cell_type": "code",
   "execution_count": 39,
   "metadata": {},
   "outputs": [
    {
     "name": "stdout",
     "output_type": "stream",
     "text": [
      "Mean f1 score for random forest classifier:  0.9190760418495459\n",
      "standard deviation in f1 score for random forest classifier:  0.12843278999188923\n",
      "[0.81031866 1.         0.99357326 1.         0.71279017]\n"
     ]
    }
   ],
   "source": [
    "# using cross val score again\n",
    "print(\"Mean f1 score for random forest classifier: \",cross_val_score(rf_clf,principalComponents,y,cv=5,scoring=\"f1\").mean())\n",
    "print(\"standard deviation in f1 score for random forest classifier: \",cross_val_score(rf_clf,principalComponents,y,cv=5,scoring=\"f1\").std())\n",
    "print(cross_val_score(rf_clf,principalComponents,y,cv=5,scoring=\"f1\"))"
   ]
  },
  {
   "cell_type": "code",
   "execution_count": 41,
   "metadata": {},
   "outputs": [
    {
     "data": {
      "text/plain": [
       "{'C': 1, 'kernel': 'poly'}"
      ]
     },
     "execution_count": 41,
     "metadata": {},
     "output_type": "execute_result"
    }
   ],
   "source": [
    "from sklearn.svm import SVC\n",
    "svc=SVC()\n",
    "parameters={\"kernel\":[\"linear\", \"poly\", \"rbf\"],\"C\":[0.001,0.01,0.1,1,10]}\n",
    "clf = GridSearchCV(svc, parameters, cv=5,scoring=\"f1\")\n",
    "clf.fit(principalComponents,y)\n",
    "clf.best_params_"
   ]
  },
  {
   "cell_type": "code",
   "execution_count": 42,
   "metadata": {},
   "outputs": [
    {
     "name": "stdout",
     "output_type": "stream",
     "text": [
      "random state : 40  and f1 score:  0.9993610223642173\n",
      "random state : 41  and f1 score:  0.9948652118100128\n",
      "random state : 42  and f1 score:  0.9948652118100128\n",
      "random state : 43  and f1 score:  0.9955099422706863\n",
      "random state : 44  and f1 score:  0.9942196531791908\n",
      "random state : 45  and f1 score:  0.9942196531791908\n",
      "random state : 46  and f1 score:  0.9961538461538463\n",
      "random state : 47  and f1 score:  0.993573264781491\n",
      "random state : 48  and f1 score:  0.9948652118100128\n",
      "random state : 49  and f1 score:  0.9961538461538463\n",
      "random state : 50  and f1 score:  0.9967969250480461\n",
      "random state : 51  and f1 score:  0.9987212276214833\n",
      "random state : 52  and f1 score:  0.9980806142034548\n",
      "random state : 53  and f1 score:  0.9967969250480461\n",
      "random state : 54  and f1 score:  0.9955099422706863\n",
      "random state : 55  and f1 score:  0.9974391805377721\n",
      "random state : 56  and f1 score:  0.9993610223642173\n",
      "random state : 57  and f1 score:  0.9974391805377721\n",
      "random state : 58  and f1 score:  0.993573264781491\n",
      "random state : 59  and f1 score:  0.9955099422706863\n",
      "random state : 60  and f1 score:  0.993573264781491\n",
      "random state : 61  and f1 score:  0.9961538461538463\n",
      "random state : 62  and f1 score:  0.9929260450160772\n",
      "random state : 63  and f1 score:  0.9942196531791908\n",
      "random state : 64  and f1 score:  0.9967969250480461\n",
      "random state : 65  and f1 score:  0.9948652118100128\n",
      "random state : 66  and f1 score:  0.9967969250480461\n",
      "random state : 67  and f1 score:  0.9974391805377721\n",
      "random state : 68  and f1 score:  0.993573264781491\n",
      "random state : 69  and f1 score:  0.9980806142034548\n",
      "random state : 70  and f1 score:  0.9948652118100128\n",
      "random state : 71  and f1 score:  0.9980806142034548\n",
      "random state : 72  and f1 score:  0.9883720930232558\n",
      "random state : 73  and f1 score:  0.9961538461538463\n",
      "random state : 74  and f1 score:  0.9967969250480461\n",
      "random state : 75  and f1 score:  0.9929260450160772\n",
      "random state : 76  and f1 score:  0.9980806142034548\n",
      "random state : 77  and f1 score:  0.9929260450160772\n",
      "random state : 78  and f1 score:  0.9948652118100128\n",
      "random state : 79  and f1 score:  0.9974391805377721\n",
      "random state : 80  and f1 score:  0.9948652118100128\n",
      "random state : 81  and f1 score:  0.9942196531791908\n",
      "random state : 82  and f1 score:  0.9987212276214833\n",
      "random state : 83  and f1 score:  0.9942196531791908\n",
      "random state : 84  and f1 score:  0.9955099422706863\n",
      "random state : 85  and f1 score:  0.993573264781491\n",
      "random state : 86  and f1 score:  0.9961538461538463\n",
      "random state : 87  and f1 score:  0.9955099422706863\n",
      "random state : 88  and f1 score:  0.993573264781491\n",
      "random state : 89  and f1 score:  0.9922779922779923\n",
      "random state : 90  and f1 score:  0.9955099422706863\n",
      "random state : 91  and f1 score:  0.9967969250480461\n",
      "random state : 92  and f1 score:  0.9955099422706863\n",
      "random state : 93  and f1 score:  0.9948652118100128\n",
      "random state : 94  and f1 score:  0.9955099422706863\n",
      "random state : 95  and f1 score:  0.9916291049581455\n",
      "random state : 96  and f1 score:  0.9980806142034548\n",
      "random state : 97  and f1 score:  0.9942196531791908\n",
      "random state : 98  and f1 score:  0.9967969250480461\n",
      "random state : 99  and f1 score:  0.9961538461538463\n",
      "random state : 100  and f1 score:  0.9948652118100128\n",
      "maximum f1_score is at random state : 40  and it is : 0.9993610223642173\n"
     ]
    }
   ],
   "source": [
    "svc=SVC(kernel=\"poly\",C=0.1)\n",
    "maxf1_score(svc,principalComponents,y)"
   ]
  },
  {
   "cell_type": "code",
   "execution_count": 43,
   "metadata": {},
   "outputs": [
    {
     "name": "stdout",
     "output_type": "stream",
     "text": [
      "Mean f1 score for SVM classifier:  0.9343022095255726\n",
      "standard deviation in f1 score for SVM classifier:  0.08118378584622947\n",
      "[0.80487805 0.99615385 0.87175793 0.99872123 1.        ]\n"
     ]
    }
   ],
   "source": [
    "print(\"Mean f1 score for SVM classifier: \",cross_val_score(svc,principalComponents,y,cv=5,scoring=\"f1\").mean())\n",
    "print(\"standard deviation in f1 score for SVM classifier: \",cross_val_score(svc,principalComponents,y,cv=5,scoring=\"f1\").std())\n",
    "print(cross_val_score(svc,principalComponents,y,cv=5,scoring=\"f1\"))"
   ]
  },
  {
   "cell_type": "code",
   "execution_count": 46,
   "metadata": {},
   "outputs": [],
   "source": [
    "#Final model for saving\n",
    "svc=SVC(kernel=\"poly\",C=0.1)\n",
    "x_train,x_test,y_train,y_test=train_test_split(principalComponents, y,random_state = 45,test_size=0.20,stratify=y)\n",
    "svc.fit(x_train,y_train)\n",
    "y_pred=svc.predict(x_test)"
   ]
  },
  {
   "cell_type": "code",
   "execution_count": 45,
   "metadata": {},
   "outputs": [
    {
     "data": {
      "text/plain": [
       "['svc_mushroom.pkl']"
      ]
     },
     "execution_count": 45,
     "metadata": {},
     "output_type": "execute_result"
    }
   ],
   "source": [
    "#saving the model as a pickle in a file\n",
    "import joblib\n",
    "joblib.dump(svc,'svc_mushroom.pkl')"
   ]
  },
  {
   "cell_type": "code",
   "execution_count": null,
   "metadata": {},
   "outputs": [],
   "source": []
  }
 ],
 "metadata": {
  "kernelspec": {
   "display_name": "Python 3",
   "language": "python",
   "name": "python3"
  },
  "language_info": {
   "codemirror_mode": {
    "name": "ipython",
    "version": 3
   },
   "file_extension": ".py",
   "mimetype": "text/x-python",
   "name": "python",
   "nbconvert_exporter": "python",
   "pygments_lexer": "ipython3",
   "version": "3.8.3"
  }
 },
 "nbformat": 4,
 "nbformat_minor": 4
}
