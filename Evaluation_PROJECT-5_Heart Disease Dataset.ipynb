{
 "cells": [
  {
   "cell_type": "code",
   "execution_count": 88,
   "metadata": {},
   "outputs": [],
   "source": [
    "#Importing all the necessary libraries\n",
    "import pandas as pd\n",
    "import numpy as np\n",
    "import matplotlib.pyplot as plt\n",
    "import seaborn as sns\n",
    "\n",
    "#Importing the warnings\n",
    "import warnings\n",
    "warnings.filterwarnings('ignore')"
   ]
  },
  {
   "cell_type": "code",
   "execution_count": 89,
   "metadata": {},
   "outputs": [
    {
     "data": {
      "text/html": [
       "<div>\n",
       "<style scoped>\n",
       "    .dataframe tbody tr th:only-of-type {\n",
       "        vertical-align: middle;\n",
       "    }\n",
       "\n",
       "    .dataframe tbody tr th {\n",
       "        vertical-align: top;\n",
       "    }\n",
       "\n",
       "    .dataframe thead th {\n",
       "        text-align: right;\n",
       "    }\n",
       "</style>\n",
       "<table border=\"1\" class=\"dataframe\">\n",
       "  <thead>\n",
       "    <tr style=\"text-align: right;\">\n",
       "      <th></th>\n",
       "      <th>Age</th>\n",
       "      <th>Sex</th>\n",
       "      <th>Cp</th>\n",
       "      <th>trestbps</th>\n",
       "      <th>chol</th>\n",
       "      <th>fbs</th>\n",
       "      <th>restecg</th>\n",
       "      <th>thalach</th>\n",
       "      <th>exang</th>\n",
       "      <th>oldpeak</th>\n",
       "      <th>slope</th>\n",
       "      <th>ca</th>\n",
       "      <th>thal</th>\n",
       "      <th>num</th>\n",
       "    </tr>\n",
       "  </thead>\n",
       "  <tbody>\n",
       "    <tr>\n",
       "      <th>0</th>\n",
       "      <td>63</td>\n",
       "      <td>1</td>\n",
       "      <td>4</td>\n",
       "      <td>140</td>\n",
       "      <td>260</td>\n",
       "      <td>0</td>\n",
       "      <td>1</td>\n",
       "      <td>112</td>\n",
       "      <td>1</td>\n",
       "      <td>3</td>\n",
       "      <td>2</td>\n",
       "      <td>?</td>\n",
       "      <td>?</td>\n",
       "      <td>2</td>\n",
       "    </tr>\n",
       "    <tr>\n",
       "      <th>1</th>\n",
       "      <td>44</td>\n",
       "      <td>1</td>\n",
       "      <td>4</td>\n",
       "      <td>130</td>\n",
       "      <td>209</td>\n",
       "      <td>0</td>\n",
       "      <td>1</td>\n",
       "      <td>127</td>\n",
       "      <td>0</td>\n",
       "      <td>0</td>\n",
       "      <td>?</td>\n",
       "      <td>?</td>\n",
       "      <td>?</td>\n",
       "      <td>0</td>\n",
       "    </tr>\n",
       "    <tr>\n",
       "      <th>2</th>\n",
       "      <td>60</td>\n",
       "      <td>1</td>\n",
       "      <td>4</td>\n",
       "      <td>132</td>\n",
       "      <td>218</td>\n",
       "      <td>0</td>\n",
       "      <td>1</td>\n",
       "      <td>140</td>\n",
       "      <td>1</td>\n",
       "      <td>1.5</td>\n",
       "      <td>3</td>\n",
       "      <td>?</td>\n",
       "      <td>?</td>\n",
       "      <td>2</td>\n",
       "    </tr>\n",
       "    <tr>\n",
       "      <th>3</th>\n",
       "      <td>55</td>\n",
       "      <td>1</td>\n",
       "      <td>4</td>\n",
       "      <td>142</td>\n",
       "      <td>228</td>\n",
       "      <td>0</td>\n",
       "      <td>1</td>\n",
       "      <td>149</td>\n",
       "      <td>1</td>\n",
       "      <td>2.5</td>\n",
       "      <td>1</td>\n",
       "      <td>?</td>\n",
       "      <td>?</td>\n",
       "      <td>1</td>\n",
       "    </tr>\n",
       "    <tr>\n",
       "      <th>4</th>\n",
       "      <td>66</td>\n",
       "      <td>1</td>\n",
       "      <td>3</td>\n",
       "      <td>110</td>\n",
       "      <td>213</td>\n",
       "      <td>1</td>\n",
       "      <td>2</td>\n",
       "      <td>99</td>\n",
       "      <td>1</td>\n",
       "      <td>1.3</td>\n",
       "      <td>2</td>\n",
       "      <td>?</td>\n",
       "      <td>?</td>\n",
       "      <td>0</td>\n",
       "    </tr>\n",
       "    <tr>\n",
       "      <th>...</th>\n",
       "      <td>...</td>\n",
       "      <td>...</td>\n",
       "      <td>...</td>\n",
       "      <td>...</td>\n",
       "      <td>...</td>\n",
       "      <td>...</td>\n",
       "      <td>...</td>\n",
       "      <td>...</td>\n",
       "      <td>...</td>\n",
       "      <td>...</td>\n",
       "      <td>...</td>\n",
       "      <td>...</td>\n",
       "      <td>...</td>\n",
       "      <td>...</td>\n",
       "    </tr>\n",
       "    <tr>\n",
       "      <th>195</th>\n",
       "      <td>54</td>\n",
       "      <td>0</td>\n",
       "      <td>4</td>\n",
       "      <td>127</td>\n",
       "      <td>333</td>\n",
       "      <td>1</td>\n",
       "      <td>1</td>\n",
       "      <td>154</td>\n",
       "      <td>0</td>\n",
       "      <td>0</td>\n",
       "      <td>?</td>\n",
       "      <td>?</td>\n",
       "      <td>?</td>\n",
       "      <td>1</td>\n",
       "    </tr>\n",
       "    <tr>\n",
       "      <th>196</th>\n",
       "      <td>62</td>\n",
       "      <td>1</td>\n",
       "      <td>1</td>\n",
       "      <td>?</td>\n",
       "      <td>139</td>\n",
       "      <td>0</td>\n",
       "      <td>1</td>\n",
       "      <td>?</td>\n",
       "      <td>?</td>\n",
       "      <td>?</td>\n",
       "      <td>?</td>\n",
       "      <td>?</td>\n",
       "      <td>?</td>\n",
       "      <td>0</td>\n",
       "    </tr>\n",
       "    <tr>\n",
       "      <th>197</th>\n",
       "      <td>55</td>\n",
       "      <td>1</td>\n",
       "      <td>4</td>\n",
       "      <td>122</td>\n",
       "      <td>223</td>\n",
       "      <td>1</td>\n",
       "      <td>1</td>\n",
       "      <td>100</td>\n",
       "      <td>0</td>\n",
       "      <td>0</td>\n",
       "      <td>?</td>\n",
       "      <td>?</td>\n",
       "      <td>6</td>\n",
       "      <td>2</td>\n",
       "    </tr>\n",
       "    <tr>\n",
       "      <th>198</th>\n",
       "      <td>58</td>\n",
       "      <td>1</td>\n",
       "      <td>4</td>\n",
       "      <td>?</td>\n",
       "      <td>385</td>\n",
       "      <td>1</td>\n",
       "      <td>2</td>\n",
       "      <td>?</td>\n",
       "      <td>?</td>\n",
       "      <td>?</td>\n",
       "      <td>?</td>\n",
       "      <td>?</td>\n",
       "      <td>?</td>\n",
       "      <td>0</td>\n",
       "    </tr>\n",
       "    <tr>\n",
       "      <th>199</th>\n",
       "      <td>62</td>\n",
       "      <td>1</td>\n",
       "      <td>2</td>\n",
       "      <td>120</td>\n",
       "      <td>254</td>\n",
       "      <td>0</td>\n",
       "      <td>2</td>\n",
       "      <td>93</td>\n",
       "      <td>1</td>\n",
       "      <td>0</td>\n",
       "      <td>?</td>\n",
       "      <td>?</td>\n",
       "      <td>?</td>\n",
       "      <td>1</td>\n",
       "    </tr>\n",
       "  </tbody>\n",
       "</table>\n",
       "<p>200 rows × 14 columns</p>\n",
       "</div>"
      ],
      "text/plain": [
       "     Age  Sex  Cp trestbps chol fbs  restecg thalach exang oldpeak slope ca  \\\n",
       "0     63    1   4      140  260   0        1     112     1       3     2  ?   \n",
       "1     44    1   4      130  209   0        1     127     0       0     ?  ?   \n",
       "2     60    1   4      132  218   0        1     140     1     1.5     3  ?   \n",
       "3     55    1   4      142  228   0        1     149     1     2.5     1  ?   \n",
       "4     66    1   3      110  213   1        2      99     1     1.3     2  ?   \n",
       "..   ...  ...  ..      ...  ...  ..      ...     ...   ...     ...   ... ..   \n",
       "195   54    0   4      127  333   1        1     154     0       0     ?  ?   \n",
       "196   62    1   1        ?  139   0        1       ?     ?       ?     ?  ?   \n",
       "197   55    1   4      122  223   1        1     100     0       0     ?  ?   \n",
       "198   58    1   4        ?  385   1        2       ?     ?       ?     ?  ?   \n",
       "199   62    1   2      120  254   0        2      93     1       0     ?  ?   \n",
       "\n",
       "    thal  num  \n",
       "0      ?    2  \n",
       "1      ?    0  \n",
       "2      ?    2  \n",
       "3      ?    1  \n",
       "4      ?    0  \n",
       "..   ...  ...  \n",
       "195    ?    1  \n",
       "196    ?    0  \n",
       "197    6    2  \n",
       "198    ?    0  \n",
       "199    ?    1  \n",
       "\n",
       "[200 rows x 14 columns]"
      ]
     },
     "execution_count": 89,
     "metadata": {},
     "output_type": "execute_result"
    }
   ],
   "source": [
    "#Loading the dataset\n",
    "df=pd.read_csv(\"heartdisease_data.csv\")\n",
    "df"
   ]
  },
  {
   "cell_type": "code",
   "execution_count": 90,
   "metadata": {},
   "outputs": [
    {
     "data": {
      "text/plain": [
       "(200, 14)"
      ]
     },
     "execution_count": 90,
     "metadata": {},
     "output_type": "execute_result"
    }
   ],
   "source": [
    "#Checking the shape \n",
    "df.shape"
   ]
  },
  {
   "cell_type": "markdown",
   "metadata": {},
   "source": [
    "In this dataset there are 200 rows and 14 columns are present."
   ]
  },
  {
   "cell_type": "code",
   "execution_count": 91,
   "metadata": {},
   "outputs": [
    {
     "data": {
      "text/plain": [
       "Age          int64\n",
       "Sex          int64\n",
       "Cp           int64\n",
       "trestbps    object\n",
       "chol        object\n",
       "fbs         object\n",
       "restecg      int64\n",
       "thalach     object\n",
       "exang       object\n",
       "oldpeak     object\n",
       "slope       object\n",
       "ca          object\n",
       "thal        object\n",
       "num          int64\n",
       "dtype: object"
      ]
     },
     "execution_count": 91,
     "metadata": {},
     "output_type": "execute_result"
    }
   ],
   "source": [
    "#Checking the datatypes of the columns\n",
    "df.dtypes"
   ]
  },
  {
   "cell_type": "code",
   "execution_count": 92,
   "metadata": {},
   "outputs": [
    {
     "data": {
      "text/plain": [
       "Age           0\n",
       "Sex           0\n",
       "Cp            0\n",
       "trestbps     56\n",
       "chol          7\n",
       "fbs           7\n",
       "restecg       0\n",
       "thalach      53\n",
       "exang        53\n",
       "oldpeak      56\n",
       "slope       102\n",
       "ca          198\n",
       "thal        166\n",
       "num           0\n",
       "dtype: int64"
      ]
     },
     "execution_count": 92,
     "metadata": {},
     "output_type": "execute_result"
    }
   ],
   "source": [
    "#Replace Question mark(?) values with nan values\n",
    "df.replace(\"?\", np.nan, inplace = True)\n",
    "df.isnull().sum()"
   ]
  },
  {
   "cell_type": "code",
   "execution_count": 93,
   "metadata": {},
   "outputs": [
    {
     "data": {
      "text/html": [
       "<div>\n",
       "<style scoped>\n",
       "    .dataframe tbody tr th:only-of-type {\n",
       "        vertical-align: middle;\n",
       "    }\n",
       "\n",
       "    .dataframe tbody tr th {\n",
       "        vertical-align: top;\n",
       "    }\n",
       "\n",
       "    .dataframe thead th {\n",
       "        text-align: right;\n",
       "    }\n",
       "</style>\n",
       "<table border=\"1\" class=\"dataframe\">\n",
       "  <thead>\n",
       "    <tr style=\"text-align: right;\">\n",
       "      <th></th>\n",
       "      <th>Age</th>\n",
       "      <th>Sex</th>\n",
       "      <th>Cp</th>\n",
       "      <th>trestbps</th>\n",
       "      <th>chol</th>\n",
       "      <th>fbs</th>\n",
       "      <th>restecg</th>\n",
       "      <th>thalach</th>\n",
       "      <th>exang</th>\n",
       "      <th>oldpeak</th>\n",
       "      <th>slope</th>\n",
       "      <th>num</th>\n",
       "    </tr>\n",
       "  </thead>\n",
       "  <tbody>\n",
       "    <tr>\n",
       "      <th>0</th>\n",
       "      <td>63</td>\n",
       "      <td>1</td>\n",
       "      <td>4</td>\n",
       "      <td>140</td>\n",
       "      <td>260</td>\n",
       "      <td>0</td>\n",
       "      <td>1</td>\n",
       "      <td>112</td>\n",
       "      <td>1</td>\n",
       "      <td>3</td>\n",
       "      <td>2</td>\n",
       "      <td>2</td>\n",
       "    </tr>\n",
       "    <tr>\n",
       "      <th>1</th>\n",
       "      <td>44</td>\n",
       "      <td>1</td>\n",
       "      <td>4</td>\n",
       "      <td>130</td>\n",
       "      <td>209</td>\n",
       "      <td>0</td>\n",
       "      <td>1</td>\n",
       "      <td>127</td>\n",
       "      <td>0</td>\n",
       "      <td>0</td>\n",
       "      <td>NaN</td>\n",
       "      <td>0</td>\n",
       "    </tr>\n",
       "    <tr>\n",
       "      <th>2</th>\n",
       "      <td>60</td>\n",
       "      <td>1</td>\n",
       "      <td>4</td>\n",
       "      <td>132</td>\n",
       "      <td>218</td>\n",
       "      <td>0</td>\n",
       "      <td>1</td>\n",
       "      <td>140</td>\n",
       "      <td>1</td>\n",
       "      <td>1.5</td>\n",
       "      <td>3</td>\n",
       "      <td>2</td>\n",
       "    </tr>\n",
       "    <tr>\n",
       "      <th>3</th>\n",
       "      <td>55</td>\n",
       "      <td>1</td>\n",
       "      <td>4</td>\n",
       "      <td>142</td>\n",
       "      <td>228</td>\n",
       "      <td>0</td>\n",
       "      <td>1</td>\n",
       "      <td>149</td>\n",
       "      <td>1</td>\n",
       "      <td>2.5</td>\n",
       "      <td>1</td>\n",
       "      <td>1</td>\n",
       "    </tr>\n",
       "    <tr>\n",
       "      <th>4</th>\n",
       "      <td>66</td>\n",
       "      <td>1</td>\n",
       "      <td>3</td>\n",
       "      <td>110</td>\n",
       "      <td>213</td>\n",
       "      <td>1</td>\n",
       "      <td>2</td>\n",
       "      <td>99</td>\n",
       "      <td>1</td>\n",
       "      <td>1.3</td>\n",
       "      <td>2</td>\n",
       "      <td>0</td>\n",
       "    </tr>\n",
       "    <tr>\n",
       "      <th>...</th>\n",
       "      <td>...</td>\n",
       "      <td>...</td>\n",
       "      <td>...</td>\n",
       "      <td>...</td>\n",
       "      <td>...</td>\n",
       "      <td>...</td>\n",
       "      <td>...</td>\n",
       "      <td>...</td>\n",
       "      <td>...</td>\n",
       "      <td>...</td>\n",
       "      <td>...</td>\n",
       "      <td>...</td>\n",
       "    </tr>\n",
       "    <tr>\n",
       "      <th>195</th>\n",
       "      <td>54</td>\n",
       "      <td>0</td>\n",
       "      <td>4</td>\n",
       "      <td>127</td>\n",
       "      <td>333</td>\n",
       "      <td>1</td>\n",
       "      <td>1</td>\n",
       "      <td>154</td>\n",
       "      <td>0</td>\n",
       "      <td>0</td>\n",
       "      <td>NaN</td>\n",
       "      <td>1</td>\n",
       "    </tr>\n",
       "    <tr>\n",
       "      <th>196</th>\n",
       "      <td>62</td>\n",
       "      <td>1</td>\n",
       "      <td>1</td>\n",
       "      <td>NaN</td>\n",
       "      <td>139</td>\n",
       "      <td>0</td>\n",
       "      <td>1</td>\n",
       "      <td>NaN</td>\n",
       "      <td>NaN</td>\n",
       "      <td>NaN</td>\n",
       "      <td>NaN</td>\n",
       "      <td>0</td>\n",
       "    </tr>\n",
       "    <tr>\n",
       "      <th>197</th>\n",
       "      <td>55</td>\n",
       "      <td>1</td>\n",
       "      <td>4</td>\n",
       "      <td>122</td>\n",
       "      <td>223</td>\n",
       "      <td>1</td>\n",
       "      <td>1</td>\n",
       "      <td>100</td>\n",
       "      <td>0</td>\n",
       "      <td>0</td>\n",
       "      <td>NaN</td>\n",
       "      <td>2</td>\n",
       "    </tr>\n",
       "    <tr>\n",
       "      <th>198</th>\n",
       "      <td>58</td>\n",
       "      <td>1</td>\n",
       "      <td>4</td>\n",
       "      <td>NaN</td>\n",
       "      <td>385</td>\n",
       "      <td>1</td>\n",
       "      <td>2</td>\n",
       "      <td>NaN</td>\n",
       "      <td>NaN</td>\n",
       "      <td>NaN</td>\n",
       "      <td>NaN</td>\n",
       "      <td>0</td>\n",
       "    </tr>\n",
       "    <tr>\n",
       "      <th>199</th>\n",
       "      <td>62</td>\n",
       "      <td>1</td>\n",
       "      <td>2</td>\n",
       "      <td>120</td>\n",
       "      <td>254</td>\n",
       "      <td>0</td>\n",
       "      <td>2</td>\n",
       "      <td>93</td>\n",
       "      <td>1</td>\n",
       "      <td>0</td>\n",
       "      <td>NaN</td>\n",
       "      <td>1</td>\n",
       "    </tr>\n",
       "  </tbody>\n",
       "</table>\n",
       "<p>200 rows × 12 columns</p>\n",
       "</div>"
      ],
      "text/plain": [
       "     Age  Sex  Cp trestbps chol fbs  restecg thalach exang oldpeak slope  num\n",
       "0     63    1   4      140  260   0        1     112     1       3     2    2\n",
       "1     44    1   4      130  209   0        1     127     0       0   NaN    0\n",
       "2     60    1   4      132  218   0        1     140     1     1.5     3    2\n",
       "3     55    1   4      142  228   0        1     149     1     2.5     1    1\n",
       "4     66    1   3      110  213   1        2      99     1     1.3     2    0\n",
       "..   ...  ...  ..      ...  ...  ..      ...     ...   ...     ...   ...  ...\n",
       "195   54    0   4      127  333   1        1     154     0       0   NaN    1\n",
       "196   62    1   1      NaN  139   0        1     NaN   NaN     NaN   NaN    0\n",
       "197   55    1   4      122  223   1        1     100     0       0   NaN    2\n",
       "198   58    1   4      NaN  385   1        2     NaN   NaN     NaN   NaN    0\n",
       "199   62    1   2      120  254   0        2      93     1       0   NaN    1\n",
       "\n",
       "[200 rows x 12 columns]"
      ]
     },
     "execution_count": 93,
     "metadata": {},
     "output_type": "execute_result"
    }
   ],
   "source": [
    "#As thal and ca has maximum null values , we can drop the columns directly\n",
    "\n",
    "df.drop([\"thal\",\"ca\"],inplace=True,axis=1)\n",
    "df"
   ]
  },
  {
   "cell_type": "code",
   "execution_count": 94,
   "metadata": {},
   "outputs": [],
   "source": [
    "#Renaming a num column to target\n",
    "df=df.rename(columns={\"num\": \"target\"})"
   ]
  },
  {
   "cell_type": "code",
   "execution_count": 95,
   "metadata": {},
   "outputs": [
    {
     "data": {
      "text/plain": [
       "array([1, 0], dtype=int64)"
      ]
     },
     "execution_count": 95,
     "metadata": {},
     "output_type": "execute_result"
    }
   ],
   "source": [
    "#To have a better analysis creating a new variable Target where num(0)=0 for no heart disease and num(1,2,3,4)=1 for heart disease\n",
    " \n",
    "df['target'].replace([2,3,4], 1,inplace=True)\n",
    "df['target'].unique()"
   ]
  },
  {
   "cell_type": "code",
   "execution_count": 96,
   "metadata": {},
   "outputs": [],
   "source": [
    "#Converting datatypes to float format for easy EDA analysis\n",
    "df=df.astype(dtype=float)"
   ]
  },
  {
   "cell_type": "code",
   "execution_count": 97,
   "metadata": {},
   "outputs": [
    {
     "data": {
      "text/plain": [
       "Age           0\n",
       "Sex           0\n",
       "Cp            0\n",
       "trestbps      0\n",
       "chol          0\n",
       "fbs           7\n",
       "restecg       0\n",
       "thalach       0\n",
       "exang        53\n",
       "oldpeak       0\n",
       "slope       102\n",
       "target        0\n",
       "dtype: int64"
      ]
     },
     "execution_count": 97,
     "metadata": {},
     "output_type": "execute_result"
    }
   ],
   "source": [
    "#Imputing columns and replacing with mean values\n",
    "col_imp=[\"trestbps\",\"chol\",'thalach',\"oldpeak\"]\n",
    "\n",
    "for i in col_imp:\n",
    "    df[i].fillna(df[i].mean(), inplace = True)\n",
    "    \n",
    "df.isnull().sum()"
   ]
  },
  {
   "cell_type": "markdown",
   "metadata": {},
   "source": [
    "Observation:\n",
    "    \n",
    "    1.After imputing,except fbs,exang and slope has left with missing values rest all have no missing values."
   ]
  },
  {
   "cell_type": "code",
   "execution_count": 98,
   "metadata": {},
   "outputs": [],
   "source": [
    "#As only 7 values are missing in fbs , we will replace it with most common value\n",
    "\n",
    "df[\"fbs\"].fillna(df[\"fbs\"].median(), inplace = True)"
   ]
  },
  {
   "cell_type": "code",
   "execution_count": 99,
   "metadata": {},
   "outputs": [
    {
     "name": "stdout",
     "output_type": "stream",
     "text": [
      "Unique values in  exang  :  [ 1.  0. nan]\n",
      "exang\n",
      "0.0    0.5\n",
      "1.0    1.5\n",
      "Name: oldpeak, dtype: float64\n",
      "Unique values in  slope  :  [ 2. nan  3.  1.]\n",
      "slope\n",
      "1.0    1.5\n",
      "2.0    1.5\n",
      "3.0    2.0\n",
      "Name: oldpeak, dtype: float64\n"
     ]
    }
   ],
   "source": [
    "#data for exang and slopes depend on oldpeak, so we will first understand the data\n",
    "for col in [\"exang\",\"slope\"]:\n",
    "    print(\"Unique values in \",col, \" : \", df[col].unique())\n",
    "    print(df.groupby(col)[\"oldpeak\"].median())"
   ]
  },
  {
   "cell_type": "code",
   "execution_count": 100,
   "metadata": {},
   "outputs": [],
   "source": [
    "#for exang we grouped and replaced values as per oldpeak median values.\n",
    "for i in range(0,len(df[\"exang\"])):\n",
    "    if df[\"exang\"][i]!=float:\n",
    "        if df[\"oldpeak\"][i] < 1:\n",
    "            df[\"exang\"][i] =0\n",
    "        else:\n",
    "            df[\"exang\"][i] =1\n"
   ]
  },
  {
   "cell_type": "code",
   "execution_count": 101,
   "metadata": {},
   "outputs": [],
   "source": [
    "#for slope we grouped and replaced values as per oldpeak median values.\n",
    "for i in range(0,len(df[\"slope\"])):\n",
    "    if df[\"slope\"][i]!=float:\n",
    "        if df[\"oldpeak\"][i] < 1.5:\n",
    "            df[\"slope\"][i] =1\n",
    "        else:\n",
    "            if df[\"oldpeak\"][i] < 2 :\n",
    "                df[\"slope\"][i] = 2\n",
    "            else :\n",
    "                df[\"slope\"][i] = 3"
   ]
  },
  {
   "cell_type": "code",
   "execution_count": 102,
   "metadata": {},
   "outputs": [
    {
     "data": {
      "text/plain": [
       "Age         0\n",
       "Sex         0\n",
       "Cp          0\n",
       "trestbps    0\n",
       "chol        0\n",
       "fbs         0\n",
       "restecg     0\n",
       "thalach     0\n",
       "exang       0\n",
       "oldpeak     0\n",
       "slope       0\n",
       "target      0\n",
       "dtype: int64"
      ]
     },
     "execution_count": 102,
     "metadata": {},
     "output_type": "execute_result"
    }
   ],
   "source": [
    "#Again checking null values\n",
    "df.isnull().sum()"
   ]
  },
  {
   "cell_type": "code",
   "execution_count": 103,
   "metadata": {},
   "outputs": [
    {
     "data": {
      "image/png": "[encoded data removed]",
      "text/plain": [
       "<Figure size 576x432 with 2 Axes>"
      ]
     },
     "metadata": {
      "needs_background": "light"
     },
     "output_type": "display_data"
    }
   ],
   "source": [
    "#Seeing the null values with the help of heatmap\n",
    "plt.figure(figsize=(8,6))\n",
    "sns.heatmap(df.isnull(),annot=True)\n",
    "plt.rc('xtick', labelsize=10) \n",
    "plt.rc('ytick', labelsize=10) \n",
    "plt.show()"
   ]
  },
  {
   "cell_type": "markdown",
   "metadata": {},
   "source": [
    "Observation:\n",
    "\n",
    "1. From this visualisation we can clearly see that there is no missing values present in our dataset."
   ]
  },
  {
   "cell_type": "code",
   "execution_count": 104,
   "metadata": {},
   "outputs": [
    {
     "data": {
      "text/plain": [
       "<matplotlib.axes._subplots.AxesSubplot at 0x25501104160>"
      ]
     },
     "execution_count": 104,
     "metadata": {},
     "output_type": "execute_result"
    },
    {
     "data": {
      "image/png": "[encoded data removed]",
      "text/plain": [
       "<Figure size 1080x576 with 2 Axes>"
      ]
     },
     "metadata": {
      "needs_background": "light"
     },
     "output_type": "display_data"
    }
   ],
   "source": [
    "#Checking Correlation using heatmap\n",
    "plt.figure(figsize=(15,8))\n",
    "sns.heatmap(df.corr(),annot=True,cmap=\"coolwarm\",vmax=0.3)\n"
   ]
  },
  {
   "cell_type": "markdown",
   "metadata": {},
   "source": [
    "Here we can see the correlation between Age , cp, exang ,oldpeak , slope columns are highly positively correlated with target."
   ]
  },
  {
   "cell_type": "markdown",
   "metadata": {},
   "source": [
    "# Data Visualisation"
   ]
  },
  {
   "cell_type": "code",
   "execution_count": 105,
   "metadata": {},
   "outputs": [
    {
     "data": {
      "image/png": "[encoded data removed]",
      "text/plain": [
       "<Figure size 720x504 with 1 Axes>"
      ]
     },
     "metadata": {
      "needs_background": "light"
     },
     "output_type": "display_data"
    },
    {
     "data": {
      "image/png": "[encoded data removed]",
      "text/plain": [
       "<Figure size 720x504 with 1 Axes>"
      ]
     },
     "metadata": {
      "needs_background": "light"
     },
     "output_type": "display_data"
    },
    {
     "data": {
      "image/png": "[encoded data removed]",
      "text/plain": [
       "<Figure size 720x504 with 1 Axes>"
      ]
     },
     "metadata": {
      "needs_background": "light"
     },
     "output_type": "display_data"
    }
   ],
   "source": [
    "graphs = [\"Age\", \"Cp\",'oldpeak' ]\n",
    "for x in graphs:\n",
    "    plt.figure(figsize=(10,7))\n",
    "    sns.barplot(x=df[x],y=df['target'])\n",
    "    plt.xticks(rotation=90)\n",
    "    plt.ylabel('target')\n",
    "    plt.xlabel(x)\n",
    "    plt.title(x+' v/s heart disease(target)')\n",
    "    plt.show()\n",
    "#after 50 age heart disease(target) increase."
   ]
  },
  {
   "cell_type": "code",
   "execution_count": 106,
   "metadata": {},
   "outputs": [
    {
     "data": {
      "image/png": "[encoded data removed]",
      "text/plain": [
       "<Figure size 720x360 with 1 Axes>"
      ]
     },
     "metadata": {
      "needs_background": "light"
     },
     "output_type": "display_data"
    }
   ],
   "source": [
    "plt.figure(figsize=[10,5])\n",
    "plt.xticks(rotation=90)\n",
    "sns.countplot(x='Age',hue='target',data=df)\n",
    "plt.show()\n"
   ]
  },
  {
   "cell_type": "markdown",
   "metadata": {},
   "source": [
    "Observation:\n",
    "    1. At the age from 55 years to 64 years there are much chances of having heart disease."
   ]
  },
  {
   "cell_type": "code",
   "execution_count": 107,
   "metadata": {},
   "outputs": [
    {
     "data": {
      "text/plain": [
       "<matplotlib.axes._subplots.AxesSubplot at 0x2550489aac0>"
      ]
     },
     "execution_count": 107,
     "metadata": {},
     "output_type": "execute_result"
    },
    {
     "data": {
      "image/png": "[encoded data removed]",
      "text/plain": [
       "<Figure size 432x288 with 1 Axes>"
      ]
     },
     "metadata": {
      "needs_background": "light"
     },
     "output_type": "display_data"
    }
   ],
   "source": [
    "sns.barplot(x=\"Sex\",y='Age',hue='target',data=df,palette='plasma')"
   ]
  },
  {
   "cell_type": "code",
   "execution_count": 108,
   "metadata": {},
   "outputs": [
    {
     "data": {
      "text/plain": [
       "array([[<matplotlib.axes._subplots.AxesSubplot object at 0x0000025504151370>,\n",
       "        <matplotlib.axes._subplots.AxesSubplot object at 0x00000255010BE910>,\n",
       "        <matplotlib.axes._subplots.AxesSubplot object at 0x00000255010F62E0>,\n",
       "        <matplotlib.axes._subplots.AxesSubplot object at 0x0000025500EA3D00>],\n",
       "       [<matplotlib.axes._subplots.AxesSubplot object at 0x00000255010385E0>,\n",
       "        <matplotlib.axes._subplots.AxesSubplot object at 0x000002550281A2E0>,\n",
       "        <matplotlib.axes._subplots.AxesSubplot object at 0x000002550281A3A0>,\n",
       "        <matplotlib.axes._subplots.AxesSubplot object at 0x0000025502545D90>],\n",
       "       [<matplotlib.axes._subplots.AxesSubplot object at 0x00000255028DBAC0>,\n",
       "        <matplotlib.axes._subplots.AxesSubplot object at 0x00000255028AA670>,\n",
       "        <matplotlib.axes._subplots.AxesSubplot object at 0x0000025500FA1310>,\n",
       "        <matplotlib.axes._subplots.AxesSubplot object at 0x0000025500AD1FD0>],\n",
       "       [<matplotlib.axes._subplots.AxesSubplot object at 0x000002557EDD4C70>,\n",
       "        <matplotlib.axes._subplots.AxesSubplot object at 0x0000025502B0ECD0>,\n",
       "        <matplotlib.axes._subplots.AxesSubplot object at 0x0000025503F41400>,\n",
       "        <matplotlib.axes._subplots.AxesSubplot object at 0x0000025500FC6340>]],\n",
       "      dtype=object)"
      ]
     },
     "execution_count": 108,
     "metadata": {},
     "output_type": "execute_result"
    },
    {
     "data": {
      "image/png": "[encoded data removed]",
      "text/plain": [
       "<Figure size 1080x1080 with 16 Axes>"
      ]
     },
     "metadata": {
      "needs_background": "light"
     },
     "output_type": "display_data"
    }
   ],
   "source": [
    "#Now plotting histogram for univariate analysis\n",
    "df.hist(figsize=(15,15), layout=(4,4))"
   ]
  },
  {
   "cell_type": "markdown",
   "metadata": {},
   "source": [
    "Observation:\n",
    "    1. All the continous series data are normally distributed."
   ]
  },
  {
   "cell_type": "markdown",
   "metadata": {},
   "source": [
    "# Statistical Summary"
   ]
  },
  {
   "cell_type": "code",
   "execution_count": 109,
   "metadata": {},
   "outputs": [
    {
     "data": {
      "text/html": [
       "<div>\n",
       "<style scoped>\n",
       "    .dataframe tbody tr th:only-of-type {\n",
       "        vertical-align: middle;\n",
       "    }\n",
       "\n",
       "    .dataframe tbody tr th {\n",
       "        vertical-align: top;\n",
       "    }\n",
       "\n",
       "    .dataframe thead th {\n",
       "        text-align: right;\n",
       "    }\n",
       "</style>\n",
       "<table border=\"1\" class=\"dataframe\">\n",
       "  <thead>\n",
       "    <tr style=\"text-align: right;\">\n",
       "      <th></th>\n",
       "      <th>Age</th>\n",
       "      <th>Sex</th>\n",
       "      <th>Cp</th>\n",
       "      <th>trestbps</th>\n",
       "      <th>chol</th>\n",
       "      <th>fbs</th>\n",
       "      <th>restecg</th>\n",
       "      <th>thalach</th>\n",
       "      <th>exang</th>\n",
       "      <th>oldpeak</th>\n",
       "      <th>slope</th>\n",
       "      <th>target</th>\n",
       "    </tr>\n",
       "  </thead>\n",
       "  <tbody>\n",
       "    <tr>\n",
       "      <th>count</th>\n",
       "      <td>200.000000</td>\n",
       "      <td>200.000000</td>\n",
       "      <td>200.000000</td>\n",
       "      <td>200.000000</td>\n",
       "      <td>200.000000</td>\n",
       "      <td>200.000000</td>\n",
       "      <td>200.000000</td>\n",
       "      <td>200.000000</td>\n",
       "      <td>200.000000</td>\n",
       "      <td>200.000000</td>\n",
       "      <td>200.000000</td>\n",
       "      <td>200.000000</td>\n",
       "    </tr>\n",
       "    <tr>\n",
       "      <th>mean</th>\n",
       "      <td>59.350000</td>\n",
       "      <td>0.970000</td>\n",
       "      <td>3.505000</td>\n",
       "      <td>133.763889</td>\n",
       "      <td>178.746114</td>\n",
       "      <td>0.340000</td>\n",
       "      <td>0.735000</td>\n",
       "      <td>122.795918</td>\n",
       "      <td>0.755000</td>\n",
       "      <td>1.320833</td>\n",
       "      <td>1.635000</td>\n",
       "      <td>0.745000</td>\n",
       "    </tr>\n",
       "    <tr>\n",
       "      <th>std</th>\n",
       "      <td>7.811697</td>\n",
       "      <td>0.171015</td>\n",
       "      <td>0.795701</td>\n",
       "      <td>18.257507</td>\n",
       "      <td>112.011633</td>\n",
       "      <td>0.474898</td>\n",
       "      <td>0.683455</td>\n",
       "      <td>18.835692</td>\n",
       "      <td>0.431166</td>\n",
       "      <td>0.937755</td>\n",
       "      <td>0.869225</td>\n",
       "      <td>0.436955</td>\n",
       "    </tr>\n",
       "    <tr>\n",
       "      <th>min</th>\n",
       "      <td>35.000000</td>\n",
       "      <td>0.000000</td>\n",
       "      <td>1.000000</td>\n",
       "      <td>0.000000</td>\n",
       "      <td>0.000000</td>\n",
       "      <td>0.000000</td>\n",
       "      <td>0.000000</td>\n",
       "      <td>69.000000</td>\n",
       "      <td>0.000000</td>\n",
       "      <td>-0.500000</td>\n",
       "      <td>1.000000</td>\n",
       "      <td>0.000000</td>\n",
       "    </tr>\n",
       "    <tr>\n",
       "      <th>25%</th>\n",
       "      <td>55.000000</td>\n",
       "      <td>1.000000</td>\n",
       "      <td>3.000000</td>\n",
       "      <td>125.750000</td>\n",
       "      <td>129.250000</td>\n",
       "      <td>0.000000</td>\n",
       "      <td>0.000000</td>\n",
       "      <td>112.000000</td>\n",
       "      <td>1.000000</td>\n",
       "      <td>1.000000</td>\n",
       "      <td>1.000000</td>\n",
       "      <td>0.000000</td>\n",
       "    </tr>\n",
       "    <tr>\n",
       "      <th>50%</th>\n",
       "      <td>60.000000</td>\n",
       "      <td>1.000000</td>\n",
       "      <td>4.000000</td>\n",
       "      <td>133.763889</td>\n",
       "      <td>214.000000</td>\n",
       "      <td>0.000000</td>\n",
       "      <td>1.000000</td>\n",
       "      <td>122.795918</td>\n",
       "      <td>1.000000</td>\n",
       "      <td>1.320833</td>\n",
       "      <td>1.000000</td>\n",
       "      <td>1.000000</td>\n",
       "    </tr>\n",
       "    <tr>\n",
       "      <th>75%</th>\n",
       "      <td>64.000000</td>\n",
       "      <td>1.000000</td>\n",
       "      <td>4.000000</td>\n",
       "      <td>140.000000</td>\n",
       "      <td>254.500000</td>\n",
       "      <td>1.000000</td>\n",
       "      <td>1.000000</td>\n",
       "      <td>130.000000</td>\n",
       "      <td>1.000000</td>\n",
       "      <td>2.000000</td>\n",
       "      <td>3.000000</td>\n",
       "      <td>1.000000</td>\n",
       "    </tr>\n",
       "    <tr>\n",
       "      <th>max</th>\n",
       "      <td>77.000000</td>\n",
       "      <td>1.000000</td>\n",
       "      <td>4.000000</td>\n",
       "      <td>190.000000</td>\n",
       "      <td>458.000000</td>\n",
       "      <td>1.000000</td>\n",
       "      <td>2.000000</td>\n",
       "      <td>180.000000</td>\n",
       "      <td>1.000000</td>\n",
       "      <td>4.000000</td>\n",
       "      <td>3.000000</td>\n",
       "      <td>1.000000</td>\n",
       "    </tr>\n",
       "  </tbody>\n",
       "</table>\n",
       "</div>"
      ],
      "text/plain": [
       "              Age         Sex          Cp    trestbps        chol         fbs  \\\n",
       "count  200.000000  200.000000  200.000000  200.000000  200.000000  200.000000   \n",
       "mean    59.350000    0.970000    3.505000  133.763889  178.746114    0.340000   \n",
       "std      7.811697    0.171015    0.795701   18.257507  112.011633    0.474898   \n",
       "min     35.000000    0.000000    1.000000    0.000000    0.000000    0.000000   \n",
       "25%     55.000000    1.000000    3.000000  125.750000  129.250000    0.000000   \n",
       "50%     60.000000    1.000000    4.000000  133.763889  214.000000    0.000000   \n",
       "75%     64.000000    1.000000    4.000000  140.000000  254.500000    1.000000   \n",
       "max     77.000000    1.000000    4.000000  190.000000  458.000000    1.000000   \n",
       "\n",
       "          restecg     thalach       exang     oldpeak       slope      target  \n",
       "count  200.000000  200.000000  200.000000  200.000000  200.000000  200.000000  \n",
       "mean     0.735000  122.795918    0.755000    1.320833    1.635000    0.745000  \n",
       "std      0.683455   18.835692    0.431166    0.937755    0.869225    0.436955  \n",
       "min      0.000000   69.000000    0.000000   -0.500000    1.000000    0.000000  \n",
       "25%      0.000000  112.000000    1.000000    1.000000    1.000000    0.000000  \n",
       "50%      1.000000  122.795918    1.000000    1.320833    1.000000    1.000000  \n",
       "75%      1.000000  130.000000    1.000000    2.000000    3.000000    1.000000  \n",
       "max      2.000000  180.000000    1.000000    4.000000    3.000000    1.000000  "
      ]
     },
     "execution_count": 109,
     "metadata": {},
     "output_type": "execute_result"
    }
   ],
   "source": [
    "#Checking the information of the dataset \n",
    "df.describe()"
   ]
  },
  {
   "cell_type": "code",
   "execution_count": 110,
   "metadata": {},
   "outputs": [
    {
     "data": {
      "image/png": "[encoded data removed]",
      "text/plain": [
       "<Figure size 1440x1440 with 25 Axes>"
      ]
     },
     "metadata": {
      "needs_background": "light"
     },
     "output_type": "display_data"
    }
   ],
   "source": [
    "#box and whiskers plot for outliers\n",
    "df.plot(kind='box',subplots=True,layout=(5,5),figsize=(20,20))\n",
    "plt.show()"
   ]
  },
  {
   "cell_type": "markdown",
   "metadata": {},
   "source": [
    "Observation:\n",
    "    1. Here we see that in Age,Cp,trestbps and thalach plots are having outliers. "
   ]
  },
  {
   "cell_type": "markdown",
   "metadata": {},
   "source": [
    "# Removing Outliers"
   ]
  },
  {
   "cell_type": "code",
   "execution_count": 111,
   "metadata": {},
   "outputs": [
    {
     "data": {
      "text/plain": [
       "array([[4.68420533e-01, 1.75863115e-01, 6.23653755e-01, ...,\n",
       "        1.79511750e+00, 1.57430441e+00, 5.85048613e-01],\n",
       "       [1.96993293e+00, 1.75863115e-01, 6.23653755e-01, ...,\n",
       "        1.41204031e+00, 7.32368718e-01, 1.70925967e+00],\n",
       "       [8.34173552e-02, 1.75863115e-01, 6.23653755e-01, ...,\n",
       "        1.91538592e-01, 4.20967846e-01, 5.85048613e-01],\n",
       "       ...,\n",
       "       [5.58254608e-01, 1.75863115e-01, 6.23653755e-01, ...,\n",
       "        1.41204031e+00, 7.32368718e-01, 5.85048613e-01],\n",
       "       [1.73251430e-01, 1.75863115e-01, 6.23653755e-01, ...,\n",
       "        2.37377363e-16, 7.32368718e-01, 1.70925967e+00],\n",
       "       [3.40086140e-01, 1.75863115e-01, 1.89615940e+00, ...,\n",
       "        1.41204031e+00, 7.32368718e-01, 5.85048613e-01]])"
      ]
     },
     "execution_count": 111,
     "metadata": {},
     "output_type": "execute_result"
    }
   ],
   "source": [
    "#as there are lot of outliers in the data we will use z score analysis\n",
    "from scipy.stats import zscore\n",
    "z = np.abs(zscore(df))\n",
    "z"
   ]
  },
  {
   "cell_type": "code",
   "execution_count": 112,
   "metadata": {},
   "outputs": [
    {
     "name": "stdout",
     "output_type": "stream",
     "text": [
      "(array([  0,   0,   0, ..., 199, 199, 199], dtype=int64), array([ 0,  1,  2, ...,  9, 10, 11], dtype=int64))\n",
      "(200, 12)\n"
     ]
    }
   ],
   "source": [
    "threshold = 3\n",
    "print(np.where(z<3))\n",
    "print(df.shape)"
   ]
  },
  {
   "cell_type": "code",
   "execution_count": 113,
   "metadata": {},
   "outputs": [
    {
     "data": {
      "text/html": [
       "<div>\n",
       "<style scoped>\n",
       "    .dataframe tbody tr th:only-of-type {\n",
       "        vertical-align: middle;\n",
       "    }\n",
       "\n",
       "    .dataframe tbody tr th {\n",
       "        vertical-align: top;\n",
       "    }\n",
       "\n",
       "    .dataframe thead th {\n",
       "        text-align: right;\n",
       "    }\n",
       "</style>\n",
       "<table border=\"1\" class=\"dataframe\">\n",
       "  <thead>\n",
       "    <tr style=\"text-align: right;\">\n",
       "      <th></th>\n",
       "      <th>Age</th>\n",
       "      <th>Sex</th>\n",
       "      <th>Cp</th>\n",
       "      <th>trestbps</th>\n",
       "      <th>chol</th>\n",
       "      <th>fbs</th>\n",
       "      <th>restecg</th>\n",
       "      <th>thalach</th>\n",
       "      <th>exang</th>\n",
       "      <th>oldpeak</th>\n",
       "      <th>slope</th>\n",
       "      <th>target</th>\n",
       "    </tr>\n",
       "  </thead>\n",
       "  <tbody>\n",
       "    <tr>\n",
       "      <th>0</th>\n",
       "      <td>63.0</td>\n",
       "      <td>1.0</td>\n",
       "      <td>4.0</td>\n",
       "      <td>140.000000</td>\n",
       "      <td>260.0</td>\n",
       "      <td>0.0</td>\n",
       "      <td>1.0</td>\n",
       "      <td>112.000000</td>\n",
       "      <td>1.0</td>\n",
       "      <td>3.000000</td>\n",
       "      <td>3.0</td>\n",
       "      <td>1.0</td>\n",
       "    </tr>\n",
       "    <tr>\n",
       "      <th>1</th>\n",
       "      <td>44.0</td>\n",
       "      <td>1.0</td>\n",
       "      <td>4.0</td>\n",
       "      <td>130.000000</td>\n",
       "      <td>209.0</td>\n",
       "      <td>0.0</td>\n",
       "      <td>1.0</td>\n",
       "      <td>127.000000</td>\n",
       "      <td>0.0</td>\n",
       "      <td>0.000000</td>\n",
       "      <td>1.0</td>\n",
       "      <td>0.0</td>\n",
       "    </tr>\n",
       "    <tr>\n",
       "      <th>2</th>\n",
       "      <td>60.0</td>\n",
       "      <td>1.0</td>\n",
       "      <td>4.0</td>\n",
       "      <td>132.000000</td>\n",
       "      <td>218.0</td>\n",
       "      <td>0.0</td>\n",
       "      <td>1.0</td>\n",
       "      <td>140.000000</td>\n",
       "      <td>1.0</td>\n",
       "      <td>1.500000</td>\n",
       "      <td>2.0</td>\n",
       "      <td>1.0</td>\n",
       "    </tr>\n",
       "    <tr>\n",
       "      <th>3</th>\n",
       "      <td>55.0</td>\n",
       "      <td>1.0</td>\n",
       "      <td>4.0</td>\n",
       "      <td>142.000000</td>\n",
       "      <td>228.0</td>\n",
       "      <td>0.0</td>\n",
       "      <td>1.0</td>\n",
       "      <td>149.000000</td>\n",
       "      <td>1.0</td>\n",
       "      <td>2.500000</td>\n",
       "      <td>3.0</td>\n",
       "      <td>1.0</td>\n",
       "    </tr>\n",
       "    <tr>\n",
       "      <th>4</th>\n",
       "      <td>66.0</td>\n",
       "      <td>1.0</td>\n",
       "      <td>3.0</td>\n",
       "      <td>110.000000</td>\n",
       "      <td>213.0</td>\n",
       "      <td>1.0</td>\n",
       "      <td>2.0</td>\n",
       "      <td>99.000000</td>\n",
       "      <td>1.0</td>\n",
       "      <td>1.300000</td>\n",
       "      <td>1.0</td>\n",
       "      <td>0.0</td>\n",
       "    </tr>\n",
       "    <tr>\n",
       "      <th>...</th>\n",
       "      <td>...</td>\n",
       "      <td>...</td>\n",
       "      <td>...</td>\n",
       "      <td>...</td>\n",
       "      <td>...</td>\n",
       "      <td>...</td>\n",
       "      <td>...</td>\n",
       "      <td>...</td>\n",
       "      <td>...</td>\n",
       "      <td>...</td>\n",
       "      <td>...</td>\n",
       "      <td>...</td>\n",
       "    </tr>\n",
       "    <tr>\n",
       "      <th>193</th>\n",
       "      <td>62.0</td>\n",
       "      <td>1.0</td>\n",
       "      <td>4.0</td>\n",
       "      <td>158.000000</td>\n",
       "      <td>170.0</td>\n",
       "      <td>0.0</td>\n",
       "      <td>1.0</td>\n",
       "      <td>138.000000</td>\n",
       "      <td>0.0</td>\n",
       "      <td>0.000000</td>\n",
       "      <td>1.0</td>\n",
       "      <td>1.0</td>\n",
       "    </tr>\n",
       "    <tr>\n",
       "      <th>194</th>\n",
       "      <td>46.0</td>\n",
       "      <td>1.0</td>\n",
       "      <td>4.0</td>\n",
       "      <td>134.000000</td>\n",
       "      <td>310.0</td>\n",
       "      <td>0.0</td>\n",
       "      <td>0.0</td>\n",
       "      <td>126.000000</td>\n",
       "      <td>0.0</td>\n",
       "      <td>0.000000</td>\n",
       "      <td>1.0</td>\n",
       "      <td>1.0</td>\n",
       "    </tr>\n",
       "    <tr>\n",
       "      <th>197</th>\n",
       "      <td>55.0</td>\n",
       "      <td>1.0</td>\n",
       "      <td>4.0</td>\n",
       "      <td>122.000000</td>\n",
       "      <td>223.0</td>\n",
       "      <td>1.0</td>\n",
       "      <td>1.0</td>\n",
       "      <td>100.000000</td>\n",
       "      <td>0.0</td>\n",
       "      <td>0.000000</td>\n",
       "      <td>1.0</td>\n",
       "      <td>1.0</td>\n",
       "    </tr>\n",
       "    <tr>\n",
       "      <th>198</th>\n",
       "      <td>58.0</td>\n",
       "      <td>1.0</td>\n",
       "      <td>4.0</td>\n",
       "      <td>133.763889</td>\n",
       "      <td>385.0</td>\n",
       "      <td>1.0</td>\n",
       "      <td>2.0</td>\n",
       "      <td>122.795918</td>\n",
       "      <td>1.0</td>\n",
       "      <td>1.320833</td>\n",
       "      <td>1.0</td>\n",
       "      <td>0.0</td>\n",
       "    </tr>\n",
       "    <tr>\n",
       "      <th>199</th>\n",
       "      <td>62.0</td>\n",
       "      <td>1.0</td>\n",
       "      <td>2.0</td>\n",
       "      <td>120.000000</td>\n",
       "      <td>254.0</td>\n",
       "      <td>0.0</td>\n",
       "      <td>2.0</td>\n",
       "      <td>93.000000</td>\n",
       "      <td>0.0</td>\n",
       "      <td>0.000000</td>\n",
       "      <td>1.0</td>\n",
       "      <td>1.0</td>\n",
       "    </tr>\n",
       "  </tbody>\n",
       "</table>\n",
       "<p>181 rows × 12 columns</p>\n",
       "</div>"
      ],
      "text/plain": [
       "      Age  Sex   Cp    trestbps   chol  fbs  restecg     thalach  exang  \\\n",
       "0    63.0  1.0  4.0  140.000000  260.0  0.0      1.0  112.000000    1.0   \n",
       "1    44.0  1.0  4.0  130.000000  209.0  0.0      1.0  127.000000    0.0   \n",
       "2    60.0  1.0  4.0  132.000000  218.0  0.0      1.0  140.000000    1.0   \n",
       "3    55.0  1.0  4.0  142.000000  228.0  0.0      1.0  149.000000    1.0   \n",
       "4    66.0  1.0  3.0  110.000000  213.0  1.0      2.0   99.000000    1.0   \n",
       "..    ...  ...  ...         ...    ...  ...      ...         ...    ...   \n",
       "193  62.0  1.0  4.0  158.000000  170.0  0.0      1.0  138.000000    0.0   \n",
       "194  46.0  1.0  4.0  134.000000  310.0  0.0      0.0  126.000000    0.0   \n",
       "197  55.0  1.0  4.0  122.000000  223.0  1.0      1.0  100.000000    0.0   \n",
       "198  58.0  1.0  4.0  133.763889  385.0  1.0      2.0  122.795918    1.0   \n",
       "199  62.0  1.0  2.0  120.000000  254.0  0.0      2.0   93.000000    0.0   \n",
       "\n",
       "      oldpeak  slope  target  \n",
       "0    3.000000    3.0     1.0  \n",
       "1    0.000000    1.0     0.0  \n",
       "2    1.500000    2.0     1.0  \n",
       "3    2.500000    3.0     1.0  \n",
       "4    1.300000    1.0     0.0  \n",
       "..        ...    ...     ...  \n",
       "193  0.000000    1.0     1.0  \n",
       "194  0.000000    1.0     1.0  \n",
       "197  0.000000    1.0     1.0  \n",
       "198  1.320833    1.0     0.0  \n",
       "199  0.000000    1.0     1.0  \n",
       "\n",
       "[181 rows x 12 columns]"
      ]
     },
     "execution_count": 113,
     "metadata": {},
     "output_type": "execute_result"
    }
   ],
   "source": [
    "#Assign the value to df_new which are less the threshold value and removing the outliers\n",
    "df_new=df[(z<3).all(axis=1)]\n",
    "df_new"
   ]
  },
  {
   "cell_type": "code",
   "execution_count": 114,
   "metadata": {},
   "outputs": [
    {
     "name": "stdout",
     "output_type": "stream",
     "text": [
      "(200, 12) \t (181, 12)\n"
     ]
    }
   ],
   "source": [
    "print(df.shape, '\\t' , df_new.shape)"
   ]
  },
  {
   "cell_type": "code",
   "execution_count": 115,
   "metadata": {},
   "outputs": [
    {
     "name": "stdout",
     "output_type": "stream",
     "text": [
      "(181, 12)\n"
     ]
    }
   ],
   "source": [
    "df=df_new\n",
    "print(df.shape)"
   ]
  },
  {
   "cell_type": "code",
   "execution_count": 116,
   "metadata": {},
   "outputs": [],
   "source": [
    "collist=df.columns.values\n",
    "ncol=12\n",
    "nrow=10"
   ]
  },
  {
   "cell_type": "code",
   "execution_count": 117,
   "metadata": {},
   "outputs": [
    {
     "data": {
      "image/png": "[encoded data removed]",
      "text/plain": [
       "<Figure size 864x1080 with 12 Axes>"
      ]
     },
     "metadata": {
      "needs_background": "light"
     },
     "output_type": "display_data"
    }
   ],
   "source": [
    "plt.figure(figsize=(12,15))\n",
    "for i in range(0,len(collist)):\n",
    "    plt.subplot(nrow,ncol,i+1)\n",
    "    sns.boxplot(df[collist[i]],color='red',orient='v')\n",
    "    plt.tight_layout()"
   ]
  },
  {
   "cell_type": "code",
   "execution_count": 118,
   "metadata": {},
   "outputs": [
    {
     "name": "stdout",
     "output_type": "stream",
     "text": [
      "Mean of Age is: 59.430939226519335\n",
      "Mean of trestbps is: 134.44858809085343\n",
      "Mean of thalach is: 121.67076333295753\n"
     ]
    }
   ],
   "source": [
    "#age , tresbps, thalach mean value\n",
    "mean=['Age','trestbps','thalach']\n",
    "for i in mean:\n",
    "    df_mean = df[i].mean()\n",
    "    print('Mean of', i ,'is:', df_mean)"
   ]
  },
  {
   "cell_type": "code",
   "execution_count": 119,
   "metadata": {},
   "outputs": [],
   "source": [
    "#now finding the mean value of each column and replacing with outlier value\n",
    "df.loc[df['Age']<45,'Age'] = np.mean(df['Age'])\n",
    "df.loc[df['trestbps']<100,'trestbps'] = np.mean(df['trestbps'])\n",
    "df.loc[df['trestbps']>150,'trestbps'] = np.mean(df['trestbps'])\n",
    "df.loc[df['thalach']>130,'thalach'] = np.mean(df['thalach'])\n",
    "df.loc[df['thalach']<110,'thalach'] = np.mean(df['thalach'])"
   ]
  },
  {
   "cell_type": "code",
   "execution_count": 120,
   "metadata": {},
   "outputs": [
    {
     "data": {
      "text/plain": [
       "Age            AxesSubplot(0.125,0.749828;0.133621x0.130172)\n",
       "Sex         AxesSubplot(0.285345,0.749828;0.133621x0.130172)\n",
       "Cp           AxesSubplot(0.44569,0.749828;0.133621x0.130172)\n",
       "trestbps    AxesSubplot(0.606034,0.749828;0.133621x0.130172)\n",
       "chol        AxesSubplot(0.766379,0.749828;0.133621x0.130172)\n",
       "fbs            AxesSubplot(0.125,0.593621;0.133621x0.130172)\n",
       "restecg     AxesSubplot(0.285345,0.593621;0.133621x0.130172)\n",
       "thalach      AxesSubplot(0.44569,0.593621;0.133621x0.130172)\n",
       "exang       AxesSubplot(0.606034,0.593621;0.133621x0.130172)\n",
       "oldpeak     AxesSubplot(0.766379,0.593621;0.133621x0.130172)\n",
       "slope          AxesSubplot(0.125,0.437414;0.133621x0.130172)\n",
       "target      AxesSubplot(0.285345,0.437414;0.133621x0.130172)\n",
       "dtype: object"
      ]
     },
     "execution_count": 120,
     "metadata": {},
     "output_type": "execute_result"
    },
    {
     "data": {
      "image/png": "[encoded data removed]",
      "text/plain": [
       "<Figure size 1080x1080 with 25 Axes>"
      ]
     },
     "metadata": {
      "needs_background": "light"
     },
     "output_type": "display_data"
    }
   ],
   "source": [
    "df.plot(kind=\"box\",subplots=True,layout=(5,5),figsize=(15,15))"
   ]
  },
  {
   "cell_type": "markdown",
   "metadata": {},
   "source": [
    "Observation:\n",
    "    1. Outliers are removed from Age,Cp and thalach."
   ]
  },
  {
   "cell_type": "code",
   "execution_count": 121,
   "metadata": {},
   "outputs": [
    {
     "data": {
      "image/png": "[encoded data removed]",
      "text/plain": [
       "<Figure size 2160x1440 with 12 Axes>"
      ]
     },
     "metadata": {
      "needs_background": "light"
     },
     "output_type": "display_data"
    }
   ],
   "source": [
    "plt.figure(figsize=(30,20))\n",
    "for i in range(0,len(collist)):\n",
    "    plt.subplot(nrow,ncol,i+1)\n",
    "    sns.distplot(df[collist[i]],color='green')\n",
    "    plt.tight_layout()"
   ]
  },
  {
   "cell_type": "markdown",
   "metadata": {},
   "source": [
    "Observation:\n",
    "    \n",
    "    1. From above visualisation all continous series are normally distributed .Therefore here no data is skewed."
   ]
  },
  {
   "cell_type": "code",
   "execution_count": 122,
   "metadata": {},
   "outputs": [],
   "source": [
    "#dropping target variable from X as it has to be predicted.\n",
    "#assign the value of y for training and testing phase\n",
    "xc = df.drop(columns=['target'])\n",
    "yc = df[['target']]\n",
    "#First using Average price as the target variable\n"
   ]
  },
  {
   "cell_type": "code",
   "execution_count": 123,
   "metadata": {},
   "outputs": [],
   "source": [
    "#importing classifier model libraries\n",
    "from sklearn.metrics import accuracy_score,classification_report,confusion_matrix,roc_auc_score,roc_curve\n",
    "from sklearn.linear_model import LogisticRegression\n",
    "from sklearn.naive_bayes import MultinomialNB\n",
    "from sklearn.neighbors import KNeighborsClassifier\n",
    "from sklearn.ensemble import RandomForestClassifier\n",
    "from sklearn.svm import SVC\n",
    "from sklearn.tree import DecisionTreeClassifier\n",
    "from sklearn.ensemble import AdaBoostClassifier,GradientBoostingClassifier\n",
    "from sklearn.model_selection import cross_val_score\n",
    "from sklearn import metrics\n",
    "from sklearn.preprocessing import LabelEncoder,StandardScaler\n",
    "from sklearn.model_selection import train_test_split,GridSearchCV\n"
   ]
  },
  {
   "cell_type": "code",
   "execution_count": 131,
   "metadata": {},
   "outputs": [
    {
     "data": {
      "text/html": [
       "<div>\n",
       "<style scoped>\n",
       "    .dataframe tbody tr th:only-of-type {\n",
       "        vertical-align: middle;\n",
       "    }\n",
       "\n",
       "    .dataframe tbody tr th {\n",
       "        vertical-align: top;\n",
       "    }\n",
       "\n",
       "    .dataframe thead th {\n",
       "        text-align: right;\n",
       "    }\n",
       "</style>\n",
       "<table border=\"1\" class=\"dataframe\">\n",
       "  <thead>\n",
       "    <tr style=\"text-align: right;\">\n",
       "      <th></th>\n",
       "      <th>Age</th>\n",
       "      <th>Sex</th>\n",
       "      <th>Cp</th>\n",
       "      <th>trestbps</th>\n",
       "      <th>chol</th>\n",
       "      <th>fbs</th>\n",
       "      <th>restecg</th>\n",
       "      <th>thalach</th>\n",
       "      <th>exang</th>\n",
       "      <th>oldpeak</th>\n",
       "      <th>slope</th>\n",
       "    </tr>\n",
       "  </thead>\n",
       "  <tbody>\n",
       "    <tr>\n",
       "      <th>0</th>\n",
       "      <td>0.411708</td>\n",
       "      <td>1.0</td>\n",
       "      <td>4.0</td>\n",
       "      <td>0.954202</td>\n",
       "      <td>0.736579</td>\n",
       "      <td>0.0</td>\n",
       "      <td>1.0</td>\n",
       "      <td>-1.849307</td>\n",
       "      <td>1.0</td>\n",
       "      <td>3.000000</td>\n",
       "      <td>3.0</td>\n",
       "    </tr>\n",
       "    <tr>\n",
       "      <th>1</th>\n",
       "      <td>-0.145725</td>\n",
       "      <td>1.0</td>\n",
       "      <td>4.0</td>\n",
       "      <td>-0.069468</td>\n",
       "      <td>0.281095</td>\n",
       "      <td>0.0</td>\n",
       "      <td>1.0</td>\n",
       "      <td>1.503928</td>\n",
       "      <td>0.0</td>\n",
       "      <td>0.000000</td>\n",
       "      <td>1.0</td>\n",
       "    </tr>\n",
       "    <tr>\n",
       "      <th>2</th>\n",
       "      <td>-0.056847</td>\n",
       "      <td>1.0</td>\n",
       "      <td>4.0</td>\n",
       "      <td>0.135266</td>\n",
       "      <td>0.361475</td>\n",
       "      <td>0.0</td>\n",
       "      <td>1.0</td>\n",
       "      <td>0.312582</td>\n",
       "      <td>1.0</td>\n",
       "      <td>1.500000</td>\n",
       "      <td>2.0</td>\n",
       "    </tr>\n",
       "    <tr>\n",
       "      <th>3</th>\n",
       "      <td>-0.837771</td>\n",
       "      <td>1.0</td>\n",
       "      <td>4.0</td>\n",
       "      <td>1.158936</td>\n",
       "      <td>0.450785</td>\n",
       "      <td>0.0</td>\n",
       "      <td>1.0</td>\n",
       "      <td>0.312582</td>\n",
       "      <td>1.0</td>\n",
       "      <td>2.500000</td>\n",
       "      <td>3.0</td>\n",
       "    </tr>\n",
       "    <tr>\n",
       "      <th>4</th>\n",
       "      <td>0.880263</td>\n",
       "      <td>1.0</td>\n",
       "      <td>3.0</td>\n",
       "      <td>-2.116808</td>\n",
       "      <td>0.316819</td>\n",
       "      <td>1.0</td>\n",
       "      <td>2.0</td>\n",
       "      <td>-0.877835</td>\n",
       "      <td>1.0</td>\n",
       "      <td>1.300000</td>\n",
       "      <td>1.0</td>\n",
       "    </tr>\n",
       "    <tr>\n",
       "      <th>...</th>\n",
       "      <td>...</td>\n",
       "      <td>...</td>\n",
       "      <td>...</td>\n",
       "      <td>...</td>\n",
       "      <td>...</td>\n",
       "      <td>...</td>\n",
       "      <td>...</td>\n",
       "      <td>...</td>\n",
       "      <td>...</td>\n",
       "      <td>...</td>\n",
       "      <td>...</td>\n",
       "    </tr>\n",
       "    <tr>\n",
       "      <th>193</th>\n",
       "      <td>0.255523</td>\n",
       "      <td>1.0</td>\n",
       "      <td>4.0</td>\n",
       "      <td>0.407666</td>\n",
       "      <td>-0.067216</td>\n",
       "      <td>0.0</td>\n",
       "      <td>1.0</td>\n",
       "      <td>0.312582</td>\n",
       "      <td>0.0</td>\n",
       "      <td>0.000000</td>\n",
       "      <td>1.0</td>\n",
       "    </tr>\n",
       "    <tr>\n",
       "      <th>194</th>\n",
       "      <td>-2.243436</td>\n",
       "      <td>1.0</td>\n",
       "      <td>4.0</td>\n",
       "      <td>0.340000</td>\n",
       "      <td>1.183132</td>\n",
       "      <td>0.0</td>\n",
       "      <td>0.0</td>\n",
       "      <td>1.280379</td>\n",
       "      <td>0.0</td>\n",
       "      <td>0.000000</td>\n",
       "      <td>1.0</td>\n",
       "    </tr>\n",
       "    <tr>\n",
       "      <th>197</th>\n",
       "      <td>-0.837771</td>\n",
       "      <td>1.0</td>\n",
       "      <td>4.0</td>\n",
       "      <td>-0.888404</td>\n",
       "      <td>0.406130</td>\n",
       "      <td>1.0</td>\n",
       "      <td>1.0</td>\n",
       "      <td>-0.877835</td>\n",
       "      <td>0.0</td>\n",
       "      <td>0.000000</td>\n",
       "      <td>1.0</td>\n",
       "    </tr>\n",
       "    <tr>\n",
       "      <th>198</th>\n",
       "      <td>-0.369216</td>\n",
       "      <td>1.0</td>\n",
       "      <td>4.0</td>\n",
       "      <td>0.315830</td>\n",
       "      <td>1.852961</td>\n",
       "      <td>1.0</td>\n",
       "      <td>2.0</td>\n",
       "      <td>0.564110</td>\n",
       "      <td>1.0</td>\n",
       "      <td>1.320833</td>\n",
       "      <td>1.0</td>\n",
       "    </tr>\n",
       "    <tr>\n",
       "      <th>199</th>\n",
       "      <td>0.255523</td>\n",
       "      <td>1.0</td>\n",
       "      <td>2.0</td>\n",
       "      <td>-1.093138</td>\n",
       "      <td>0.682993</td>\n",
       "      <td>0.0</td>\n",
       "      <td>2.0</td>\n",
       "      <td>-0.877835</td>\n",
       "      <td>0.0</td>\n",
       "      <td>0.000000</td>\n",
       "      <td>1.0</td>\n",
       "    </tr>\n",
       "  </tbody>\n",
       "</table>\n",
       "<p>181 rows × 11 columns</p>\n",
       "</div>"
      ],
      "text/plain": [
       "          Age  Sex   Cp  trestbps      chol  fbs  restecg   thalach  exang  \\\n",
       "0    0.411708  1.0  4.0  0.954202  0.736579  0.0      1.0 -1.849307    1.0   \n",
       "1   -0.145725  1.0  4.0 -0.069468  0.281095  0.0      1.0  1.503928    0.0   \n",
       "2   -0.056847  1.0  4.0  0.135266  0.361475  0.0      1.0  0.312582    1.0   \n",
       "3   -0.837771  1.0  4.0  1.158936  0.450785  0.0      1.0  0.312582    1.0   \n",
       "4    0.880263  1.0  3.0 -2.116808  0.316819  1.0      2.0 -0.877835    1.0   \n",
       "..        ...  ...  ...       ...       ...  ...      ...       ...    ...   \n",
       "193  0.255523  1.0  4.0  0.407666 -0.067216  0.0      1.0  0.312582    0.0   \n",
       "194 -2.243436  1.0  4.0  0.340000  1.183132  0.0      0.0  1.280379    0.0   \n",
       "197 -0.837771  1.0  4.0 -0.888404  0.406130  1.0      1.0 -0.877835    0.0   \n",
       "198 -0.369216  1.0  4.0  0.315830  1.852961  1.0      2.0  0.564110    1.0   \n",
       "199  0.255523  1.0  2.0 -1.093138  0.682993  0.0      2.0 -0.877835    0.0   \n",
       "\n",
       "      oldpeak  slope  \n",
       "0    3.000000    3.0  \n",
       "1    0.000000    1.0  \n",
       "2    1.500000    2.0  \n",
       "3    2.500000    3.0  \n",
       "4    1.300000    1.0  \n",
       "..        ...    ...  \n",
       "193  0.000000    1.0  \n",
       "194  0.000000    1.0  \n",
       "197  0.000000    1.0  \n",
       "198  1.320833    1.0  \n",
       "199  0.000000    1.0  \n",
       "\n",
       "[181 rows x 11 columns]"
      ]
     },
     "execution_count": 131,
     "metadata": {},
     "output_type": "execute_result"
    }
   ],
   "source": [
    "#Standardizing value of x by using standardscalar to make the data normally distributed\n",
    "from sklearn.preprocessing import LabelEncoder,StandardScaler\n",
    "sc = StandardScaler()\n",
    "col_to_scale = [\"Age\",\"trestbps\",\"chol\",\"thalach\"]\n",
    "xc[col_to_scale]=sc.fit_transform(xc[col_to_scale])\n",
    "df_xc = pd.DataFrame(xc)\n",
    "df_xc"
   ]
  },
  {
   "cell_type": "code",
   "execution_count": 133,
   "metadata": {},
   "outputs": [],
   "source": [
    "from sklearn.metrics import f1_score\n",
    "def max_acc_score(names,model_c,df_xc,yc):\n",
    "    accuracy_scr_max = 0\n",
    "    for r_state in range(42,100):\n",
    "        train_xc,test_xc,train_yc,test_yc = train_test_split(df_xc,yc,random_state = r_state,test_size = 0.2,stratify = yc)\n",
    "        model_c.fit(train_xc,train_yc)\n",
    "        accuracy_scr = f1_score(test_yc,model_c.predict(test_xc))\n",
    "        if accuracy_scr> accuracy_scr_max:\n",
    "            accuracy_scr_max=accuracy_scr\n",
    "            final_state = r_state\n",
    "            final_model = model_c\n",
    "            mean_acc = cross_val_score(final_model,df_xc,yc,cv=5,scoring=\"f1\").mean()\n",
    "            std_dev = cross_val_score(final_model,df_xc,yc,cv=5,scoring=\"f1\").std()\n",
    "            cross_val = cross_val_score(final_model,df_xc,yc,cv=5,scoring=\"f1\")\n",
    "    print(\"Results for model : \",names,'\\n',\n",
    "          \"max accuracy score correspond to random state \" ,final_state , \"is\" , accuracy_scr_max ,'\\n',\n",
    "          \"Mean accuracy score is : \",mean_acc,'\\n',\n",
    "          \"Std deviation score is : \",std_dev,'\\n',\n",
    "          \"Cross validation scores are :  \" ,cross_val) \n",
    "    print('*'*100)"
   ]
  },
  {
   "cell_type": "code",
   "execution_count": 134,
   "metadata": {},
   "outputs": [
    {
     "name": "stdout",
     "output_type": "stream",
     "text": [
      "Results for model :  Logistic Regression \n",
      " max accuracy score correspond to random state  93 is 0.9180327868852458 \n",
      " Mean accuracy score is :  0.8654240152646733 \n",
      " Std deviation score is :  0.029924089843096507 \n",
      " Cross validation scores are :   [0.875      0.88888889 0.87096774 0.8852459  0.80701754]\n",
      "****************************************************************************************************\n",
      "Results for model :  Random Forest \n",
      " max accuracy score correspond to random state  64 is 0.8852459016393442 \n",
      " Mean accuracy score is :  0.8529651733776535 \n",
      " Std deviation score is :  0.04965287618400196 \n",
      " Cross validation scores are :   [0.8852459  0.90322581 0.83333333 0.86666667 0.76363636]\n",
      "****************************************************************************************************\n",
      "Results for model :  SVM \n",
      " max accuracy score correspond to random state  42 is 0.8615384615384616 \n",
      " Mean accuracy score is :  0.8651648351648351 \n",
      " Std deviation score is :  0.00818920976795669 \n",
      " Cross validation scores are :   [0.86153846 0.875      0.875      0.85714286 0.85714286]\n",
      "****************************************************************************************************\n",
      "Results for model :  KNN \n",
      " max accuracy score correspond to random state  64 is 0.888888888888889 \n",
      " Mean accuracy score is :  0.8240266249150887 \n",
      " Std deviation score is :  0.05358964339281773 \n",
      " Cross validation scores are :   [0.875      0.83333333 0.81355932 0.87096774 0.72727273]\n",
      "****************************************************************************************************\n",
      "Results for model :  Decision Tree Classifier \n",
      " max accuracy score correspond to random state  60 is 0.8813559322033899 \n",
      " Mean accuracy score is :  0.7827671311739108 \n",
      " Std deviation score is :  0.05392474415061161 \n",
      " Cross validation scores are :   [0.82758621 0.91525424 0.76923077 0.76363636 0.70588235]\n",
      "****************************************************************************************************\n"
     ]
    }
   ],
   "source": [
    "#Now by using multiple Algorithms we are calculating the best model which suit best for our data set \n",
    "F1,accuracy,STD,MEAN,CV,models,NAME = [],[],[],[],[],[],[]\n",
    "cross_val,std_dev,mean_acc,accuracy_scr_max = 0,0,0,0\n",
    "\n",
    "models.append(('Logistic Regression', LogisticRegression()))\n",
    "models.append(('Random Forest', RandomForestClassifier()))\n",
    "models.append(('SVM', SVC()))\n",
    "models.append(('KNN', KNeighborsClassifier()))\n",
    "models.append(('Decision Tree Classifier', DecisionTreeClassifier()))\n",
    "\n",
    "for names,model_c in models:\n",
    "    max_acc_score(names,model_c,df_xc,yc)   \n",
    "   "
   ]
  },
  {
   "cell_type": "markdown",
   "metadata": {},
   "source": [
    "Observation:\n",
    "    \n",
    "    1.From initial model values Logistic Regression and RandomForest Classifier are performing better than others.\n",
    "    2. We will now estimate best parameters for them individually."
   ]
  },
  {
   "cell_type": "code",
   "execution_count": 136,
   "metadata": {},
   "outputs": [
    {
     "name": "stdout",
     "output_type": "stream",
     "text": [
      "Best parameter :  {'C': 0.001} \n",
      "Best Estimator :  LogisticRegression(C=0.001) \n",
      "Best Score :  1.0\n",
      "Selected Features :  11\n",
      "Existing features :  11\n"
     ]
    }
   ],
   "source": [
    "#Estimating parameters of Logisgic Regression for best fit\n",
    "log_rg=LogisticRegression()\n",
    "parameters={\"C\":[0.001,0.01,0.1,1,10] }\n",
    "clf = GridSearchCV(log_rg, parameters, cv=5,scoring=\"accuracy\")\n",
    "clf.fit(df_xc,yc)\n",
    "best_lr = clf.best_estimator_\n",
    "coefs = best_lr.coef_\n",
    "print(\"Best parameter : \",clf.best_params_,\"\\nBest Estimator : \", clf.best_estimator_,\"\\nBest Score : \", clf.best_score_)\n",
    "print(\"Selected Features : \",format( np.count_nonzero(coefs)))\n",
    "print(\"Existing features : \", format(coefs.size))"
   ]
  },
  {
   "cell_type": "code",
   "execution_count": 137,
   "metadata": {},
   "outputs": [
    {
     "name": "stdout",
     "output_type": "stream",
     "text": [
      "Results for model :  Logistic Regression \n",
      " max accuracy score correspond to random state  42 is 0.8615384615384616 \n",
      " Mean accuracy score is :  0.8651648351648351 \n",
      " Std deviation score is :  0.00818920976795669 \n",
      " Cross validation scores are :   [0.86153846 0.875      0.875      0.85714286 0.85714286]\n",
      "****************************************************************************************************\n"
     ]
    }
   ],
   "source": [
    "log_rg=LogisticRegression(C=0.001)\n",
    "max_acc_score(\"Logistic Regression\" ,log_rg,df_xc,yc)"
   ]
  },
  {
   "cell_type": "code",
   "execution_count": 138,
   "metadata": {},
   "outputs": [
    {
     "name": "stdout",
     "output_type": "stream",
     "text": [
      "Best parameter :  {'n_estimators': 100} \n",
      "Best Estimator :  RandomForestClassifier() \n",
      "Best Score :  0.7623123123123123\n"
     ]
    }
   ],
   "source": [
    "# Estimating best n_estimator using grid search for Randomforest Classifier\n",
    "parameters={\"n_estimators\":[10,100,500]}\n",
    "rf_clf=RandomForestClassifier()\n",
    "clf = GridSearchCV(rf_clf, parameters, cv=5,scoring=\"accuracy\")\n",
    "clf.fit(df_xc,yc)\n",
    "print(\"Best parameter : \",clf.best_params_,\"\\nBest Estimator : \", clf.best_estimator_,\"\\nBest Score : \", clf.best_score_)"
   ]
  },
  {
   "cell_type": "code",
   "execution_count": 139,
   "metadata": {},
   "outputs": [
    {
     "name": "stdout",
     "output_type": "stream",
     "text": [
      "Results for model :  RandomForest Classifier \n",
      " max accuracy score correspond to random state  68 is 0.888888888888889 \n",
      " Mean accuracy score is :  0.851121351766513 \n",
      " Std deviation score is :  0.05019632870520939 \n",
      " Cross validation scores are :   [0.86666667 0.90322581 0.85245902 0.86666667 0.76363636]\n",
      "****************************************************************************************************\n"
     ]
    }
   ],
   "source": [
    "#Again running RFC with n_estimator = 100\n",
    "rf_clf=RandomForestClassifier(n_estimators=100)\n",
    "max_acc_score(\"RandomForest Classifier\",rf_clf,df_xc,yc)"
   ]
  },
  {
   "cell_type": "markdown",
   "metadata": {},
   "source": [
    "Observation:\n",
    "    1. Logistic Regression is performing best as accuracy score  is closest to 1  and Standard Deviation is closest to 0."
   ]
  },
  {
   "cell_type": "code",
   "execution_count": 140,
   "metadata": {},
   "outputs": [],
   "source": [
    "xc_train,xc_test,yc_train,yc_test=train_test_split(df_xc, yc,test_size=0.2,stratify=yc)\n",
    "log_rg.fit(xc_train,yc_train)\n",
    "yc_pred=rf_clf.predict(xc_test)"
   ]
  },
  {
   "cell_type": "code",
   "execution_count": 141,
   "metadata": {},
   "outputs": [
    {
     "name": "stdout",
     "output_type": "stream",
     "text": [
      "accuracy score is :  0.8918918918918919\n",
      "classification report \n",
      "               precision    recall  f1-score   support\n",
      "\n",
      "         0.0       1.00      0.56      0.71         9\n",
      "         1.0       0.88      1.00      0.93        28\n",
      "\n",
      "    accuracy                           0.89        37\n",
      "   macro avg       0.94      0.78      0.82        37\n",
      "weighted avg       0.91      0.89      0.88        37\n",
      "\n"
     ]
    },
    {
     "data": {
      "text/plain": [
       "<matplotlib.axes._subplots.AxesSubplot at 0x255033c01c0>"
      ]
     },
     "execution_count": 141,
     "metadata": {},
     "output_type": "execute_result"
    },
    {
     "data": {
      "image/png": "[encoded data removed]",
      "text/plain": [
       "<Figure size 432x288 with 2 Axes>"
      ]
     },
     "metadata": {
      "needs_background": "light"
     },
     "output_type": "display_data"
    }
   ],
   "source": [
    "from sklearn.metrics import confusion_matrix\n",
    "from sklearn.metrics import classification_report\n",
    "from sklearn.metrics import roc_auc_score\n",
    "\n",
    "print(\"accuracy score is : \",accuracy_score(yc_test,yc_pred))\n",
    "print(\"classification report \\n\",classification_report(yc_test,yc_pred))\n",
    "\n",
    "cnf = confusion_matrix(yc_test,yc_pred)\n",
    "sns.heatmap(cnf, annot=True, cmap = \"magma\")"
   ]
  },
  {
   "cell_type": "code",
   "execution_count": 142,
   "metadata": {},
   "outputs": [
    {
     "data": {
      "text/plain": [
       "<matplotlib.axes._subplots.AxesSubplot at 0x255032350a0>"
      ]
     },
     "execution_count": 142,
     "metadata": {},
     "output_type": "execute_result"
    },
    {
     "data": {
      "image/png": "[encoded data removed]",
      "text/plain": [
       "<Figure size 432x288 with 2 Axes>"
      ]
     },
     "metadata": {
      "needs_background": "light"
     },
     "output_type": "display_data"
    }
   ],
   "source": [
    "sns.heatmap(cnf/np.sum(cnf), annot=True, \n",
    "            fmt='.2%', cmap='Blues')"
   ]
  },
  {
   "cell_type": "markdown",
   "metadata": {},
   "source": [
    "Observation:\n",
    "    1. As per confusion matrix  with True and actual value is 90% accurate ."
   ]
  },
  {
   "cell_type": "code",
   "execution_count": 144,
   "metadata": {},
   "outputs": [],
   "source": [
    "pred_pb=log_rg.predict_proba(xc_test)[:,1]\n",
    "Fpr,Tpr,thresholds = roc_curve(yc_test,pred_pb,pos_label=True)"
   ]
  },
  {
   "cell_type": "markdown",
   "metadata": {},
   "source": [
    "# AUC_ROC Curve"
   ]
  },
  {
   "cell_type": "code",
   "execution_count": 145,
   "metadata": {},
   "outputs": [
    {
     "data": {
      "image/png": "[encoded data removed]",
      "text/plain": [
       "<Figure size 432x288 with 1 Axes>"
      ]
     },
     "metadata": {
      "needs_background": "light"
     },
     "output_type": "display_data"
    }
   ],
   "source": [
    "#plotting the graph for area under curve for representing accuracy of data\n",
    "plt.plot([0,1],[1,0],'g--')\n",
    "plt.plot(Fpr,Tpr)\n",
    "plt.xlabel('False_Positive_Rate')\n",
    "plt.ylabel('True_Positive_Rate')\n",
    "plt.title(\"Logistic Regression\")\n",
    "plt.show()"
   ]
  },
  {
   "cell_type": "markdown",
   "metadata": {},
   "source": [
    "Logistic Regression  is working well because it gives the best accuracy score as compared to other models.\n",
    "\n",
    "So we save Logistic Regression as our final Model."
   ]
  },
  {
   "cell_type": "markdown",
   "metadata": {},
   "source": [
    "# Saving Final Model"
   ]
  },
  {
   "cell_type": "code",
   "execution_count": 146,
   "metadata": {},
   "outputs": [
    {
     "data": {
      "text/plain": [
       "['log_rg_heartdisease.pkl']"
      ]
     },
     "execution_count": 146,
     "metadata": {},
     "output_type": "execute_result"
    }
   ],
   "source": [
    "import joblib\n",
    "#save the model as a pickle in a file \n",
    "joblib.dump(log_rg,'log_rg_heartdisease.pkl')"
   ]
  },
  {
   "cell_type": "code",
   "execution_count": null,
   "metadata": {},
   "outputs": [],
   "source": []
  }
 ],
 "metadata": {
  "kernelspec": {
   "display_name": "Python 3",
   "language": "python",
   "name": "python3"
  },
  "language_info": {
   "codemirror_mode": {
    "name": "ipython",
    "version": 3
   },
   "file_extension": ".py",
   "mimetype": "text/x-python",
   "name": "python",
   "nbconvert_exporter": "python",
   "pygments_lexer": "ipython3",
   "version": "3.8.3"
  }
 },
 "nbformat": 4,
 "nbformat_minor": 4
}
